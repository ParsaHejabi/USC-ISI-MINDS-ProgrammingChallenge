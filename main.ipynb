{
 "cells": [
  {
   "cell_type": "code",
   "execution_count": 12,
   "metadata": {
    "collapsed": true
   },
   "outputs": [],
   "source": [
    "import pandas as pd"
   ]
  },
  {
   "cell_type": "code",
   "execution_count": 13,
   "outputs": [],
   "source": [
    "data = pd.read_csv('./messages_languages.csv', index_col=0)"
   ],
   "metadata": {
    "collapsed": false,
    "pycharm": {
     "name": "#%%\n"
    }
   }
  },
  {
   "cell_type": "code",
   "execution_count": 14,
   "outputs": [
    {
     "data": {
      "text/plain": "      language     score                                               text  \\\n0           sw  0.999996                                                 hi   \n1           en  0.999997                                do indicators work?   \n2           en  0.999996  If you trade true gbp for gbp Fiat or vice Ver...   \n3           en  0.999995                          And how much is that fee?   \n4           en  0.999998                     If you’re a silver card holder   \n...        ...       ...                                                ...   \n49364       pt  0.857141                                           Yea I do   \n49365       en  0.714282                            I beleive it will tank.   \n49366       en  0.999998  Are you worry that too many see that URL is a ...   \n49367       en  0.999996  Dammit i want some fake giveaways too. Where i...   \n49368       en  0.714285                                      Too much fake   \n\n                      date  \n0      2021-05-01T00:00:12  \n1      2021-05-01T00:01:13  \n2      2021-05-01T00:01:50  \n3      2021-05-01T00:02:05  \n4      2021-05-01T00:02:12  \n...                    ...  \n49364  2021-05-15T23:56:33  \n49365  2021-05-15T23:57:02  \n49366  2021-05-15T23:57:16  \n49367  2021-05-15T23:58:56  \n49368  2021-05-15T23:59:40  \n\n[49369 rows x 4 columns]",
      "text/html": "<div>\n<style scoped>\n    .dataframe tbody tr th:only-of-type {\n        vertical-align: middle;\n    }\n\n    .dataframe tbody tr th {\n        vertical-align: top;\n    }\n\n    .dataframe thead th {\n        text-align: right;\n    }\n</style>\n<table border=\"1\" class=\"dataframe\">\n  <thead>\n    <tr style=\"text-align: right;\">\n      <th></th>\n      <th>language</th>\n      <th>score</th>\n      <th>text</th>\n      <th>date</th>\n    </tr>\n  </thead>\n  <tbody>\n    <tr>\n      <th>0</th>\n      <td>sw</td>\n      <td>0.999996</td>\n      <td>hi</td>\n      <td>2021-05-01T00:00:12</td>\n    </tr>\n    <tr>\n      <th>1</th>\n      <td>en</td>\n      <td>0.999997</td>\n      <td>do indicators work?</td>\n      <td>2021-05-01T00:01:13</td>\n    </tr>\n    <tr>\n      <th>2</th>\n      <td>en</td>\n      <td>0.999996</td>\n      <td>If you trade true gbp for gbp Fiat or vice Ver...</td>\n      <td>2021-05-01T00:01:50</td>\n    </tr>\n    <tr>\n      <th>3</th>\n      <td>en</td>\n      <td>0.999995</td>\n      <td>And how much is that fee?</td>\n      <td>2021-05-01T00:02:05</td>\n    </tr>\n    <tr>\n      <th>4</th>\n      <td>en</td>\n      <td>0.999998</td>\n      <td>If you’re a silver card holder</td>\n      <td>2021-05-01T00:02:12</td>\n    </tr>\n    <tr>\n      <th>...</th>\n      <td>...</td>\n      <td>...</td>\n      <td>...</td>\n      <td>...</td>\n    </tr>\n    <tr>\n      <th>49364</th>\n      <td>pt</td>\n      <td>0.857141</td>\n      <td>Yea I do</td>\n      <td>2021-05-15T23:56:33</td>\n    </tr>\n    <tr>\n      <th>49365</th>\n      <td>en</td>\n      <td>0.714282</td>\n      <td>I beleive it will tank.</td>\n      <td>2021-05-15T23:57:02</td>\n    </tr>\n    <tr>\n      <th>49366</th>\n      <td>en</td>\n      <td>0.999998</td>\n      <td>Are you worry that too many see that URL is a ...</td>\n      <td>2021-05-15T23:57:16</td>\n    </tr>\n    <tr>\n      <th>49367</th>\n      <td>en</td>\n      <td>0.999996</td>\n      <td>Dammit i want some fake giveaways too. Where i...</td>\n      <td>2021-05-15T23:58:56</td>\n    </tr>\n    <tr>\n      <th>49368</th>\n      <td>en</td>\n      <td>0.714285</td>\n      <td>Too much fake</td>\n      <td>2021-05-15T23:59:40</td>\n    </tr>\n  </tbody>\n</table>\n<p>49369 rows × 4 columns</p>\n</div>"
     },
     "execution_count": 14,
     "metadata": {},
     "output_type": "execute_result"
    }
   ],
   "source": [
    "data"
   ],
   "metadata": {
    "collapsed": false,
    "pycharm": {
     "name": "#%%\n"
    }
   }
  },
  {
   "cell_type": "code",
   "execution_count": 15,
   "outputs": [],
   "source": [
    "data['words_count'] = data['text'].apply(lambda x: len(str(x).split()))"
   ],
   "metadata": {
    "collapsed": false,
    "pycharm": {
     "name": "#%%\n"
    }
   }
  },
  {
   "cell_type": "code",
   "execution_count": 16,
   "outputs": [],
   "source": [
    "data = data[data['words_count'] >= 3]"
   ],
   "metadata": {
    "collapsed": false,
    "pycharm": {
     "name": "#%%\n"
    }
   }
  },
  {
   "cell_type": "code",
   "execution_count": 17,
   "outputs": [],
   "source": [
    "data = data[data['language'] == 'en']"
   ],
   "metadata": {
    "collapsed": false,
    "pycharm": {
     "name": "#%%\n"
    }
   }
  },
  {
   "cell_type": "code",
   "execution_count": 18,
   "outputs": [],
   "source": [
    "data = data[data['text'].str.contains('SHIB|DOGE') == True]"
   ],
   "metadata": {
    "collapsed": false,
    "pycharm": {
     "name": "#%%\n"
    }
   }
  },
  {
   "cell_type": "code",
   "execution_count": 19,
   "outputs": [
    {
     "data": {
      "text/plain": "      language     score                                               text  \\\n1816        en  0.999996  If DOGE is more worth than CRO for now, who kn...   \n2036        en  0.999994                                  HOW ABOUT DOGE???   \n3943        en  0.999999  Congratulations rue*****@*****com!\\n🚀 You are ...   \n5394        en  0.999997  Congratulations rue*****@*****com!\\n🚀 You are ...   \n5824        en  0.999997                      DOGE coin is up by +16.39%🚀🚀🚀   \n...        ...       ...                                                ...   \n49091       en  0.999997  Is there a way I can see how much volume of SH...   \n49092       en  0.999996  From where to buy SHIB in India, any leads ple...   \n49094       en  0.999997         SHIB is listed through the Cryptocom App 🙏   \n49103       en  0.999996                Binance listed SHIB just this week.   \n49341       en  0.999995  Whole crypto market is being dominated by bear...   \n\n                      date  words_count  \n1816   2021-05-01T16:40:46           18  \n2036   2021-05-01T19:21:28            3  \n3943   2021-05-02T21:16:47           41  \n5394   2021-05-03T12:16:38           41  \n5824   2021-05-03T16:44:13            6  \n...                    ...          ...  \n49091  2021-05-15T21:01:50           19  \n49092  2021-05-15T21:04:06           11  \n49094  2021-05-15T21:08:02            8  \n49103  2021-05-15T21:13:01            6  \n49341  2021-05-15T23:38:34           41  \n\n[428 rows x 5 columns]",
      "text/html": "<div>\n<style scoped>\n    .dataframe tbody tr th:only-of-type {\n        vertical-align: middle;\n    }\n\n    .dataframe tbody tr th {\n        vertical-align: top;\n    }\n\n    .dataframe thead th {\n        text-align: right;\n    }\n</style>\n<table border=\"1\" class=\"dataframe\">\n  <thead>\n    <tr style=\"text-align: right;\">\n      <th></th>\n      <th>language</th>\n      <th>score</th>\n      <th>text</th>\n      <th>date</th>\n      <th>words_count</th>\n    </tr>\n  </thead>\n  <tbody>\n    <tr>\n      <th>1816</th>\n      <td>en</td>\n      <td>0.999996</td>\n      <td>If DOGE is more worth than CRO for now, who kn...</td>\n      <td>2021-05-01T16:40:46</td>\n      <td>18</td>\n    </tr>\n    <tr>\n      <th>2036</th>\n      <td>en</td>\n      <td>0.999994</td>\n      <td>HOW ABOUT DOGE???</td>\n      <td>2021-05-01T19:21:28</td>\n      <td>3</td>\n    </tr>\n    <tr>\n      <th>3943</th>\n      <td>en</td>\n      <td>0.999999</td>\n      <td>Congratulations rue*****@*****com!\\n🚀 You are ...</td>\n      <td>2021-05-02T21:16:47</td>\n      <td>41</td>\n    </tr>\n    <tr>\n      <th>5394</th>\n      <td>en</td>\n      <td>0.999997</td>\n      <td>Congratulations rue*****@*****com!\\n🚀 You are ...</td>\n      <td>2021-05-03T12:16:38</td>\n      <td>41</td>\n    </tr>\n    <tr>\n      <th>5824</th>\n      <td>en</td>\n      <td>0.999997</td>\n      <td>DOGE coin is up by +16.39%🚀🚀🚀</td>\n      <td>2021-05-03T16:44:13</td>\n      <td>6</td>\n    </tr>\n    <tr>\n      <th>...</th>\n      <td>...</td>\n      <td>...</td>\n      <td>...</td>\n      <td>...</td>\n      <td>...</td>\n    </tr>\n    <tr>\n      <th>49091</th>\n      <td>en</td>\n      <td>0.999997</td>\n      <td>Is there a way I can see how much volume of SH...</td>\n      <td>2021-05-15T21:01:50</td>\n      <td>19</td>\n    </tr>\n    <tr>\n      <th>49092</th>\n      <td>en</td>\n      <td>0.999996</td>\n      <td>From where to buy SHIB in India, any leads ple...</td>\n      <td>2021-05-15T21:04:06</td>\n      <td>11</td>\n    </tr>\n    <tr>\n      <th>49094</th>\n      <td>en</td>\n      <td>0.999997</td>\n      <td>SHIB is listed through the Cryptocom App 🙏</td>\n      <td>2021-05-15T21:08:02</td>\n      <td>8</td>\n    </tr>\n    <tr>\n      <th>49103</th>\n      <td>en</td>\n      <td>0.999996</td>\n      <td>Binance listed SHIB just this week.</td>\n      <td>2021-05-15T21:13:01</td>\n      <td>6</td>\n    </tr>\n    <tr>\n      <th>49341</th>\n      <td>en</td>\n      <td>0.999995</td>\n      <td>Whole crypto market is being dominated by bear...</td>\n      <td>2021-05-15T23:38:34</td>\n      <td>41</td>\n    </tr>\n  </tbody>\n</table>\n<p>428 rows × 5 columns</p>\n</div>"
     },
     "execution_count": 19,
     "metadata": {},
     "output_type": "execute_result"
    }
   ],
   "source": [
    "data"
   ],
   "metadata": {
    "collapsed": false,
    "pycharm": {
     "name": "#%%\n"
    }
   }
  },
  {
   "cell_type": "markdown",
   "source": [
    "# NLTK"
   ],
   "metadata": {
    "collapsed": false
   }
  },
  {
   "cell_type": "code",
   "execution_count": 20,
   "outputs": [
    {
     "name": "stderr",
     "output_type": "stream",
     "text": [
      "[nltk_data] Downloading package stopwords to\n",
      "[nltk_data]     C:\\Users\\parsa\\AppData\\Roaming\\nltk_data...\n",
      "[nltk_data]   Package stopwords is already up-to-date!\n",
      "[nltk_data] Downloading package punkt to\n",
      "[nltk_data]     C:\\Users\\parsa\\AppData\\Roaming\\nltk_data...\n",
      "[nltk_data]   Package punkt is already up-to-date!\n"
     ]
    },
    {
     "data": {
      "text/plain": "True"
     },
     "execution_count": 20,
     "metadata": {},
     "output_type": "execute_result"
    }
   ],
   "source": [
    "import nltk\n",
    "nltk.download('stopwords')\n",
    "nltk.download('punkt')"
   ],
   "metadata": {
    "collapsed": false,
    "pycharm": {
     "name": "#%%\n"
    }
   }
  },
  {
   "cell_type": "code",
   "execution_count": 21,
   "outputs": [],
   "source": [
    "texts = pd.DataFrame(data[['text','date']]).reset_index().drop('index', axis=1)"
   ],
   "metadata": {
    "collapsed": false,
    "pycharm": {
     "name": "#%%\n"
    }
   }
  },
  {
   "cell_type": "code",
   "execution_count": 22,
   "outputs": [
    {
     "data": {
      "text/plain": "                                                  text                 date\n0    If DOGE is more worth than CRO for now, who kn...  2021-05-01T16:40:46\n1                                    HOW ABOUT DOGE???  2021-05-01T19:21:28\n2    Congratulations rue*****@*****com!\\n🚀 You are ...  2021-05-02T21:16:47\n3    Congratulations rue*****@*****com!\\n🚀 You are ...  2021-05-03T12:16:38\n4                        DOGE coin is up by +16.39%🚀🚀🚀  2021-05-03T16:44:13\n..                                                 ...                  ...\n423  Is there a way I can see how much volume of SH...  2021-05-15T21:01:50\n424  From where to buy SHIB in India, any leads ple...  2021-05-15T21:04:06\n425         SHIB is listed through the Cryptocom App 🙏  2021-05-15T21:08:02\n426                Binance listed SHIB just this week.  2021-05-15T21:13:01\n427  Whole crypto market is being dominated by bear...  2021-05-15T23:38:34\n\n[428 rows x 2 columns]",
      "text/html": "<div>\n<style scoped>\n    .dataframe tbody tr th:only-of-type {\n        vertical-align: middle;\n    }\n\n    .dataframe tbody tr th {\n        vertical-align: top;\n    }\n\n    .dataframe thead th {\n        text-align: right;\n    }\n</style>\n<table border=\"1\" class=\"dataframe\">\n  <thead>\n    <tr style=\"text-align: right;\">\n      <th></th>\n      <th>text</th>\n      <th>date</th>\n    </tr>\n  </thead>\n  <tbody>\n    <tr>\n      <th>0</th>\n      <td>If DOGE is more worth than CRO for now, who kn...</td>\n      <td>2021-05-01T16:40:46</td>\n    </tr>\n    <tr>\n      <th>1</th>\n      <td>HOW ABOUT DOGE???</td>\n      <td>2021-05-01T19:21:28</td>\n    </tr>\n    <tr>\n      <th>2</th>\n      <td>Congratulations rue*****@*****com!\\n🚀 You are ...</td>\n      <td>2021-05-02T21:16:47</td>\n    </tr>\n    <tr>\n      <th>3</th>\n      <td>Congratulations rue*****@*****com!\\n🚀 You are ...</td>\n      <td>2021-05-03T12:16:38</td>\n    </tr>\n    <tr>\n      <th>4</th>\n      <td>DOGE coin is up by +16.39%🚀🚀🚀</td>\n      <td>2021-05-03T16:44:13</td>\n    </tr>\n    <tr>\n      <th>...</th>\n      <td>...</td>\n      <td>...</td>\n    </tr>\n    <tr>\n      <th>423</th>\n      <td>Is there a way I can see how much volume of SH...</td>\n      <td>2021-05-15T21:01:50</td>\n    </tr>\n    <tr>\n      <th>424</th>\n      <td>From where to buy SHIB in India, any leads ple...</td>\n      <td>2021-05-15T21:04:06</td>\n    </tr>\n    <tr>\n      <th>425</th>\n      <td>SHIB is listed through the Cryptocom App 🙏</td>\n      <td>2021-05-15T21:08:02</td>\n    </tr>\n    <tr>\n      <th>426</th>\n      <td>Binance listed SHIB just this week.</td>\n      <td>2021-05-15T21:13:01</td>\n    </tr>\n    <tr>\n      <th>427</th>\n      <td>Whole crypto market is being dominated by bear...</td>\n      <td>2021-05-15T23:38:34</td>\n    </tr>\n  </tbody>\n</table>\n<p>428 rows × 2 columns</p>\n</div>"
     },
     "execution_count": 22,
     "metadata": {},
     "output_type": "execute_result"
    }
   ],
   "source": [
    "texts"
   ],
   "metadata": {
    "collapsed": false,
    "pycharm": {
     "name": "#%%\n"
    }
   }
  },
  {
   "cell_type": "code",
   "execution_count": 23,
   "outputs": [
    {
     "data": {
      "text/plain": "'!\"#$%&\\'()*+,-./:;<=>?@[\\\\]^_`{|}~'"
     },
     "execution_count": 23,
     "metadata": {},
     "output_type": "execute_result"
    }
   ],
   "source": [
    "import string\n",
    "import re\n",
    "string.punctuation"
   ],
   "metadata": {
    "collapsed": false,
    "pycharm": {
     "name": "#%%\n"
    }
   }
  },
  {
   "cell_type": "code",
   "execution_count": 24,
   "outputs": [],
   "source": [
    "def clean_text(text):\n",
    "    text = re.sub(r\"http\\S+\", \"\", text)\n",
    "    text = re.sub(\"(@[A-Za-z0-9_]+)\",\"\", text)\n",
    "    # remove numbers\n",
    "    text_nonum = re.sub(r'\\d+', '', text)\n",
    "    # remove punctuations and convert characters to lower case\n",
    "    text_nopunct = \"\".join([char.lower() for char in text_nonum if char not in string.punctuation])\n",
    "    text_nopunct = re.sub(r'’', '', text_nopunct)\n",
    "\n",
    "    emoji_pattern = re.compile(\"[\"\n",
    "                           u\"\\U0001F600-\\U0001F64F\"  # emoticons\n",
    "                           u\"\\U0001F300-\\U0001F5FF\"  # symbols & pictographs\n",
    "                           u\"\\U0001F680-\\U0001F6FF\"  # transport & map symbols\n",
    "                           u\"\\U0001F1E0-\\U0001F1FF\"  # flags (iOS)\n",
    "                           u\"\\U00002702-\\U000027B0\"\n",
    "                           u\"\\U000024C2-\\U0001F251\"\n",
    "                           \"]+\", flags=re.UNICODE)\n",
    "    # substitute multiple whitespace with single whitespace\n",
    "    # Also, removes leading and trailing whitespaces\n",
    "    text_no_doublespace = re.sub('\\s+', ' ', emoji_pattern.sub(r'', text_nopunct)).strip()\n",
    "    return text_no_doublespace"
   ],
   "metadata": {
    "collapsed": false,
    "pycharm": {
     "name": "#%%\n"
    }
   }
  },
  {
   "cell_type": "code",
   "execution_count": 25,
   "outputs": [
    {
     "data": {
      "text/plain": "                                                  text                 date  \\\n0    If DOGE is more worth than CRO for now, who kn...  2021-05-01T16:40:46   \n1                                    HOW ABOUT DOGE???  2021-05-01T19:21:28   \n2    Congratulations rue*****@*****com!\\n🚀 You are ...  2021-05-02T21:16:47   \n3    Congratulations rue*****@*****com!\\n🚀 You are ...  2021-05-03T12:16:38   \n4                        DOGE coin is up by +16.39%🚀🚀🚀  2021-05-03T16:44:13   \n..                                                 ...                  ...   \n423  Is there a way I can see how much volume of SH...  2021-05-15T21:01:50   \n424  From where to buy SHIB in India, any leads ple...  2021-05-15T21:04:06   \n425         SHIB is listed through the Cryptocom App 🙏  2021-05-15T21:08:02   \n426                Binance listed SHIB just this week.  2021-05-15T21:13:01   \n427  Whole crypto market is being dominated by bear...  2021-05-15T23:38:34   \n\n                                            clean_text  \n0    if doge is more worth than cro for now who kno...  \n1                                       how about doge  \n2    congratulations ruecom you are the weekly luck...  \n3    congratulations ruecom you are the weekly luck...  \n4                                   doge coin is up by  \n..                                                 ...  \n423  is there a way i can see how much volume of sh...  \n424   from where to buy shib in india any leads please  \n425           shib is listed through the cryptocom app  \n426                 binance listed shib just this week  \n427  whole crypto market is being dominated by bear...  \n\n[428 rows x 3 columns]",
      "text/html": "<div>\n<style scoped>\n    .dataframe tbody tr th:only-of-type {\n        vertical-align: middle;\n    }\n\n    .dataframe tbody tr th {\n        vertical-align: top;\n    }\n\n    .dataframe thead th {\n        text-align: right;\n    }\n</style>\n<table border=\"1\" class=\"dataframe\">\n  <thead>\n    <tr style=\"text-align: right;\">\n      <th></th>\n      <th>text</th>\n      <th>date</th>\n      <th>clean_text</th>\n    </tr>\n  </thead>\n  <tbody>\n    <tr>\n      <th>0</th>\n      <td>If DOGE is more worth than CRO for now, who kn...</td>\n      <td>2021-05-01T16:40:46</td>\n      <td>if doge is more worth than cro for now who kno...</td>\n    </tr>\n    <tr>\n      <th>1</th>\n      <td>HOW ABOUT DOGE???</td>\n      <td>2021-05-01T19:21:28</td>\n      <td>how about doge</td>\n    </tr>\n    <tr>\n      <th>2</th>\n      <td>Congratulations rue*****@*****com!\\n🚀 You are ...</td>\n      <td>2021-05-02T21:16:47</td>\n      <td>congratulations ruecom you are the weekly luck...</td>\n    </tr>\n    <tr>\n      <th>3</th>\n      <td>Congratulations rue*****@*****com!\\n🚀 You are ...</td>\n      <td>2021-05-03T12:16:38</td>\n      <td>congratulations ruecom you are the weekly luck...</td>\n    </tr>\n    <tr>\n      <th>4</th>\n      <td>DOGE coin is up by +16.39%🚀🚀🚀</td>\n      <td>2021-05-03T16:44:13</td>\n      <td>doge coin is up by</td>\n    </tr>\n    <tr>\n      <th>...</th>\n      <td>...</td>\n      <td>...</td>\n      <td>...</td>\n    </tr>\n    <tr>\n      <th>423</th>\n      <td>Is there a way I can see how much volume of SH...</td>\n      <td>2021-05-15T21:01:50</td>\n      <td>is there a way i can see how much volume of sh...</td>\n    </tr>\n    <tr>\n      <th>424</th>\n      <td>From where to buy SHIB in India, any leads ple...</td>\n      <td>2021-05-15T21:04:06</td>\n      <td>from where to buy shib in india any leads please</td>\n    </tr>\n    <tr>\n      <th>425</th>\n      <td>SHIB is listed through the Cryptocom App 🙏</td>\n      <td>2021-05-15T21:08:02</td>\n      <td>shib is listed through the cryptocom app</td>\n    </tr>\n    <tr>\n      <th>426</th>\n      <td>Binance listed SHIB just this week.</td>\n      <td>2021-05-15T21:13:01</td>\n      <td>binance listed shib just this week</td>\n    </tr>\n    <tr>\n      <th>427</th>\n      <td>Whole crypto market is being dominated by bear...</td>\n      <td>2021-05-15T23:38:34</td>\n      <td>whole crypto market is being dominated by bear...</td>\n    </tr>\n  </tbody>\n</table>\n<p>428 rows × 3 columns</p>\n</div>"
     },
     "execution_count": 25,
     "metadata": {},
     "output_type": "execute_result"
    }
   ],
   "source": [
    "texts['clean_text']= texts['text'].apply(lambda x:clean_text(x))\n",
    "texts"
   ],
   "metadata": {
    "collapsed": false,
    "pycharm": {
     "name": "#%%\n"
    }
   }
  },
  {
   "cell_type": "code",
   "execution_count": 26,
   "outputs": [
    {
     "name": "stderr",
     "output_type": "stream",
     "text": [
      "[nltk_data] Downloading package wordnet to\n",
      "[nltk_data]     C:\\Users\\parsa\\AppData\\Roaming\\nltk_data...\n",
      "[nltk_data]   Package wordnet is already up-to-date!\n",
      "[nltk_data] Downloading package averaged_perceptron_tagger to\n",
      "[nltk_data]     C:\\Users\\parsa\\AppData\\Roaming\\nltk_data...\n",
      "[nltk_data]   Package averaged_perceptron_tagger is already up-to-\n",
      "[nltk_data]       date!\n"
     ]
    },
    {
     "data": {
      "text/plain": "True"
     },
     "execution_count": 26,
     "metadata": {},
     "output_type": "execute_result"
    }
   ],
   "source": [
    "nltk.download('wordnet')\n",
    "nltk.download('averaged_perceptron_tagger')"
   ],
   "metadata": {
    "collapsed": false,
    "pycharm": {
     "name": "#%%\n"
    }
   }
  },
  {
   "cell_type": "code",
   "execution_count": 27,
   "outputs": [],
   "source": [
    "tokenized_text = []"
   ],
   "metadata": {
    "collapsed": false,
    "pycharm": {
     "name": "#%%\n"
    }
   }
  },
  {
   "cell_type": "code",
   "execution_count": 28,
   "outputs": [],
   "source": [
    "for text in texts['clean_text'].tolist():\n",
    "    tokenized_text.append(nltk.word_tokenize(text))"
   ],
   "metadata": {
    "collapsed": false,
    "pycharm": {
     "name": "#%%\n"
    }
   }
  },
  {
   "cell_type": "code",
   "execution_count": 29,
   "outputs": [
    {
     "name": "stdout",
     "output_type": "stream",
     "text": [
      "[('eth', 'RB'), ('doge', 'NN'), ('bnb', 'NN'), ('leading', 'VBG'), ('the', 'DT'), ('market', 'NN'), ('making', 'VBG'), ('new', 'JJ'), ('all', 'DT'), ('time', 'NN'), ('highs', 'NNS')]\n"
     ]
    }
   ],
   "source": [
    "from nltk.tag import pos_tag\n",
    "print(pos_tag(tokenized_text[6]))"
   ],
   "metadata": {
    "collapsed": false,
    "pycharm": {
     "name": "#%%\n"
    }
   }
  },
  {
   "cell_type": "code",
   "execution_count": 30,
   "outputs": [],
   "source": [
    "from nltk.stem.wordnet import WordNetLemmatizer"
   ],
   "metadata": {
    "collapsed": false,
    "pycharm": {
     "name": "#%%\n"
    }
   }
  },
  {
   "cell_type": "code",
   "execution_count": 31,
   "outputs": [],
   "source": [
    "stopwords = nltk.corpus.stopwords.words(\"english\")"
   ],
   "metadata": {
    "collapsed": false,
    "pycharm": {
     "name": "#%%\n"
    }
   }
  },
  {
   "cell_type": "code",
   "execution_count": 32,
   "outputs": [],
   "source": [
    "def lemmatize_sentence(tokens):\n",
    "    lemmatizer = WordNetLemmatizer()\n",
    "    lemmatized_sentence = []\n",
    "    for word, tag in pos_tag(tokens):\n",
    "        if tag.startswith('NN'):\n",
    "            pos = 'n'\n",
    "        elif tag.startswith('VB'):\n",
    "            pos = 'v'\n",
    "        else:\n",
    "            pos = 'a'\n",
    "        token = lemmatizer.lemmatize(word, pos)\n",
    "        lemmatized_sentence.append(token)\n",
    "        # if len(token) > 0 and token not in stopwords:\n",
    "        #     lemmatized_sentence.append(token)\n",
    "    return lemmatized_sentence"
   ],
   "metadata": {
    "collapsed": false,
    "pycharm": {
     "name": "#%%\n"
    }
   }
  },
  {
   "cell_type": "code",
   "execution_count": 33,
   "outputs": [
    {
     "name": "stdout",
     "output_type": "stream",
     "text": [
      "['if', 'doge', 'be', 'more', 'worth', 'than', 'cro', 'for', 'now', 'who', 'know', 'what', 'cro', 'will', 'do', 'in', 'the', 'future']\n"
     ]
    }
   ],
   "source": [
    "print(lemmatize_sentence(tokenized_text[0]))"
   ],
   "metadata": {
    "collapsed": false,
    "pycharm": {
     "name": "#%%\n"
    }
   }
  },
  {
   "cell_type": "code",
   "execution_count": 34,
   "outputs": [
    {
     "data": {
      "text/plain": "[['if',\n  'doge',\n  'be',\n  'more',\n  'worth',\n  'than',\n  'cro',\n  'for',\n  'now',\n  'who',\n  'know',\n  'what',\n  'cro',\n  'will',\n  'do',\n  'in',\n  'the',\n  'future'],\n ['how', 'about', 'doge'],\n ['congratulation',\n  'ruecom',\n  'you',\n  'be',\n  'the',\n  'weekly',\n  'lucky',\n  'draw',\n  'winner',\n  'of',\n  'our',\n  'doge',\n  'treat',\n  'extravaganza',\n  'you',\n  'have',\n  'win',\n  'usd',\n  'an',\n  'exclusive',\n  'doge',\n  'nft',\n  'check',\n  'out',\n  'the',\n  'top',\n  'winner',\n  'here',\n  'with',\n  'the',\n  'high',\n  'number',\n  'of',\n  'doge',\n  'point'],\n ['congratulation',\n  'ruecom',\n  'you',\n  'be',\n  'the',\n  'weekly',\n  'lucky',\n  'draw',\n  'winner',\n  'of',\n  'our',\n  'doge',\n  'treat',\n  'extravaganza',\n  'you',\n  'have',\n  'win',\n  'usd',\n  'an',\n  'exclusive',\n  'doge',\n  'nft',\n  'check',\n  'out',\n  'the',\n  'top',\n  'winner',\n  'here',\n  'with',\n  'the',\n  'high',\n  'number',\n  'of',\n  'doge',\n  'point'],\n ['doge', 'coin', 'be', 'up', 'by'],\n ['your',\n  'do',\n  'not',\n  'receive',\n  'your',\n  'doge',\n  'from',\n  'the',\n  'supercharger'],\n ['eth',\n  'doge',\n  'bnb',\n  'lead',\n  'the',\n  'market',\n  'make',\n  'new',\n  'all',\n  'time',\n  'high'],\n ['get',\n  'x',\n  'leverage',\n  'with',\n  'the',\n  'dogeusd',\n  'perpetual',\n  'contract',\n  'm',\n  'tps',\n  'match',\n  'engine',\n  'take',\n  'long',\n  'or',\n  'short',\n  'position',\n  'with',\n  'no',\n  'expiry',\n  'date',\n  'stake',\n  'cro',\n  'for',\n  'low',\n  'trading',\n  'fee',\n  'learn',\n  'more'],\n ['invest',\n  'in',\n  'a',\n  'coin',\n  'with',\n  'fundamental',\n  'doge',\n  'doesnt',\n  'have',\n  'fundamental',\n  'but',\n  'be',\n  'a',\n  'meme',\n  'coin',\n  'it',\n  'be',\n  'purely',\n  'random',\n  'if',\n  'doge',\n  'will',\n  'go',\n  'up',\n  'further',\n  'it',\n  'might',\n  'it',\n  'might',\n  'not',\n  'i',\n  'hope',\n  'i',\n  'be',\n  'not',\n  'warn',\n  'for',\n  'this',\n  'statement',\n  'as',\n  'it',\n  'be',\n  'purely',\n  'make',\n  'of',\n  'fact',\n  'and',\n  'doesnt',\n  'give',\n  'any',\n  'opinion',\n  'financial',\n  'advice',\n  'apart',\n  'from',\n  'invest',\n  'in',\n  'a',\n  'coin',\n  'with',\n  'fundamental'],\n ['system', 'network', 'hatwork', 'backworkdoge', 'in'],\n ['how', 'doge', 'point', 'work'],\n ['when', 'be', 'doge', 'expect', 'to', 'crash'],\n ['absolutely',\n  'centralize',\n  'a',\n  'few',\n  'address',\n  'hold',\n  'the',\n  'majority',\n  'of',\n  'coin',\n  'doge',\n  'like',\n  'invest',\n  'in',\n  'usd',\n  'or',\n  'eur',\n  'maybe',\n  'its',\n  'a',\n  'good',\n  'trade',\n  'shortterm',\n  'but',\n  'longterm',\n  'theyre',\n  'try',\n  'to',\n  'distract',\n  'people',\n  'from',\n  'valuable',\n  'coin',\n  'imo'],\n ['omg',\n  'how',\n  'can',\n  'people',\n  'suggest',\n  'doge',\n  'come',\n  'on',\n  'how',\n  'long',\n  'be',\n  'you',\n  'into',\n  'crypto',\n  'maybe',\n  'its',\n  'grow',\n  'for',\n  'a',\n  'few',\n  'day',\n  'or',\n  'week',\n  'you',\n  'never',\n  'know',\n  'but',\n  'remember',\n  'my',\n  'word',\n  'you',\n  'will',\n  'lose',\n  'a',\n  'shitton',\n  'of',\n  'money',\n  'longterm'],\n ['careful',\n  'about',\n  'prediction',\n  'i',\n  'just',\n  'get',\n  'an',\n  'infraction',\n  'for',\n  'shill',\n  'doge'],\n ['do',\n  'you',\n  'sell',\n  'your',\n  'doge',\n  'for',\n  'fiat',\n  'on',\n  'the',\n  'app',\n  'or',\n  'on',\n  'the',\n  'exchange'],\n ['hi',\n  'you',\n  'can',\n  'trade',\n  'doge',\n  'with',\n  'up',\n  'to',\n  'x',\n  'leverage',\n  'on',\n  'the',\n  'cryptocom',\n  'exchange'],\n ['if',\n  'you',\n  'invest',\n  'into',\n  'doge',\n  'january',\n  'st',\n  'it',\n  'would',\n  'now',\n  'be',\n  'worth',\n  'over',\n  'k',\n  'mind',\n  'blowing'],\n ['this', 'be', 'a', 'group', 'about', 'cryptocom', 'not', 'doge'],\n ['any', 'prediction', 'on', 'doge'],\n ['any', 'one', 'have', 'idea', 'for', 'doge', 'coin', 'hold', 'or', 'sell'],\n ['ok', 'be', 'doge', 'about', 'to', 'fall'],\n ['doge', 'be', 'trash'],\n ['please', 'ask', 'in', 'the', 'doge', 'group', 'not', 'here'],\n ['hi',\n  'there',\n  'yes',\n  'you',\n  'can',\n  'buy',\n  'doge',\n  'on',\n  'the',\n  'cryptocom',\n  'app',\n  'for',\n  'the',\n  'full',\n  'list',\n  'of',\n  'supported',\n  'token',\n  'on',\n  'the',\n  'cryptocom',\n  'app',\n  'please',\n  'check',\n  'out',\n  'this',\n  'article'],\n ['so', 'what', 'be', 'doge', 'on', 'the', 'exchange'],\n ['be',\n  'there',\n  'any',\n  'assumption',\n  'or',\n  'prediction',\n  'or',\n  'advise',\n  'om',\n  'dogecoin'],\n ['hello',\n  'to',\n  'all',\n  'i',\n  'want',\n  'to',\n  'buy',\n  'dogecoin',\n  'be',\n  'there',\n  'any',\n  'toturial',\n  'to',\n  'teach',\n  'how',\n  'to',\n  'buy',\n  'doge'],\n ['ask', 'in', 'the', 'doge', 'group', 'not', 'here'],\n ['trader', 'have', 'coin', 'the', 'word', 'doge', 'morning'],\n ['greet',\n  'to',\n  'all',\n  'anyone',\n  'know',\n  'about',\n  'the',\n  'high',\n  'price',\n  'prediction',\n  'of',\n  'doge',\n  'coin',\n  'and',\n  'what',\n  'price',\n  'range',\n  'we',\n  'should',\n  'order',\n  'to',\n  'sell',\n  'it'],\n ['i',\n  'feel',\n  'like',\n  'doge',\n  'will',\n  'go',\n  'for',\n  'a',\n  'long',\n  'time',\n  'its',\n  'here',\n  'to',\n  'stay'],\n ['trade',\n  'dogecoin',\n  'in',\n  'the',\n  'cryptocom',\n  'app',\n  'and',\n  'enter',\n  'to',\n  'win',\n  'a',\n  'share',\n  'of',\n  'usd',\n  'in',\n  'doge',\n  'winner',\n  'select',\n  'weekly',\n  'two',\n  'week',\n  'leave',\n  'be',\n  'also',\n  'give',\n  'away',\n  'edition',\n  'of',\n  'morysettas',\n  'doge',\n  'nft',\n  'detail'],\n ['hi',\n  'my',\n  'mobile',\n  'app',\n  'have',\n  'a',\n  'different',\n  'amount',\n  'on',\n  'supercharger',\n  'than',\n  'the',\n  'desktop',\n  'exchange',\n  'app',\n  'i',\n  'sell',\n  'the',\n  'doge',\n  'and',\n  'buy',\n  'some',\n  'cro',\n  'how',\n  'can',\n  'i',\n  'sync',\n  'them',\n  'i',\n  'want',\n  'to',\n  'see',\n  'a',\n  'single',\n  'amount',\n  'on',\n  'the',\n  'supercharger',\n  'how',\n  'can',\n  'i',\n  'do',\n  'it'],\n ['hello',\n  'can',\n  'someone',\n  'explan',\n  'in',\n  'the',\n  'doge',\n  'treat',\n  'extravaganza',\n  'usd',\n  'in',\n  'doge',\n  'prize',\n  'if',\n  'i',\n  'have',\n  'k',\n  'doge',\n  'in',\n  'the',\n  'cryptocom',\n  'exchange',\n  'and',\n  'buy',\n  'via',\n  'app',\n  'the',\n  'usd',\n  'and',\n  'also',\n  'transfer',\n  'them',\n  'to',\n  'cryptocom',\n  'exchange',\n  'do',\n  'i',\n  'participate',\n  'and',\n  'it',\n  'will',\n  'be',\n  'count',\n  'correctly',\n  'or',\n  'must',\n  'the',\n  'deposit',\n  'and',\n  'all',\n  'happen',\n  'in',\n  'the',\n  'app'],\n ['fetch',\n  'some',\n  'shib',\n  '🦴',\n  'get',\n  'the',\n  'app',\n  'to',\n  'start',\n  'trading',\n  'cryptoonelinkmejlgfdd'],\n ['holy', 'cow', 'cdc', 'list', 'shib', '🤤'],\n ['why', 'cant', 'buy', 'shib'],\n ['be', 'the', 'shiba', 'inu', 'available', 'to', 'buy', 'in', 'the', 'usa'],\n ['be', 'the', 'shiba', 'inu', 'available', 'to', 'buy', 'in', 'the', 'usa'],\n ['be',\n  'the',\n  'shiba',\n  'inu',\n  'available',\n  'to',\n  'buy',\n  'in',\n  'the',\n  'usa',\n  'i',\n  'be',\n  'not',\n  'able',\n  'to',\n  'buy',\n  'in',\n  'the',\n  'app'],\n ['the',\n  'time',\n  'have',\n  'arrive',\n  'to',\n  'say',\n  'goodbye',\n  'to',\n  'cro',\n  'i',\n  'have',\n  'make',\n  'profit',\n  'from',\n  'the',\n  'doge',\n  'i',\n  'receive',\n  'from',\n  'the',\n  'supercharger',\n  'event',\n  'than',\n  'the',\n  'cro',\n  'i',\n  'have',\n  'be',\n  'hodling',\n  'since',\n  'aug',\n  'cheer'],\n ['you',\n  'can',\n  'check',\n  'shib',\n  'status',\n  'over',\n  'there',\n  'but',\n  'cant',\n  'buy',\n  'right',\n  'now'],\n ['still', 'cant', 'see', 'shiba', 'on', 'app'],\n ['but', 'this', 'so', 'huge', 'increase', 'in', 'hour', 'shib'],\n ['click', 'on', 'track', 'than', 'type', 'shib'],\n ['please', 'team', 'list', 'the', 'shib', 'right', 'now'],\n ['please',\n  'can',\n  'anyone',\n  'tell',\n  'me',\n  'how',\n  'to',\n  'buy',\n  'shiba',\n  'on',\n  'cryptocom',\n  'please',\n  'i',\n  'like',\n  'in',\n  'the',\n  'uk'],\n ['please',\n  'can',\n  'anyone',\n  'tell',\n  'me',\n  'how',\n  'to',\n  'buy',\n  'shiba',\n  'on',\n  'cryptocom',\n  'please',\n  'i',\n  'like',\n  'in',\n  'the',\n  'uk'],\n ['hey', 'any', 'update', 'on', 'doge', 'please'],\n ['why',\n  'be',\n  'my',\n  'account',\n  'without',\n  'any',\n  'value',\n  'after',\n  'buy',\n  'shiba'],\n ['crypto',\n  'com',\n  'i',\n  'be',\n  'really',\n  'dissapointed',\n  'learn',\n  'nothing',\n  'from',\n  'doge',\n  'crash'],\n ['uniswap', 'have', 'shib'],\n ['i',\n  'need',\n  'to',\n  'buy',\n  'shiba',\n  'cdc',\n  'should',\n  'expect',\n  'this',\n  'to',\n  'happen',\n  'with',\n  'the',\n  'doge',\n  'fiasco',\n  'last',\n  'time'],\n ['hi', 'how', 'trade', 'shib'],\n ['many',\n  'be',\n  'try',\n  'to',\n  'access',\n  'the',\n  'app',\n  'at',\n  'the',\n  'same',\n  'time',\n  'an',\n  'weve',\n  'list',\n  'shiba',\n  'for',\n  'trading'],\n ['shibfyi',\n  'have',\n  'go',\n  'from',\n  'to',\n  'so',\n  'far',\n  'during',\n  'the',\n  'cryptocom',\n  'app',\n  'crasha',\n  'lot',\n  'of',\n  'people',\n  'arent',\n  'go',\n  'to',\n  'be',\n  'happy'],\n ['we', 'we', 'all', 'go', 'to', 'miss', 'shiba'],\n ['lol',\n  'time',\n  'to',\n  'find',\n  'another',\n  'app🤣🤣🤣🤣',\n  'they',\n  'dont',\n  'want',\n  'us',\n  'to',\n  'invest',\n  'in',\n  'shibah',\n  'they',\n  'dont',\n  'want',\n  'to',\n  'pay',\n  'us',\n  'the',\n  'million',\n  'in',\n  'profit'],\n ['more',\n  'them',\n  'one',\n  'hour',\n  'no',\n  'any',\n  'response',\n  'from',\n  'crypto',\n  'and',\n  'they',\n  'delete',\n  'my',\n  'message',\n  'why',\n  'cryptocom',\n  'bot',\n  'work',\n  'where',\n  'be',\n  'our',\n  'money',\n  'no',\n  'show',\n  'my',\n  'balance',\n  'i',\n  'cant',\n  'buy',\n  'or',\n  'sell',\n  'bow',\n  'doge',\n  'down',\n  'with',\n  'no',\n  'any',\n  'way',\n  'to',\n  'sell',\n  'before',\n  'really',\n  'this',\n  'be',\n  'not',\n  'first',\n  'time',\n  'i',\n  'lose',\n  'a',\n  'loooot',\n  'because',\n  'cryptocom'],\n ['i', 'need', 'to', 'sell', 'my', 'shiba'],\n ['where', 'to', 'buy', 'shiba'],\n ['im',\n  'losing',\n  'profit',\n  'i',\n  'need',\n  'to',\n  'be',\n  'able',\n  'to',\n  'sell',\n  'my',\n  'shiba',\n  'asap'],\n ['because',\n  'everyone',\n  'be',\n  'sell',\n  'their',\n  'doge',\n  'thats',\n  'why',\n  'all',\n  'exchange',\n  'be',\n  'overwhelmed'],\n ['dogecoin',\n  'go',\n  'up',\n  'to',\n  'thé',\n  'moon',\n  'and',\n  'we',\n  'have',\n  'the',\n  'problme',\n  'with',\n  'the',\n  'app',\n  'oo',\n  'shit',\n  'man',\n  'lol'],\n ['aww', 'cmon', 'man', 'i', 'need', 'me', 'some', 'shib'],\n ['what', 'be', 'shiba'],\n ['why', 'we', 'can', 'not', 'buy', 'shiba'],\n ['all',\n  'the',\n  'spam',\n  'from',\n  'this',\n  'stupid',\n  'bot',\n  'constantly',\n  'flood',\n  'this',\n  'stuoid',\n  'channel',\n  'yet',\n  'we',\n  'cant',\n  'have',\n  'a',\n  'real',\n  'conversation',\n  'in',\n  'here',\n  'due',\n  'to',\n  'the',\n  'minute',\n  'slow',\n  'down',\n  'and',\n  'all',\n  'the',\n  'stupid',\n  'app',\n  'issue',\n  'every',\n  'other',\n  'week',\n  'cryptocom',\n  'be',\n  'a',\n  'big',\n  'meme',\n  'than',\n  'doge'],\n ['hi',\n  'guy',\n  'could',\n  'someone',\n  'explain',\n  'me',\n  'why',\n  'i',\n  'cant',\n  'buy',\n  'any',\n  'coin',\n  'i',\n  'want',\n  'there',\n  'be',\n  'no',\n  'button',\n  'to',\n  'buy',\n  'in',\n  'app',\n  'and',\n  'for',\n  'example',\n  'there',\n  'be',\n  'no',\n  'shib',\n  'coin',\n  'on',\n  'exchange',\n  'why'],\n ['crypto',\n  'be',\n  'not',\n  'for',\n  'trade',\n  'them',\n  'tax',\n  'you',\n  'too',\n  'much',\n  'look',\n  'to',\n  'another',\n  'platform',\n  'and',\n  'i',\n  'know',\n  'that',\n  'platform',\n  'dont',\n  'crash',\n  'to',\n  'lose',\n  'your',\n  'money',\n  'like',\n  'me',\n  'nowshit',\n  'coin',\n  'shiba',\n  'please',\n  'dont',\n  'buy',\n  'shiba'],\n ['please', 'dont', 'buy', 'shiba', 'why'],\n ['hi',\n  'there',\n  'could',\n  'someone',\n  'explain',\n  'me',\n  'why',\n  'i',\n  'cant',\n  'buy',\n  'any',\n  'coin',\n  'i',\n  'want',\n  'for',\n  'example',\n  'i',\n  'want',\n  'to',\n  'buy',\n  'shib',\n  'but',\n  'there',\n  'be',\n  'no',\n  'button',\n  'to',\n  'buy',\n  'in',\n  'the',\n  'app',\n  'and',\n  'there',\n  'be',\n  'no',\n  'coin',\n  'on',\n  'exchange',\n  'usdtshib',\n  'why'],\n ['why',\n  'us',\n  'be',\n  'there',\n  'coin',\n  'list',\n  'on',\n  'cryptocom',\n  'but',\n  'we',\n  'cant',\n  'buy',\n  'them',\n  'eg',\n  'shiba',\n  'inum'],\n ['i',\n  'buy',\n  'm',\n  'shiba',\n  'and',\n  'my',\n  'fund',\n  'arent',\n  'show',\n  'up',\n  'it',\n  'deduct',\n  'money',\n  'from',\n  'my',\n  'bank',\n  'acc',\n  'already',\n  'whats',\n  'go',\n  'on'],\n ['no',\n  'information',\n  'how',\n  'you',\n  'restart',\n  'app',\n  'i',\n  'dont',\n  'have',\n  'buy',\n  'button',\n  'for',\n  'shiba'],\n ['let', 'me', 'buy', 'shiba', 'inu'],\n ['cryptocom', 'app', 'shib', 'buy'],\n ['how', 'to', 'buy', 'shib'],\n ['yeah',\n  'i',\n  'just',\n  'purchase',\n  'shib',\n  'not',\n  'show',\n  'up',\n  'in',\n  'my',\n  'wallet🤔'],\n ['believe',\n  'it',\n  'or',\n  'not',\n  'i',\n  'think',\n  'shib',\n  'be',\n  'now',\n  'at',\n  'the',\n  'bottom'],\n ['can', 'i', 'trade', 'shib', 'on', 'app', 'in', 'usa'],\n ['im',\n  'try',\n  'to',\n  'buy',\n  'shib',\n  'but',\n  'not',\n  'work',\n  'i',\n  'just',\n  'delete',\n  'the',\n  'app',\n  'and',\n  'install',\n  'again',\n  'but',\n  'its',\n  'not',\n  'work',\n  'not',\n  'only',\n  'this',\n  'one',\n  'those',\n  'coin',\n  'which',\n  'be',\n  'very',\n  'cheap',\n  'i',\n  'can',\n  'not',\n  'buy',\n  'it',\n  'could',\n  'you',\n  'please',\n  'helpe',\n  'me'],\n ['a',\n  'few',\n  'hour',\n  'ago',\n  'i',\n  'buy',\n  'doge',\n  'my',\n  'bank',\n  'immediately',\n  'make',\n  'the',\n  'transaction',\n  'but',\n  'on',\n  'the',\n  'app',\n  'it',\n  'give',\n  'me',\n  'the',\n  'error',\n  'price',\n  'expire',\n  'on',\n  'the',\n  'app',\n  'i',\n  'dont',\n  'see',\n  'my',\n  'purchased',\n  'crypto',\n  'do',\n  'you',\n  'know',\n  'why',\n  'tnk'],\n ['hi',\n  'admin',\n  'why',\n  'cant',\n  'i',\n  'see',\n  'tel',\n  'and',\n  'shib',\n  'on',\n  'cryptocom',\n  'app'],\n ['same', 'issue', 'with', 'shib'],\n ['a',\n  'few',\n  'hour',\n  'ago',\n  'i',\n  'buy',\n  'doge',\n  'my',\n  'bank',\n  'immediately',\n  'make',\n  'the',\n  'transaction',\n  'but',\n  'the',\n  'app',\n  'give',\n  'me',\n  'the',\n  'error',\n  'price',\n  'expire',\n  'i',\n  'didnt',\n  'see',\n  'on',\n  'my',\n  'transaction',\n  'the',\n  'doge',\n  'coin',\n  'why'],\n ['im', 'in', 'with', 'shib'],\n ['just', 'buy', 'shib', 'and', 'it', 'isnt', 'show'],\n ['list', 'shib', 'be', 'really', 'disgust', 'for', 'cdc'],\n ['what', 'about', 'shiba'],\n ['hey',\n  'crypto',\n  'i',\n  'just',\n  'buy',\n  'some',\n  'shib',\n  'the',\n  'payment',\n  'time',\n  'out',\n  'but',\n  'the',\n  'money',\n  'have',\n  'leave',\n  'my',\n  'account',\n  'and',\n  'i',\n  'have',\n  'no',\n  'shib'],\n ['be',\n  'there',\n  'an',\n  'admin',\n  'that',\n  'can',\n  'help',\n  'i',\n  'buy',\n  'some',\n  'shiba',\n  'inu',\n  'and',\n  'during',\n  'process',\n  'it',\n  'time',\n  'out',\n  'but',\n  'it',\n  'charge',\n  'my',\n  'card',\n  'but',\n  'i',\n  'didnt',\n  'recieve',\n  'my',\n  'shib'],\n ['how', 'long', 'have', 'shib', 'be', 'available', 'on', 'cryptocom'],\n ['just', 'buy', 'm', 'shiba', 'anyone', 'else', 'who', 'buy'],\n ['let', 'make', 'shiba', 'inu', 'the', 'next', 'dogecoin'],\n ['i',\n  'turn',\n  'some',\n  'ada',\n  'to',\n  'shiba',\n  'and',\n  'it',\n  'work',\n  'perfectly',\n  'fine',\n  'for',\n  'me'],\n ['hehe',\n  'couldnt',\n  'resist',\n  'i',\n  'have',\n  'to',\n  'buy',\n  'some',\n  'shiba',\n  'get',\n  'me',\n  'mil',\n  'shib'],\n ['its',\n  'possible',\n  'my',\n  'coin',\n  'be',\n  'come',\n  'true',\n  'because',\n  'i',\n  'be',\n  'buy',\n  'time',\n  'but',\n  'only',\n  'one',\n  'time',\n  'its',\n  'successful',\n  'and',\n  'other',\n  'time',\n  'its',\n  'crypto',\n  'be',\n  'take',\n  'my',\n  'money',\n  'but',\n  'i',\n  'didnt',\n  'get',\n  'coin',\n  'from',\n  'shib',\n  'coin'],\n ['first',\n  'off',\n  'i',\n  'like',\n  'cdc',\n  'what',\n  'i',\n  'dont',\n  'like',\n  'be',\n  'when',\n  'something',\n  'new',\n  'come',\n  'out',\n  'like',\n  'shib',\n  'to',\n  'the',\n  'platform',\n  'its',\n  'all',\n  'bogged',\n  'down',\n  'i',\n  'be',\n  'simply',\n  'try',\n  'to',\n  'top',\n  'my',\n  'card',\n  'up',\n  'this',\n  'usually',\n  'only',\n  'take',\n  'a',\n  'minute',\n  'but',\n  'today',\n  'it',\n  'show',\n  'in',\n  'the',\n  'fiat',\n  'wallet',\n  'that',\n  'i',\n  'top',\n  'it',\n  'but',\n  'the',\n  'balance',\n  'on',\n  'the',\n  'card',\n  'still',\n  'have',\n  'not',\n  'change',\n  'cmon'],\n ['how', 'can', 'i', 'buy', 'shiba', 'uni', 'shi', 'at', 'cryptocom'],\n ['hi',\n  'help',\n  'please',\n  'i',\n  'have',\n  'purchase',\n  'shiba',\n  'in',\n  'cryptocom',\n  'and',\n  'it',\n  'have',\n  'produce',\n  'an',\n  'error',\n  'and',\n  'i',\n  'cant',\n  'realize',\n  'de',\n  'operation',\n  'but',\n  'money',\n  'yes',\n  'down'],\n ['i',\n  'have',\n  'purchase',\n  'shiba',\n  'in',\n  'cryptocom',\n  'and',\n  'it',\n  'have',\n  'produce',\n  'an',\n  'error',\n  'and',\n  'i',\n  'cant',\n  'realize',\n  'de',\n  'operation',\n  'but',\n  'money',\n  'yes',\n  'down',\n  'i',\n  'do',\n  'it',\n  'time',\n  'and',\n  'i',\n  'though',\n  'it',\n  'didnt',\n  'go',\n  'through',\n  'first',\n  'time',\n  'and',\n  'cryptocom',\n  'have',\n  'deduct',\n  'the',\n  'money',\n  'from',\n  'my',\n  'account',\n  'and',\n  'not',\n  'cryptos',\n  'into',\n  'my',\n  'portfolio'],\n ['why', 'do', 'you', 'guy', 'list', 'shib', 'stupid', 'decision'],\n ['i',\n  'buy',\n  'shiba',\n  'hour',\n  'ago',\n  'the',\n  'money',\n  'go',\n  'but',\n  'i',\n  'cant',\n  'see',\n  'shiba',\n  'in',\n  'my',\n  'account'],\n ['can', 'we', 'buy', 'shib', 'with', 'tgbp'],\n ['shiba', 'inu', 'to', 'moon'],\n ['can',\n  'we',\n  'buy',\n  'shibu',\n  'with',\n  'tgbp',\n  'get',\n  'contact',\n  'support',\n  'error'],\n ['hi', 'i', 'buy', 'shiba', 'and', 'didnt', 'receive', 'it'],\n ['no',\n  'i',\n  'just',\n  'buy',\n  'it',\n  'lol',\n  'new',\n  'to',\n  'this',\n  'crypto',\n  'have',\n  'to',\n  'swap',\n  'from',\n  'btc',\n  'to',\n  'cro',\n  'them',\n  'to',\n  'shiba'],\n ['shiba', 'sound', 'like', 'a', 'doge', 'thats', 'why', 'i', 'buy', 'it'],\n ['i',\n  'just',\n  'buy',\n  'doge',\n  'the',\n  'money',\n  'have',\n  'be',\n  'deduct',\n  'but',\n  'ive',\n  'not',\n  'receive',\n  'the',\n  'token',\n  'please',\n  'how',\n  'do',\n  'i',\n  'report',\n  'that'],\n ['o', 'nice', 'shiba', 'go', 'to', 'the', 'moon'],\n ['hi',\n  'i',\n  'send',\n  'usd',\n  'in',\n  'litecoin',\n  'to',\n  'cryptocom',\n  'app',\n  'my',\n  'first',\n  'try',\n  'on',\n  'this',\n  'platform',\n  'to',\n  'buy',\n  'shib',\n  'but',\n  'i',\n  'be',\n  'not',\n  'able',\n  'to',\n  'buy',\n  'it',\n  'insufficient',\n  'balance',\n  'do',\n  'i',\n  'need',\n  'to',\n  'convert',\n  'ltc',\n  'to',\n  'another',\n  'coin',\n  'or',\n  'usd',\n  'be',\n  'not',\n  'enought',\n  'thanks'],\n ['hey',\n  'guy',\n  'you',\n  'think',\n  'shiba',\n  'and',\n  'elon',\n  'will',\n  'be',\n  'list',\n  'on',\n  'cryptocom',\n  'soon'],\n ['check',\n  'bank',\n  'otherwise',\n  'it',\n  'will',\n  'be',\n  'the',\n  'app',\n  'be',\n  'bombard',\n  'with',\n  'shiba',\n  'buyer'],\n ['yeah',\n  'its',\n  'be',\n  'slow',\n  'all',\n  'day',\n  'because',\n  'of',\n  'the',\n  'shiba',\n  'crowd',\n  'buying',\n  'it'],\n ['you',\n  'have',\n  'the',\n  'wallet',\n  'i',\n  'sell',\n  'cro',\n  'for',\n  'shiba',\n  'kinda',\n  'of',\n  'like',\n  'a',\n  'swap'],\n ['what', 'you', 'think', 'about', 'doge'],\n ['just',\n  'attempt',\n  'to',\n  'buy',\n  'shib',\n  'and',\n  'then',\n  'the',\n  'price',\n  'say',\n  '“',\n  'time',\n  'out',\n  '”',\n  'the',\n  'money',\n  'still',\n  'come',\n  'out',\n  'of',\n  'my',\n  'checking',\n  'account',\n  'and',\n  'its',\n  'not',\n  'reflect',\n  'in',\n  'my',\n  'cro',\n  'account'],\n ['cant', 'see', 'my', 'purchase', 'of', 'shib'],\n ['if',\n  'you',\n  'guy',\n  'be',\n  'really',\n  'lean',\n  'on',\n  'elons',\n  'performance',\n  'on',\n  'snl',\n  'to',\n  'help',\n  'doge',\n  'price',\n  'please',\n  'reevaluate',\n  'your',\n  'crypto',\n  'investment'],\n ['elon', 'hodl', 'the', 'doge', 'for', 'i', 'be', 'come'],\n ['fetch',\n  'some',\n  'shib',\n  '🦴',\n  'get',\n  'the',\n  'app',\n  'to',\n  'start',\n  'trading',\n  'cryptoonelinkmejlgfdd'],\n ['same',\n  'problem',\n  'i',\n  'have',\n  'with',\n  'shib',\n  'a',\n  'little',\n  'early',\n  'now',\n  'wait',\n  'on',\n  'support',\n  'to',\n  'get',\n  'back',\n  'to',\n  'me'],\n ['i',\n  'just',\n  'send',\n  'doge',\n  'to',\n  'the',\n  'scammer',\n  'and',\n  'contact',\n  'support',\n  'team',\n  'but',\n  'they',\n  'never',\n  'answer'],\n ['this', 'isnt', 'a', 'doge', 'group'],\n ['its', 'your', 'money', 'its', 'not', 'a', 'doge', 'channel'],\n ['i',\n  'believe',\n  'people',\n  'just',\n  'want',\n  'to',\n  'book',\n  'the',\n  'profit',\n  'now',\n  'its',\n  'pumping',\n  'again',\n  'doge'],\n ['finally',\n  'able',\n  'to',\n  'buy',\n  'shiba',\n  'just',\n  'have',\n  'patience',\n  'after',\n  'the',\n  'payment',\n  'and',\n  'your',\n  'coin',\n  'will',\n  'appear',\n  'in',\n  'the',\n  'wallet'],\n ['cryptocom',\n  'need',\n  'to',\n  'make',\n  'the',\n  'transaction',\n  'fast',\n  'so',\n  'many',\n  'people',\n  'cant',\n  'buy',\n  'shiba'],\n ['what',\n  'be',\n  'the',\n  'minimum',\n  'quantity',\n  'shiba',\n  'anu',\n  'in',\n  'cryptocom'],\n ['do',\n  'anyone',\n  'know',\n  'how',\n  'to',\n  'sell',\n  'their',\n  'crypto',\n  'without',\n  'transfer',\n  'it',\n  'to',\n  'fiat',\n  'the',\n  'option',\n  'isnt',\n  'there',\n  'for',\n  'me',\n  'to',\n  'sell',\n  'it',\n  'to',\n  'a',\n  'fiat',\n  'wallet',\n  'yet',\n  'would',\n  'it',\n  'be',\n  'a',\n  'smart',\n  'idea',\n  'just',\n  'to',\n  'sell',\n  'it',\n  'in',\n  'exchange',\n  'for',\n  'regular',\n  'btc',\n  'for',\n  'example',\n  'sell',\n  'dogecoin',\n  'into',\n  'btc'],\n ['would', 'it', 'be', 'a', 'good', 'idea', 'to', 'sell', 'dogecoin'],\n ['shiba', 'down', 'plus'],\n ['guy',\n  'people',\n  'be',\n  'take',\n  'profit',\n  'from',\n  'doge',\n  'because',\n  'it',\n  'have',\n  'mature',\n  'and',\n  'just',\n  'before',\n  'the',\n  'show',\n  'be',\n  'the',\n  'best',\n  'moment',\n  'to',\n  'sell',\n  'doge',\n  'holder',\n  'be',\n  'now',\n  'panick',\n  'sell',\n  'it',\n  'have',\n  'drop',\n  'a',\n  'lot',\n  'since',\n  'the',\n  'end',\n  'of',\n  'snl',\n  'elon',\n  'fail',\n  'really',\n  'hard',\n  'eth',\n  'and',\n  'btc',\n  'be',\n  'stall',\n  'and',\n  'easy',\n  'money',\n  'come',\n  'from',\n  'high',\n  'volatility',\n  'expectation',\n  'and',\n  'shitcoins',\n  'the',\n  'one',\n  'that',\n  'be',\n  'sell',\n  'doge',\n  'be',\n  'come',\n  'here',\n  'my',\n  'guess',\n  'be',\n  'doge',\n  'be',\n  'go',\n  'to',\n  'fall',\n  'a',\n  'little',\n  'still',\n  'top',\n  'capitalization',\n  'but',\n  'its',\n  'revenue',\n  'be',\n  'come',\n  'here',\n  'in',\n  'shib',\n  'which',\n  'be',\n  'sure',\n  'pump',\n  'a',\n  'little',\n  'but',\n  'its',\n  'all',\n  'doge',\n  'money',\n  'we',\n  'be',\n  'literally',\n  'kill',\n  'doge',\n  'and',\n  'shib',\n  'be',\n  'stand',\n  'to',\n  'its',\n  'nickname',\n  'be',\n  'highly',\n  'possible',\n  'in',\n  'the',\n  'next',\n  'hour',\n  'with',\n  'the',\n  'expectation',\n  'of',\n  'shibaswap',\n  'open',\n  'to',\n  'reach',\n  'we',\n  'just',\n  'need',\n  'a',\n  'cap',\n  'of',\n  'b',\n  'which',\n  'be',\n  'only',\n  'half',\n  'of',\n  'doge',\n  'so',\n  'this',\n  'be',\n  'really',\n  'possible'],\n ['minimum', 'investment', 'on', 'shiba', 'inu', 'in', 'usd'],\n ['minimum', 'investment', 'on', 'shiba', 'inu', 'in', 'usd'],\n ['minimum', 'investment', 'on', 'shiba', 'inu', 'in', 'usd'],\n ['minimum', 'investment', 'on', 'shiba', 'inu', 'in', 'usd'],\n ['sorry',\n  'i',\n  'need',\n  'assistance',\n  'why',\n  'be',\n  'i',\n  'get',\n  'a',\n  'message',\n  'say',\n  'time',\n  'out',\n  'every',\n  'time',\n  'i',\n  'try',\n  'to',\n  'buy',\n  'and',\n  'the',\n  'money',\n  'have',\n  'leave',\n  'my',\n  'account',\n  'but',\n  'the',\n  'shiba',\n  'hasnt',\n  'show',\n  'up',\n  'please',\n  'help'],\n ['do',\n  'anyone',\n  'manage',\n  'to',\n  'buy',\n  'shiba',\n  'yesterday',\n  'mine',\n  'still',\n  'not',\n  'appear',\n  'in',\n  'my',\n  'wallet',\n  'after',\n  'transact',\n  'last',\n  'night'],\n ['to',\n  'those',\n  'of',\n  'you',\n  'that',\n  'manage',\n  'to',\n  'buy',\n  'shib',\n  'last',\n  'night',\n  'but',\n  'it',\n  'be',\n  'delay',\n  'go',\n  'into',\n  'your',\n  'wallet',\n  'do',\n  'you',\n  'also',\n  'get',\n  'a',\n  'time',\n  'out',\n  'notification'],\n ['same', 'think', 'with', 'shiba'],\n ['i', 'buy', 'shib', 'some', 'hour', 'ago', 'but', 'do', 'not', 'show', 'up'],\n ['the',\n  'supply',\n  'be',\n  'low',\n  'compare',\n  'to',\n  'other',\n  'crypto',\n  'that',\n  'now',\n  'have',\n  'zero',\n  'less',\n  'then',\n  'shiba',\n  'so',\n  'this',\n  'mean',\n  'that',\n  'shiba',\n  'have',\n  'just',\n  'at',\n  'the',\n  'begin',\n  'ready',\n  'to',\n  'go',\n  'high',\n  'right'],\n ['hello',\n  'i',\n  'buy',\n  'shib',\n  'then',\n  'nothing',\n  'in',\n  'my',\n  'wallet',\n  'and',\n  'be',\n  'deduct',\n  'from',\n  'my',\n  'bank',\n  'account'],\n ['hello',\n  'this',\n  'be',\n  'ritej',\n  'gaba',\n  'yesterday',\n  'th',\n  'may',\n  'night',\n  'i',\n  'buy',\n  'shib',\n  'worth',\n  'i',\n  'make',\n  'purchase',\n  'through',\n  'my',\n  'debit',\n  'card',\n  'where',\n  'money',\n  'from',\n  'my',\n  'bank',\n  'account',\n  'be',\n  'deduct',\n  'but',\n  'on',\n  'crypto',\n  'app',\n  'it',\n  'show',\n  'an',\n  'error',\n  'and',\n  'purchase',\n  'be',\n  'not',\n  'show',\n  'up',\n  'i',\n  'try',\n  'contact',\n  'on',\n  'app',\n  'but',\n  'no',\n  'response',\n  'please',\n  'see',\n  'into',\n  'this',\n  'matter',\n  'asap'],\n ['shib', 'be', 'win'],\n ['just', 'notice', 'shib', 'available', 'in', 'cryptocom'],\n ['be', 'shib', 'have', 'good', 'future', 'your', 'view', 'huys'],\n ['crypto',\n  'man',\n  'buy',\n  'that',\n  'damn',\n  'shib',\n  'and',\n  'cro',\n  'it',\n  'transact',\n  'with',\n  'my',\n  'bank',\n  'and',\n  'say',\n  'price',\n  'time',\n  'out',\n  'and',\n  'poof',\n  'no',\n  'fund'],\n ['elon', 'say', 'last', 'night', 'doge', 'be', 'a', 'hoax'],\n ['may',\n  'th',\n  'around',\n  'pm',\n  'i',\n  'have',\n  'purchase',\n  'shiba',\n  'in',\n  'cryptocom',\n  'and',\n  'it',\n  'have',\n  'produce',\n  'an',\n  'error',\n  'and',\n  'i',\n  'cant',\n  'realize',\n  'de',\n  'operation',\n  'but',\n  'money',\n  'yes',\n  'down',\n  'i',\n  'do',\n  'it',\n  'time',\n  'and',\n  'i',\n  'though',\n  'it',\n  'didnt',\n  'go',\n  'through',\n  'first',\n  'time',\n  'and',\n  'cryptocom',\n  'have',\n  'deduct',\n  'the',\n  'money',\n  'from',\n  'my',\n  'account',\n  'and',\n  'not',\n  'cryptos',\n  'into',\n  'my',\n  'portfolio'],\n ['i',\n  'have',\n  'buy',\n  'shib',\n  'yesterday',\n  'and',\n  'its',\n  'still',\n  'not',\n  'available',\n  'or',\n  'credit',\n  'but',\n  'money',\n  'have',\n  'be',\n  'take',\n  'from',\n  'my',\n  'bank',\n  'pleasei',\n  'need',\n  'an',\n  'answer',\n  'ask',\n  'for',\n  'help',\n  'from',\n  'yesterday',\n  'onwards'],\n ['be',\n  'there',\n  'any',\n  'update',\n  'for',\n  'bloody',\n  'doge',\n  'coin',\n  'because',\n  'i',\n  'be',\n  'in',\n  'lose',\n  'k',\n  'today'],\n ['hey',\n  'guy',\n  'hello',\n  'to',\n  'all',\n  'today',\n  'i',\n  'be',\n  'gon',\n  'na',\n  'invest',\n  'to',\n  'crypto',\n  'already',\n  'buy',\n  'doge',\n  'today',\n  'but',\n  'i',\n  'be',\n  'a',\n  'new',\n  'one',\n  'in',\n  'cryptoworld',\n  'maybe',\n  'someone',\n  'can',\n  'give',\n  'a',\n  'good',\n  'advice'],\n ['the',\n  'app',\n  'issue',\n  'be',\n  'cause',\n  'by',\n  'the',\n  'listing',\n  'of',\n  'shib',\n  'and',\n  'the',\n  'overwhelming',\n  'reaction',\n  'of',\n  'the',\n  'user',\n  'the',\n  'team',\n  'be',\n  'work',\n  'on',\n  'fully',\n  'restore',\n  'the',\n  'operational',\n  'performance',\n  'of',\n  'the',\n  'app',\n  'and',\n  'the',\n  'transaction',\n  'please',\n  'be',\n  'patient',\n  'and',\n  'sorry',\n  'for',\n  'the',\n  'inconvenience'],\n ['its',\n  'an',\n  'empty',\n  'string',\n  'follow',\n  'by',\n  'shib',\n  'it',\n  'doesnt',\n  'say',\n  'the',\n  'minimum',\n  'amount🥲'],\n ['ask', 'in', 'the', 'doge', 'group', 'this', 'be', 'cryptocom'],\n ['any', 'doge', 'shiba', 'shill', 'will', 'be', 'promptly', 'delete'],\n ['hi',\n  'cdc',\n  'team',\n  'i',\n  'just',\n  'purchase',\n  'of',\n  'shiba',\n  'inu',\n  'from',\n  'the',\n  'app',\n  'but',\n  'i',\n  'do',\n  'not',\n  'see',\n  'it',\n  'anywhere…i',\n  'used',\n  'fiat',\n  'wallet',\n  'for',\n  'the',\n  'transaction…plz',\n  'help',\n  'where',\n  'to',\n  'locate'],\n ['hi',\n  'cdc',\n  'team',\n  'i',\n  'just',\n  'purchase',\n  'of',\n  'shiba',\n  'inu',\n  'from',\n  'the',\n  'app',\n  'but',\n  'i',\n  'do',\n  'not',\n  'see',\n  'it',\n  'anywhere…i',\n  'used',\n  'fiat',\n  'wallet',\n  'for',\n  'the',\n  'transaction…plz',\n  'help',\n  'where',\n  'to',\n  'locate'],\n ['breakingnews',\n  'attention',\n  'everyone',\n  'a',\n  'major',\n  'community',\n  'transition',\n  'big',\n  'pump',\n  'be',\n  'happen',\n  'tomorrow',\n  'night',\n  'where',\n  'all',\n  'dogecoin',\n  'holder',\n  'will',\n  'be',\n  'dump',\n  'their',\n  'coin',\n  'share',\n  'this',\n  'retweet',\n  'likeit',\n  'comment',\n  'share',\n  'shill',\n  'monday',\n  'th',\n  'may',\n  'pm',\n  'et'],\n ['hi',\n  'cdc',\n  'team',\n  'i',\n  'just',\n  'purchase',\n  'of',\n  'shiba',\n  'inu',\n  'from',\n  'the',\n  'app',\n  'but',\n  'i',\n  'do',\n  'not',\n  'see',\n  'it',\n  'anywhere…i',\n  'used',\n  'fiat',\n  'wallet',\n  'for',\n  'the',\n  'transaction…plz',\n  'help',\n  'where',\n  'to',\n  'locate'],\n ['avg',\n  'wait',\n  'time',\n  'for',\n  'shib',\n  'coin',\n  'to',\n  'appear',\n  'after',\n  'purchase'],\n ['be', 'it', 'normal', 'we', 'can', 'not', 'buy', 'shiba', 'on', 'exchange'],\n ['i',\n  'have',\n  'a',\n  'error',\n  'when',\n  'i',\n  'buy',\n  'doge',\n  'doesnt',\n  'show',\n  'up',\n  'in',\n  'my',\n  'wallet',\n  'and',\n  'i',\n  'get',\n  'charge'],\n ['hello',\n  'i',\n  'recently',\n  'buy',\n  'dollar',\n  'in',\n  'shiba',\n  'inu',\n  'my',\n  'money',\n  'be',\n  'deduct',\n  'from',\n  'my',\n  'card',\n  'but',\n  'i',\n  'havent',\n  'receive',\n  'the',\n  'coin',\n  'any',\n  'help'],\n ['just',\n  'get',\n  'some',\n  'shib',\n  'and',\n  'while',\n  'you',\n  'take',\n  'the',\n  'money',\n  'the',\n  'coin',\n  'do',\n  'not',\n  'show',\n  'in',\n  'my',\n  'balance'],\n ['same', 'thing', 'happen', 'with', 'me', 'and', 'shib'],\n ['stop', 'fomoing', 'into', 'doge'],\n ['do', 'shib', 'just', 'get', 'add', 'to', 'cryptocom'],\n ['spacex',\n  'payload',\n  'fund',\n  'by',\n  'doge',\n  'plan',\n  'to',\n  'reach',\n  'lunar',\n  'orbit',\n  'in'],\n ['k', 'ppl', 'here', 'curios', 'about', 'eth', 'btc', 'and', 'doge'],\n ['how', 'can', 'i', 'buy', 'shiba', 'coin'],\n ['if', 'only', 'elon', 'would', 'tweet', 'about', 'shiba'],\n ['i',\n  'just',\n  'buy',\n  'some',\n  'doge',\n  'and',\n  'it',\n  'go',\n  'straight',\n  'through'],\n ['i',\n  'have',\n  'buy',\n  'shib',\n  'and',\n  'its',\n  'not',\n  'show',\n  'in',\n  'my',\n  'account',\n  'money',\n  'have',\n  'be',\n  'take',\n  'from',\n  'my',\n  'bank',\n  'please',\n  'help',\n  'me'],\n ['you',\n  'might',\n  'want',\n  'to',\n  'head',\n  'over',\n  'to',\n  'doge',\n  'community',\n  'and',\n  'ask',\n  'there',\n  'this',\n  'be',\n  'the',\n  'cryptocom',\n  'official',\n  'community',\n  'for',\n  'all',\n  'thing',\n  'cryptocom'],\n ['zoom',\n  'out',\n  'of',\n  'the',\n  'minute',\n  'chart',\n  'i',\n  'might',\n  'be',\n  'uneducated',\n  'and',\n  'poorly',\n  'inform',\n  'on',\n  'doge',\n  'buy',\n  'i',\n  'aint',\n  'no',\n  'dumbass',\n  'on',\n  'cryptocom',\n  'token',\n  'i',\n  'own',\n  'lot',\n  'of',\n  'hem'],\n ['if',\n  'ive',\n  'buy',\n  '€',\n  'of',\n  'shiba',\n  'at',\n  'and',\n  'i',\n  'dont',\n  'receive',\n  'my',\n  'coin',\n  'i',\n  'lose',\n  'them',\n  'i',\n  'will',\n  'receive',\n  'with',\n  'the',\n  'live',\n  'price',\n  'what',\n  'gon',\n  'na',\n  'happen'],\n ['but', 'the', 'shiba', 'pump', 'dump', 'opp', 'will', 'be', 'lose'],\n ['wonder',\n  'why',\n  'sell',\n  'shib',\n  'have',\n  'a',\n  'much',\n  'low',\n  'usdc',\n  'to',\n  'crypto',\n  'wallet',\n  'around',\n  'than',\n  'the',\n  'usd',\n  'show'],\n ['how',\n  'much',\n  'it',\n  'take',\n  'for',\n  'shiba',\n  'inu',\n  'after',\n  'i',\n  'buy',\n  'to',\n  'appear',\n  'on',\n  'the',\n  'wallet',\n  'of',\n  'the',\n  'app'],\n ['i',\n  'purchase',\n  'shib',\n  'with',\n  'the',\n  'app',\n  'on',\n  'saturday',\n  'still',\n  'no',\n  'trace',\n  'of',\n  'them'],\n ['a',\n  'little',\n  'more',\n  'time',\n  'i',\n  'buy',\n  'shib',\n  'on',\n  'saturday',\n  'still',\n  'not',\n  'appear'],\n ['slight',\n  'i',\n  'purchase',\n  'shib',\n  'on',\n  'saturday',\n  'and',\n  'still',\n  'not',\n  'appear'],\n ['where',\n  'be',\n  'my',\n  'shiba',\n  'i',\n  'buy',\n  'shiba',\n  'but',\n  'i',\n  'cant',\n  'see',\n  'it',\n  'in',\n  'my',\n  'crypto',\n  'wallet'],\n ['my',\n  'feeling',\n  'be',\n  'that',\n  'they',\n  'have',\n  'not',\n  'manage',\n  'to',\n  'buy',\n  'the',\n  'shib',\n  'on',\n  'our',\n  'behalf',\n  'and',\n  'the',\n  'best',\n  'we',\n  'can',\n  'get',\n  'be',\n  'a',\n  'refund',\n  'in',\n  'the',\n  'meantime',\n  'shib',\n  'have',\n  'go',\n  'up',\n  'two',\n  'fold'],\n ['i',\n  'buy',\n  'shib',\n  'half',\n  'price',\n  'two',\n  'day',\n  'ago',\n  'but',\n  'they',\n  'do',\n  'not',\n  'show',\n  'up',\n  'even',\n  'not',\n  'sure',\n  'the',\n  'transaction',\n  'go',\n  'though',\n  'shame',\n  'really'],\n ['i',\n  'feel',\n  'that',\n  'the',\n  'best',\n  'they',\n  'will',\n  'do',\n  'be',\n  'to',\n  'refund',\n  'our',\n  'bank',\n  'transfer',\n  'because',\n  'the',\n  'shib',\n  'transaction',\n  'do',\n  'not',\n  'go',\n  'through',\n  'on',\n  'saturday',\n  'they',\n  'be',\n  'overwhelm',\n  'result',\n  'lost',\n  'of',\n  'my',\n  'profit'],\n ['attention',\n  'shib',\n  'community',\n  'deposit',\n  'and',\n  'withdrawal',\n  'of',\n  'shib',\n  'be',\n  'now',\n  'enable',\n  'on',\n  'the',\n  'cryptocom',\n  'app',\n  'deposit',\n  'now',\n  'cryptoonelinkmejlgcde'],\n ['have',\n  'anyone',\n  'here',\n  'make',\n  'a',\n  'purchase',\n  'of',\n  'shib',\n  'on',\n  'saturday',\n  'and',\n  'get',\n  'hisher',\n  'coin'],\n ['have',\n  'anyone',\n  'here',\n  'make',\n  'a',\n  'purchase',\n  'of',\n  'shib',\n  'on',\n  'saturday',\n  'and',\n  'get',\n  'hisher',\n  'coin'],\n ['hello',\n  'i',\n  'be',\n  'try',\n  'to',\n  'sell',\n  'doge',\n  'coin',\n  'but',\n  'when',\n  'i',\n  'sell',\n  'i',\n  'can',\n  'not',\n  'see',\n  'the',\n  'fund',\n  'in',\n  'usd',\n  'but',\n  'still',\n  'in',\n  'doge',\n  'i',\n  'urgently',\n  'need',\n  'to',\n  'sell',\n  'and',\n  'the',\n  'tool',\n  'do',\n  'not',\n  'work',\n  'properly',\n  'it',\n  'be',\n  'unbelivable',\n  'that',\n  'there',\n  'all',\n  'these',\n  'problem',\n  'all',\n  'the',\n  'time',\n  'please',\n  'kindly',\n  'support'],\n ['how',\n  'long',\n  'do',\n  'it',\n  'take',\n  'for',\n  'you',\n  'guy',\n  'to',\n  'get',\n  'shib',\n  'in',\n  'your',\n  'wallet',\n  'after',\n  'a',\n  'succesful',\n  'transaction'],\n ['from', 'where', 'to', 'buy', 'shib'],\n ['whats',\n  'go',\n  'on',\n  'with',\n  'shib',\n  'just',\n  'buy',\n  'k',\n  'but',\n  'they',\n  'wont',\n  'show',\n  'up'],\n ['bretello',\n  'hello',\n  'i',\n  'be',\n  'try',\n  'to',\n  'sell',\n  'doge',\n  'coin',\n  'but',\n  'when',\n  'i',\n  'sell',\n  'i',\n  'can',\n  'not',\n  'see',\n  'the',\n  'fund',\n  'in',\n  'usd',\n  'but',\n  'still',\n  'in',\n  'doge',\n  'i',\n  'urgently',\n  'need',\n  'to',\n  'sell',\n  'and',\n  'the',\n  'tool',\n  'do',\n  'not',\n  'work',\n  'properly',\n  'i',\n  'have',\n  'sell',\n  'doge',\n  'for',\n  'usdt',\n  'but',\n  'the',\n  'import',\n  'be',\n  'not',\n  'show',\n  'yet'],\n ['hello',\n  'i',\n  'be',\n  'try',\n  'to',\n  'sell',\n  'doge',\n  'coin',\n  'but',\n  'when',\n  'i',\n  'sell',\n  'i',\n  'can',\n  'not',\n  'see',\n  'the',\n  'fund',\n  'in',\n  'usd',\n  'but',\n  'still',\n  'in',\n  'doge',\n  'i',\n  'urgently',\n  'need',\n  'to',\n  'sell',\n  'and',\n  'the',\n  'tool',\n  'do',\n  'not',\n  'work',\n  'properly',\n  'i',\n  'have',\n  'sell',\n  'doge',\n  'for',\n  'usdt',\n  'but',\n  'the',\n  'import',\n  'be',\n  'not',\n  'show',\n  'yet',\n  'to',\n  'receive',\n  'a',\n  'response',\n  'to',\n  'this',\n  'would',\n  'be',\n  'great'],\n ['when',\n  'i',\n  'be',\n  'try',\n  'to',\n  'buy',\n  'shib',\n  'in',\n  'payment',\n  'process',\n  'my',\n  'debit',\n  'cart',\n  'diclined'],\n ['but',\n  'money',\n  'be',\n  'go',\n  'and',\n  'there',\n  'be',\n  'no',\n  'shib',\n  'in',\n  'my',\n  'wallet'],\n ['be', 'anybody', 'else', 'have', 'a', 'problem', 'with', 'shib'],\n ['it',\n  'happen',\n  'to',\n  'me',\n  'on',\n  'saturday',\n  'shib',\n  'coin',\n  'do',\n  'not',\n  'appear',\n  'yet'],\n ['i',\n  'buy',\n  'shib',\n  'on',\n  'saturday',\n  'and',\n  'i',\n  'get',\n  'nothing',\n  'no',\n  'confirmation',\n  'no',\n  'transaction',\n  'info',\n  'in',\n  'my',\n  'history',\n  'nothing',\n  'whatsoever'],\n ['present',\n  'late',\n  'this',\n  'year',\n  'prepare',\n  'an',\n  'nft',\n  'project',\n  'from',\n  'shib',\n  'shiba',\n  'will',\n  'continue',\n  'to',\n  'help',\n  'shiba',\n  'inu',\n  'dog',\n  'through',\n  'amazon',\n  'smile',\n  'with',\n  'your',\n  'amazon',\n  'purchase',\n  'go',\n  'to',\n  'the',\n  'shiba',\n  'inu',\n  'rescue',\n  'association',\n  'so',\n  'we',\n  'buy',\n  'all',\n  'the',\n  'shiba'],\n ['i',\n  'have',\n  'problem',\n  'i',\n  'buy',\n  'shiba',\n  'and',\n  'it',\n  'doesnt',\n  'show',\n  'the',\n  'coin',\n  'in',\n  'wallet'],\n ['hey',\n  'cdc',\n  'support',\n  'i',\n  'try',\n  'to',\n  'sell',\n  'my',\n  'shib',\n  'to',\n  'usdc',\n  'and',\n  'i',\n  'get',\n  'the',\n  'confirmation',\n  'email',\n  'why',\n  'my',\n  'crypto',\n  'wallet',\n  'still',\n  'show',\n  'shib',\n  'and',\n  'no',\n  'usdc'],\n ['hey',\n  'cdc',\n  'support',\n  'i',\n  'try',\n  'to',\n  'sell',\n  'my',\n  'shib',\n  'to',\n  'usdc',\n  'and',\n  'i',\n  'get',\n  'the',\n  'confirmation',\n  'email',\n  'why',\n  'my',\n  'crypto',\n  'wallet',\n  'still',\n  'show',\n  'shib',\n  'and',\n  'no',\n  'usdc'],\n ['anyone',\n  'fail',\n  'to',\n  'sell',\n  'shib',\n  'to',\n  'usdc',\n  'i',\n  'get',\n  'the',\n  'confirmation',\n  'email',\n  'but',\n  'nothing',\n  'happen',\n  'in',\n  'the',\n  'app'],\n ['cryptocom',\n  'exchange',\n  'list',\n  'shib',\n  'trade',\n  'shib',\n  'in',\n  'usdt',\n  'pair',\n  'now',\n  'sign',\n  'up',\n  'bitlyrf'],\n ['i',\n  'need',\n  'help',\n  'from',\n  'admins',\n  'i',\n  'boght',\n  'shib',\n  'and',\n  'i',\n  'cant',\n  'see',\n  'it',\n  'in',\n  'my',\n  'wallet'],\n ['get',\n  'into',\n  'shib',\n  'but',\n  'dont',\n  'see',\n  'them',\n  'list',\n  'in',\n  'my',\n  'wallet',\n  'why'],\n ['hey',\n  'i',\n  'buy',\n  'm',\n  'shib',\n  'but',\n  'the',\n  'crypto',\n  'be',\n  'not',\n  'in',\n  'my',\n  'wallet',\n  'do',\n  'you',\n  'have',\n  'this',\n  'problem'],\n ['i',\n  'have',\n  'just',\n  'make',\n  'a',\n  'transaction',\n  'buy',\n  'shiba',\n  'inu',\n  'with',\n  'cro',\n  'i',\n  'receive',\n  'the',\n  'mail',\n  'of',\n  'the',\n  'transaction',\n  'but',\n  'if',\n  'i',\n  'open',\n  'the',\n  'transaction',\n  'history',\n  'i',\n  'dont',\n  'see',\n  'the',\n  'complete',\n  'of',\n  'the',\n  'operation',\n  'also',\n  'the',\n  'balance',\n  'be',\n  'still',\n  'not',\n  'update',\n  'after',\n  'the',\n  'purchase'],\n ['those',\n  'get',\n  'there',\n  'shib',\n  'with',\n  'a',\n  'delay',\n  'have',\n  'a',\n  'trace',\n  'either',\n  'email',\n  'or',\n  'transaction',\n  'history'],\n ['i',\n  'buy',\n  'two',\n  'time',\n  'shiba',\n  'i',\n  'get',\n  'an',\n  'error',\n  'message',\n  'in',\n  'the',\n  'app',\n  'and',\n  'i',\n  'dont',\n  'receive',\n  'any',\n  'purchase',\n  'confirmation',\n  'email',\n  'but',\n  'i',\n  'have',\n  'withhold',\n  'the',\n  'money',\n  'from',\n  'the',\n  'bank',\n  'i',\n  'have',\n  'explain',\n  'my',\n  'problem',\n  'more',\n  'than',\n  'one',\n  'time',\n  'but',\n  'no',\n  'one',\n  'response',\n  'me'],\n ['a',\n  'lot',\n  'of',\n  'the',\n  'shib',\n  'transaction',\n  'do',\n  'not',\n  'go',\n  'through',\n  'actually',\n  'they',\n  'be',\n  'never',\n  'do',\n  'in',\n  'my',\n  'opinion'],\n ['the',\n  'app',\n  'be',\n  'in',\n  'a',\n  'mess',\n  'on',\n  'saturday',\n  'they',\n  'get',\n  'too',\n  'many',\n  'shib',\n  'order',\n  'and',\n  'most',\n  'of',\n  'them',\n  'be',\n  'not',\n  'execute',\n  'money',\n  'be',\n  'take',\n  'but',\n  'not',\n  'execute',\n  'expect',\n  'to',\n  'receive',\n  'a',\n  'refund',\n  'of',\n  'your',\n  'bank',\n  'or',\n  'card',\n  'withdrawal',\n  'profit',\n  'be',\n  'lose',\n  'for',\n  'us'],\n ['congratulation',\n  'vancom',\n  'you',\n  'be',\n  'the',\n  'weekly',\n  'lucky',\n  'draw',\n  'winner',\n  'of',\n  'our',\n  'doge',\n  'treat',\n  'extravaganza',\n  'you',\n  'have',\n  'win',\n  'usd',\n  'an',\n  'exclusive',\n  'doge',\n  'nft',\n  'check',\n  'out',\n  'the',\n  'top',\n  'winner',\n  'here',\n  'with',\n  'the',\n  'high',\n  'number',\n  'of',\n  'doge',\n  'point'],\n ['when',\n  'my',\n  'money',\n  'will',\n  'be',\n  'show',\n  'in',\n  'the',\n  'app',\n  'i',\n  'sell',\n  'my',\n  'shib',\n  'to',\n  'usdc',\n  'before',\n  'the',\n  'price',\n  'drop'],\n ['here',\n  'be',\n  'my',\n  'gut',\n  'feeling',\n  'for',\n  'shib',\n  'transaction',\n  'make',\n  'on',\n  'saturday',\n  'the',\n  'app',\n  'be',\n  'in',\n  'a',\n  'mess',\n  'on',\n  'saturday',\n  'they',\n  'get',\n  'too',\n  'many',\n  'shib',\n  'order',\n  'and',\n  'most',\n  'of',\n  'them',\n  'be',\n  'not',\n  'execute',\n  'money',\n  'be',\n  'take',\n  'card',\n  'bank',\n  'account',\n  'but',\n  'not',\n  'used',\n  'expect',\n  'to',\n  'receive',\n  'a',\n  'refund',\n  'of',\n  'your',\n  'bank',\n  'or',\n  'card',\n  'withdrawal',\n  'profit',\n  'be',\n  'lose',\n  'for',\n  'us'],\n ['i',\n  'cant',\n  'transfer',\n  'shib',\n  'from',\n  'app',\n  'to',\n  'exchange',\n  'it',\n  'say',\n  'that',\n  'be',\n  'not',\n  'suported',\n  'but',\n  'i',\n  'see',\n  'the',\n  'coin',\n  'on',\n  'exchange',\n  'why'],\n ['its',\n  'unacceptable',\n  'that',\n  'i',\n  'can',\n  'not',\n  'own',\n  'the',\n  'shib',\n  'i',\n  'pay',\n  'for',\n  'be',\n  'you',\n  'kid',\n  'me',\n  'cryptocom'],\n ['i',\n  'purchase',\n  'shib',\n  'this',\n  'morning',\n  'but',\n  'it',\n  'seem',\n  'that',\n  'it',\n  'be',\n  'still',\n  'pending',\n  'and',\n  'the',\n  'balance',\n  'in',\n  'the',\n  'app',\n  'be',\n  'not',\n  'update',\n  'when',\n  'will',\n  'this',\n  'be',\n  'fix'],\n ['i',\n  'be',\n  'not',\n  'even',\n  'sure',\n  'i',\n  'will',\n  'get',\n  'the',\n  'shib',\n  'coin',\n  'i',\n  'purchase',\n  'on',\n  'saturday',\n  'at',\n  'less',\n  'than',\n  'half',\n  'current',\n  'price'],\n ['why', 'i', 'can', 'move', 'to', 'exhange', 'only', 'million', 'of', 'shib'],\n ['dear',\n  'admin',\n  'just',\n  'convert',\n  'cro',\n  'to',\n  'shib',\n  'this',\n  'morning',\n  'and',\n  'still',\n  'pending',\n  'please',\n  'help'],\n ['hello', 'why', 'do', 'crypto', 'com', 'list', 'shib'],\n ['anyone',\n  'have',\n  'info',\n  'on',\n  'why',\n  'cryptocom',\n  'would',\n  'list',\n  'a',\n  'poop',\n  'coin',\n  'like',\n  'shib',\n  'be',\n  'i',\n  'miss',\n  'something'],\n ['just',\n  'sell',\n  'my',\n  'shib',\n  'for',\n  'lie',\n  'profit',\n  'cant',\n  'believe',\n  'you',\n  'guy',\n  'list',\n  'shib',\n  'and',\n  'not',\n  'some',\n  'other',\n  'promising',\n  'project'],\n ['shib', 'my', 'money', 'grow', 'fast', 'than', 'my', 'weed'],\n ['shib', 'inu', 'what', 'be', 'go', 'on'],\n ['shiba', 'inu', 'buy', 'like', 'million', 'coin'],\n ['shib', 'my', 'money', 'grow', 'fast', 'than', 'my', 'weed'],\n ['what', 'a', 'shame', 'i', 'could', 'not', 'trade', 'shib', 'for', 'hour'],\n ['shib', 'my', 'money', 'grow', 'fast', 'than', 'my', 'weed'],\n ['why',\n  'i',\n  'cant',\n  'buy',\n  'shiba',\n  'on',\n  'the',\n  'app',\n  'the',\n  'close',\n  'the',\n  'buy',\n  'after',\n  'pin'],\n ['hey',\n  'i',\n  'make',\n  'transaction',\n  'on',\n  'saturday',\n  'th',\n  'may',\n  'buy',\n  'shib',\n  'everytime',\n  'i',\n  'enter',\n  'the',\n  'confirmation',\n  'code',\n  'i',\n  'receveid',\n  'a',\n  'message',\n  'say',\n  'that',\n  'there',\n  'be',\n  'an',\n  'error',\n  'i',\n  'didnt',\n  'receive',\n  'on',\n  'my',\n  'wallet',\n  'the',\n  'shib',\n  'coin',\n  'that',\n  'i',\n  'buy',\n  'but',\n  'today',\n  'i',\n  'saw',\n  'that',\n  'the',\n  'money',\n  'be',\n  'withdraw',\n  'from',\n  'my',\n  'bank',\n  'account',\n  'this',\n  'be',\n  'absurd',\n  'you',\n  'take',\n  'my',\n  'money',\n  'and',\n  'i',\n  'didnt',\n  'recevei',\n  'the',\n  'coin'],\n ['here',\n  'be',\n  'my',\n  'gut',\n  'feeling',\n  'for',\n  'shib',\n  'transaction',\n  'make',\n  'on',\n  'saturday',\n  'the',\n  'app',\n  'be',\n  'in',\n  'a',\n  'mess',\n  'on',\n  'saturday',\n  'they',\n  'get',\n  'too',\n  'many',\n  'shib',\n  'order',\n  'and',\n  'most',\n  'of',\n  'them',\n  'be',\n  'not',\n  'execute',\n  'money',\n  'be',\n  'take',\n  'card',\n  'bank',\n  'account',\n  'but',\n  'not',\n  'used',\n  'expect',\n  'to',\n  'receive',\n  'a',\n  'refund',\n  'of',\n  'your',\n  'bank',\n  'or',\n  'card',\n  'withdrawal',\n  'profit',\n  'well',\n  'all',\n  'lose',\n  'for',\n  'us'],\n ['here',\n  'be',\n  'my',\n  'gut',\n  'feeling',\n  'for',\n  'shib',\n  'transaction',\n  'make',\n  'on',\n  'saturday',\n  'the',\n  'app',\n  'be',\n  'in',\n  'a',\n  'mess',\n  'on',\n  'saturday',\n  'they',\n  'get',\n  'too',\n  'many',\n  'shib',\n  'order',\n  'and',\n  'most',\n  'of',\n  'them',\n  'be',\n  'not',\n  'execute',\n  'money',\n  'be',\n  'take',\n  'card',\n  'bank',\n  'account',\n  'but',\n  'not',\n  'used',\n  'expect',\n  'to',\n  'receive',\n  'a',\n  'refund',\n  'of',\n  'your',\n  'bank',\n  'or',\n  'card',\n  'withdrawal',\n  'profit',\n  'all',\n  'be',\n  'lose',\n  'for',\n  'us'],\n ['i', 'want', 'my', 'shib', 'wheres', 'my', 'shib'],\n ['shiba', 'to', 'the', 'moon'],\n ['i', 'start', 'with', 'shiba'],\n ['shib', 'crash', 'the', 'app'],\n ['look', 'like', 'shib', 'crash', 'the', 'cro', 'app'],\n ['i',\n  'mean',\n  'why',\n  'list',\n  'shib',\n  'if',\n  'you',\n  'dont',\n  'have',\n  'the',\n  'network',\n  'capacity',\n  'anyway',\n  'it',\n  'crash',\n  'lot',\n  'of',\n  'exchange'],\n ['everyone', 'want', 'to', 'become', 'rich', 'thanks', 'to', 'shiba', 'd'],\n ['i', 'finally', 'manage', 'to', 'buy', 'shib'],\n ['anyway',\n  'admin',\n  'please',\n  'put',\n  'out',\n  'a',\n  'notice',\n  'on',\n  'twitter',\n  'when',\n  'the',\n  'app',\n  'work',\n  'again',\n  'i',\n  'just',\n  'want',\n  'to',\n  'buy',\n  'more',\n  'shib',\n  'or',\n  'maybe',\n  'you',\n  'finish',\n  'the',\n  'one',\n  'you',\n  'have',\n  'in',\n  'stock',\n  'then',\n  'go',\n  'buy',\n  'shib',\n  'and',\n  'add',\n  'more',\n  'to',\n  'the',\n  'warehouse'],\n ['yall',\n  'that',\n  'be',\n  'talk',\n  'nonsense',\n  'need',\n  'to',\n  'stop',\n  'talk',\n  'and',\n  'read',\n  'they',\n  'be',\n  'work',\n  'on',\n  'it',\n  'i',\n  'have',\n  'same',\n  'issue',\n  'and',\n  'my',\n  'account',\n  'for',\n  'half',\n  'have',\n  'already',\n  'be',\n  'correct',\n  'and',\n  'i',\n  'have',\n  'not',\n  'lose',\n  'a',\n  'dollar',\n  'only',\n  'gain',\n  'once',\n  'it',\n  'correct',\n  'only',\n  'lose',\n  'the',\n  'chance',\n  'to',\n  'watch',\n  'it',\n  'go',\n  'up',\n  'and',\n  'up',\n  'shiba',\n  'shib'],\n ['how', 'can', 'someone', 'buy', 'shib', 'on', 'binance', 'app'],\n ['what',\n  'be',\n  'resolve',\n  'still',\n  'no',\n  'trace',\n  'of',\n  'my',\n  'shib',\n  'purchase',\n  'on',\n  'saturday'],\n ['hi',\n  'just',\n  'bring',\n  'mil',\n  'shib',\n  'and',\n  'get',\n  'the',\n  'timeout',\n  'error',\n  'but',\n  'my',\n  'bank',\n  'account',\n  'it',\n  'show',\n  'me',\n  'the',\n  'transaction',\n  'and',\n  'ive',\n  'be',\n  'charger',\n  'for',\n  'that',\n  'so',\n  'what',\n  'happen',\n  'next',\n  'because',\n  'theres',\n  'no',\n  'customer',\n  'service'],\n ['be',\n  'anyone',\n  'elses',\n  'shib',\n  'withdrawal',\n  'take',\n  'age',\n  'ive',\n  'be',\n  'wait',\n  'over',\n  'an',\n  'hour',\n  'and',\n  'a',\n  'half',\n  'admin',\n  'do',\n  'you',\n  'know',\n  'whats',\n  'happen'],\n ['i',\n  'hope',\n  'i',\n  'be',\n  'wrong',\n  'but',\n  'here',\n  'be',\n  'my',\n  'theory',\n  'on',\n  'shib',\n  'transaction',\n  'make',\n  'on',\n  'saturday',\n  'and',\n  'not',\n  'show',\n  'up',\n  'the',\n  'app',\n  'be',\n  'in',\n  'a',\n  'mess',\n  'on',\n  'saturday',\n  'they',\n  'get',\n  'too',\n  'many',\n  'shib',\n  'order',\n  'and',\n  'most',\n  'of',\n  'them',\n  'be',\n  'not',\n  'execute',\n  'money',\n  'be',\n  'take',\n  'card',\n  'bank',\n  'account',\n  'but',\n  'not',\n  'used',\n  'expect',\n  'to',\n  'receive',\n  'a',\n  'refund',\n  'of',\n  'your',\n  'bank',\n  'or',\n  'card',\n  'withdrawal',\n  'profit',\n  'all',\n  'be',\n  'lose',\n  'for',\n  'us'],\n ['anyone', 'know', 'anything', 'about', 'doge'],\n ['here',\n  'be',\n  'my',\n  'gut',\n  'feeling',\n  'for',\n  'transaction',\n  'make',\n  'on',\n  'saturday',\n  'and',\n  'not',\n  'show',\n  'up',\n  'the',\n  'app',\n  'be',\n  'already',\n  'in',\n  'a',\n  'mess',\n  'on',\n  'saturday',\n  'they',\n  'get',\n  'too',\n  'many',\n  'shib',\n  'order',\n  'and',\n  'most',\n  'of',\n  'them',\n  'be',\n  'not',\n  'execute',\n  'money',\n  'be',\n  'take',\n  'card',\n  'bank',\n  'account',\n  'but',\n  'they',\n  'could',\n  'not',\n  'complete',\n  'the',\n  'transaction',\n  'expect',\n  'to',\n  'receive',\n  'a',\n  'refund',\n  'of',\n  'your',\n  'bank',\n  'or',\n  'card',\n  'withdrawal',\n  'profit',\n  'all',\n  'be',\n  'lose',\n  'for',\n  'us'],\n ['be', 'shib', 'withdrawal', 'disable'],\n ['yes', 'ive', 'have', 'the', 'same', 'problem', 'with', 'shibu'],\n ['i', 'wan', 'na', 'buy', 'trx', 'and', 'doge'],\n ['how',\n  'can',\n  'i',\n  'sell',\n  'my',\n  'shib',\n  'into',\n  'fiat',\n  'currency',\n  'inside',\n  'the',\n  'cryptocom',\n  'app'],\n ['i',\n  'transfer',\n  'shiba',\n  'to',\n  'binance',\n  'transaction',\n  'hr',\n  'still',\n  'pending',\n  'and',\n  'i',\n  'cant',\n  'find',\n  'it',\n  'on',\n  'etherscan',\n  'why',\n  'what',\n  'it',\n  'can',\n  'be'],\n ['i',\n  'transfer',\n  'shiba',\n  'frm',\n  'cryptocom',\n  'to',\n  'binance',\n  'transaction',\n  'hr',\n  'still',\n  'pending',\n  'and',\n  'i',\n  'cant',\n  'find',\n  'it',\n  'on',\n  'etherscan',\n  'why',\n  'what',\n  'it',\n  'can',\n  'be'],\n ['hi',\n  'i',\n  'have',\n  'transfer',\n  'shiba',\n  'from',\n  'my',\n  'cryptocom',\n  'wallet',\n  'to',\n  'binance',\n  'it',\n  'have',\n  'be',\n  'hour',\n  'and',\n  'the',\n  'transaction',\n  'be',\n  'still',\n  'pending',\n  'be',\n  'these',\n  'fund',\n  'lose'],\n ['hi',\n  'i',\n  'have',\n  'transfer',\n  'shiba',\n  'from',\n  'my',\n  'cryptocom',\n  'wallet',\n  'to',\n  'binance',\n  'it',\n  'have',\n  'be',\n  'hour',\n  'and',\n  'the',\n  'transaction',\n  'be',\n  'still',\n  'pending',\n  'be',\n  'these',\n  'fund',\n  'lose'],\n ['shiba', 'inu', 'to', 'the'],\n ['here',\n  'be',\n  'my',\n  'gut',\n  'feeling',\n  'for',\n  'transaction',\n  'make',\n  'on',\n  'saturday',\n  'and',\n  'not',\n  'show',\n  'up',\n  'the',\n  'app',\n  'be',\n  'already',\n  'in',\n  'a',\n  'mess',\n  'on',\n  'saturday',\n  'they',\n  'get',\n  'too',\n  'many',\n  'shib',\n  'order',\n  'and',\n  'most',\n  'of',\n  'them',\n  'be',\n  'not',\n  'execute',\n  'money',\n  'be',\n  'take',\n  'card',\n  'bank',\n  'account',\n  'but',\n  'they',\n  'could',\n  'not',\n  'complete',\n  'the',\n  'transaction',\n  'expect',\n  'to',\n  'receive',\n  'a',\n  'refund',\n  'of',\n  'your',\n  'bank',\n  'or',\n  'card',\n  'withdrawal',\n  'profit',\n  'all',\n  'be',\n  'lose',\n  'for',\n  'us'],\n ['thats',\n  'a',\n  'good',\n  'strategy',\n  'for',\n  'shiba',\n  'if',\n  'anyone',\n  'you',\n  'know',\n  'about',\n  'what',\n  'happen',\n  'today',\n  'wait',\n  'for',\n  'icp',\n  'launch',\n  'on',\n  'huobi'],\n ['shiba', 'inu', 'the', 'doge', 'killer'],\n ['what', 'do', 'u', 'think', 'about', 'shib'],\n ['hey',\n  'quick',\n  'question',\n  'yesterday',\n  'i',\n  'be',\n  'try',\n  'to',\n  'buy',\n  'shib',\n  'my',\n  'transaction',\n  'get',\n  'fail',\n  'on',\n  'the',\n  'app',\n  'but',\n  'i',\n  'be',\n  'charge',\n  'for',\n  'the',\n  'coin',\n  'have',\n  'anyone',\n  'face',\n  'this',\n  'issue'],\n ['hello',\n  'i',\n  'need',\n  'help',\n  'from',\n  'support',\n  'i',\n  'buy',\n  'doge',\n  'on',\n  'the',\n  'cryptocom',\n  'app',\n  'and',\n  'the',\n  'money',\n  'be',\n  'take',\n  'out',\n  'of',\n  'my',\n  'bank',\n  'account',\n  'but',\n  'i',\n  'have',\n  'no',\n  'gotten',\n  'anything'],\n ['why',\n  'be',\n  'you',\n  'buy',\n  'shib',\n  'in',\n  'the',\n  'first',\n  'place',\n  'it',\n  'have',\n  'value'],\n ['guy', 'how', 'be', 'shib', 'in', 'coin', 'any', 'suggestion', 'please'],\n ['be', 'people', 'sell', 'their', 'cro', 'for', 'shib'],\n ['have',\n  'anyone',\n  'be',\n  'able',\n  'to',\n  'withdraw',\n  'shib',\n  'from',\n  'the',\n  'app',\n  'to',\n  'an',\n  'external',\n  'wallet',\n  'before',\n  'min',\n  'withdrawal',\n  'amount',\n  'be',\n  'million',\n  'so',\n  'i',\n  'buy',\n  'more',\n  'and',\n  'now',\n  'its',\n  'say',\n  'withdrawing',\n  'be',\n  'not',\n  'available',\n  'for',\n  'shib',\n  'when',\n  'early',\n  'it',\n  'tell',\n  'me',\n  'its',\n  'possible',\n  'anyone',\n  'manage',\n  'to',\n  'withdraw'],\n ['i',\n  'buy',\n  'shib',\n  'twice',\n  'on',\n  'saturday',\n  'between',\n  'pm',\n  'uk',\n  'time',\n  'and',\n  'receive',\n  'the',\n  'shib',\n  'within',\n  'a',\n  'few',\n  'minute',\n  'this',\n  'be',\n  'probably',\n  'before',\n  'it',\n  'get',\n  'really',\n  'back',\n  'up',\n  'though'],\n ['can',\n  'anyone',\n  'explain',\n  'why',\n  'my',\n  'shib',\n  'withdrawal',\n  'be',\n  'still',\n  'pending',\n  'after',\n  'hour'],\n ['its',\n  'not',\n  'say',\n  'withdrawal',\n  'not',\n  'possible',\n  'for',\n  'shib',\n  'no',\n  'idea',\n  'whats',\n  'happen'],\n ['shibaaa', 'to', 'the', 'moon', 'baby'],\n ['why', 'cryptocom', 'doesnt', 'allow', 'shib', 'withdraws'],\n ['i',\n  'buy',\n  'm',\n  'shib',\n  'yesterday',\n  'and',\n  'they',\n  'appear',\n  'on',\n  'my',\n  'wallet',\n  'like',\n  'minute',\n  'after',\n  'the',\n  'purchase'],\n ['be',\n  'there',\n  'a',\n  'delay',\n  'in',\n  'bnb',\n  'withdrawal',\n  'do',\n  'you',\n  'know',\n  'or',\n  'any',\n  'other',\n  'coin',\n  'apart',\n  'from',\n  'just',\n  'shib'],\n ['hi',\n  'need',\n  'help',\n  'i',\n  'bought',\n  'shiba',\n  'but',\n  'i',\n  'didnt',\n  'receive',\n  'it'],\n ['ok',\n  'mate',\n  'tks',\n  'for',\n  'the',\n  'infosi',\n  'will',\n  'try',\n  'to',\n  'send',\n  'shiba',\n  'milion',\n  'multipletimeshope',\n  'it',\n  'work',\n  'this',\n  'way'],\n ['please', 'upgrade', 'server', 'this', 'happen', 'with', 'doge', 'too'],\n ['im',\n  'so',\n  'happy',\n  'shib',\n  'have',\n  'a',\n  'wallet',\n  'now',\n  'thank',\n  'you',\n  'cryptocom'],\n ['i',\n  'buy',\n  'mm',\n  'shiba',\n  'inu',\n  'time',\n  'back',\n  'to',\n  'back',\n  'be',\n  'charge',\n  'in',\n  'my',\n  'bank',\n  'account',\n  'but',\n  'only',\n  'receive',\n  'mm',\n  'i',\n  'should',\n  'have',\n  'mm',\n  'can',\n  'someone',\n  'help'],\n ['i',\n  'purchase',\n  'worth',\n  'of',\n  'shiba',\n  'this',\n  'morning',\n  'and',\n  'still',\n  'havent',\n  'get',\n  'it'],\n ['i',\n  'havent',\n  'get',\n  'the',\n  'answer',\n  'yet',\n  'why',\n  'be',\n  'it',\n  'not',\n  'possible',\n  'to',\n  'buy',\n  'million',\n  'token',\n  'of',\n  'shib',\n  'in',\n  'app',\n  'i',\n  'dont',\n  'want',\n  'to',\n  'do',\n  'multiple',\n  'transaction'],\n ['it',\n  'take',\n  'mine',\n  'about',\n  'ish',\n  'hour',\n  'to',\n  'show',\n  'its',\n  'the',\n  'overwhelming',\n  'buyer',\n  'for',\n  'shib',\n  'cause',\n  'this',\n  'shit',\n  'i',\n  'dont',\n  'think',\n  'any',\n  'exchange',\n  'would',\n  'be',\n  'capable',\n  'of',\n  'deal',\n  'with',\n  'that',\n  'amount',\n  'of',\n  'transaction',\n  'all',\n  'at',\n  'one',\n  'go',\n  'chill',\n  'out',\n  'people',\n  'your',\n  'money',\n  'be',\n  'safe',\n  'with',\n  'cdc',\n  'if',\n  'cdc',\n  'be',\n  'to',\n  'run',\n  'with',\n  'our',\n  'money',\n  'i',\n  'dont',\n  'think',\n  'they',\n  'would',\n  'have',\n  'all',\n  'the',\n  'affiliation',\n  'they',\n  'have',\n  'right',\n  'now'],\n ['be', 'you', 'run', 'out', 'of', 'shib', 'supply'],\n ['hello',\n  'i',\n  'purchase',\n  'shib',\n  'and',\n  'saw',\n  'charge',\n  'as',\n  'oppose',\n  'to',\n  'i',\n  'got',\n  'my',\n  'crypto',\n  'for',\n  'charger',\n  'the',\n  'rd',\n  'didnt',\n  'give',\n  'me',\n  'crypto',\n  'but',\n  'it',\n  'charge',\n  'my',\n  'card',\n  'still'],\n ['shiba', 'be'],\n ['eta', 'on', 'shib', 'withdrawal'],\n ['so',\n  'after',\n  'day',\n  'my',\n  'shib',\n  'arrive',\n  'same',\n  'amount',\n  'and',\n  'same',\n  'price',\n  'like',\n  'i',\n  'buy',\n  'them',\n  'on',\n  'saturday',\n  'so',\n  'its',\n  'fine',\n  'for',\n  'me',\n  '🤘'],\n ['sorry',\n  'but',\n  'you',\n  'have',\n  'to',\n  'read',\n  'the',\n  'market',\n  'and',\n  'do',\n  'your',\n  'own',\n  'research',\n  'for',\n  'that',\n  'investing',\n  'in',\n  'project',\n  'such',\n  'as',\n  'shib',\n  'be',\n  'quite',\n  'risky',\n  'nfa'],\n ['be', 'shib', 'purchase', 'use', 'cro', 'disable'],\n ['we',\n  'can',\n  'not',\n  'buy',\n  'shib',\n  'from',\n  'crypto',\n  'wallet',\n  'anymore',\n  'why'],\n ['we', 'can', 'not', 'buy', 'shiba', 'with', 'crypto', 'now', 'why'],\n ['what', 'coin', 'can', 'shib', 'be', 'buy', 'wiht'],\n ['what', 'coin', 'can', 'shib', 'be', 'buy', 'wiht'],\n ['admin', 'what', 'coin', 'can', 'shib', 'be', 'buy', 'wiht'],\n ['hi',\n  'brian',\n  'you',\n  'should',\n  'be',\n  'able',\n  'to',\n  'buy',\n  'shib',\n  'use',\n  'the',\n  'following',\n  'token',\n  'crobtcusdcusdttgbp'],\n ['you', 'be', 'talk', 'about', 'shib', 'right', 'same', 'situation'],\n ['admin',\n  'chris',\n  'you',\n  'can',\n  'not',\n  'buy',\n  'with',\n  'btc',\n  'or',\n  'cro',\n  'now',\n  'what',\n  'coin',\n  'can',\n  'you',\n  'buy',\n  'shib',\n  'wiht'],\n ['can',\n  'any',\n  'admin',\n  'answer',\n  'what',\n  'coin',\n  'to',\n  'use',\n  'to',\n  'biuy',\n  'shib',\n  'btc',\n  'and',\n  'cro',\n  'you',\n  'can',\n  'not',\n  'which',\n  'be',\n  'ridiculous',\n  'you',\n  'can',\n  'not',\n  'use',\n  'house',\n  'coin',\n  'to',\n  'buy',\n  'anything'],\n ['can',\n  'any',\n  'admin',\n  'answer',\n  'what',\n  'coin',\n  'to',\n  'use',\n  'to',\n  'biuy',\n  'shib',\n  'btc',\n  'and',\n  'cro',\n  'you',\n  'can',\n  'not',\n  'which',\n  'be',\n  'ridiculous',\n  'you',\n  'can',\n  'not',\n  'use',\n  'house',\n  'coin',\n  'to',\n  'buy',\n  'anything'],\n ['i',\n  'buy',\n  'shib',\n  'on',\n  'crypto',\n  'and',\n  'they',\n  'take',\n  'my',\n  'money',\n  'out',\n  'but',\n  'never',\n  'give',\n  'it',\n  'to',\n  'me'],\n ['can',\n  'any',\n  'admin',\n  'answer',\n  'what',\n  'coin',\n  'to',\n  'use',\n  'to',\n  'biuy',\n  'shib',\n  'btc',\n  'and',\n  'cro',\n  'you',\n  'can',\n  'not',\n  'which',\n  'be',\n  'ridiculous',\n  'you',\n  'can',\n  'not',\n  'use',\n  'house',\n  'coin',\n  'to',\n  'buy',\n  'anything'],\n ['can',\n  'any',\n  'admin',\n  'answer',\n  'what',\n  'coin',\n  'to',\n  'use',\n  'to',\n  'biuy',\n  'shib',\n  'btc',\n  'and',\n  'cro',\n  'you',\n  'can',\n  'not',\n  'which',\n  'be',\n  'ridiculous',\n  'you',\n  'can',\n  'not',\n  'use',\n  'house',\n  'coin',\n  'to',\n  'buy',\n  'anything'],\n ['can',\n  'any',\n  'admin',\n  'answer',\n  'what',\n  'coin',\n  'to',\n  'use',\n  'to',\n  'biuy',\n  'shib',\n  'btc',\n  'and',\n  'cro',\n  'you',\n  'can',\n  'not',\n  'which',\n  'be',\n  'ridiculous',\n  'you',\n  'can',\n  'not',\n  'use',\n  'house',\n  'coin',\n  'to',\n  'buy',\n  'anything',\n  'can',\n  'any',\n  'admin',\n  'answer',\n  'what',\n  'coin',\n  'to',\n  'use',\n  'to',\n  'biuy',\n  'shib',\n  'btc',\n  'and',\n  'cro',\n  'you',\n  'can',\n  'not',\n  'which',\n  'be',\n  'ridiculous',\n  'you',\n  'can',\n  'not',\n  'use',\n  'house',\n  'coin',\n  'to',\n  'buy',\n  'anything'],\n ['can',\n  'any',\n  'admin',\n  'answer',\n  'what',\n  'coin',\n  'to',\n  'use',\n  'to',\n  'biuy',\n  'shib',\n  'btc',\n  'and',\n  'cro',\n  'you',\n  'can',\n  'not',\n  'which',\n  'be',\n  'ridiculous',\n  'you',\n  'can',\n  'not',\n  'use',\n  'house',\n  'coin',\n  'to',\n  'buy',\n  'anything'],\n ['look', 'like', 'they', 'stop', 'buy', 'for', 'shib', 'at', 'the', 'moment'],\n ['still',\n  'havent',\n  'receive',\n  'my',\n  'shib',\n  'purchase',\n  'from',\n  'last',\n  'saturday'],\n ['hi',\n  'mat',\n  'i',\n  'purchase',\n  '£',\n  'worth',\n  'of',\n  'shib',\n  'on',\n  'saturday',\n  'and',\n  'you',\n  'guy',\n  'didnt',\n  'give',\n  'me',\n  'my',\n  'crypto',\n  'i',\n  'have',\n  'message',\n  'support',\n  'through',\n  'the',\n  'app',\n  'however',\n  'no',\n  'reply',\n  'can',\n  'i',\n  'get',\n  'some',\n  'kind',\n  'of',\n  'confirmation',\n  'i',\n  'will',\n  'be',\n  'refund',\n  'as',\n  'it',\n  'be',\n  'not',\n  'show',\n  'in',\n  'my',\n  'transaction',\n  'history',\n  'but',\n  'you',\n  'have',\n  'take',\n  'it',\n  'out',\n  'of',\n  'my',\n  'bank',\n  'thanks'],\n ['same',\n  'thing',\n  'with',\n  'me',\n  'x',\n  'charge',\n  'but',\n  'it',\n  'seem',\n  'i',\n  'get',\n  'the',\n  'amount',\n  'of',\n  'shiba',\n  'that',\n  'i',\n  'be',\n  'try',\n  'to',\n  'order',\n  'but',\n  'at',\n  'a',\n  'much',\n  'high',\n  'price',\n  'after',\n  'the',\n  'fact'],\n ['admin',\n  'my',\n  'shib',\n  'withdrawal',\n  'be',\n  'still',\n  'pending',\n  'after',\n  'after',\n  'hour',\n  'whats',\n  'happen'],\n ['do', 'we', 'have', 'any', 'eta', 'on', 'shib', 'withdrawal'],\n ['this',\n  'type',\n  'of',\n  'business',\n  'be',\n  'not',\n  'good',\n  'for',\n  'the',\n  'cryptos',\n  'token',\n  'especially',\n  'for',\n  'shiba',\n  'uni',\n  'which',\n  'be',\n  'a',\n  'new',\n  'talk',\n  'a',\n  'lot',\n  'people',\n  'be',\n  'afraid',\n  'to',\n  'purchase',\n  'or',\n  'invest',\n  'theirs',\n  'money',\n  'because',\n  'they',\n  'be',\n  'go',\n  'to',\n  'loose',\n  'it'],\n ['hi',\n  'all',\n  'why',\n  'i',\n  'cant',\n  'sell',\n  'doge',\n  'to',\n  'cro',\n  'worked',\n  'ok',\n  'yesterday'],\n ['need',\n  'some',\n  'help',\n  'why',\n  'i',\n  'cant',\n  'sell',\n  'doge',\n  'to',\n  'cro',\n  'worked',\n  'ok',\n  'yesterday'],\n ['try',\n  'to',\n  'convert',\n  'some',\n  'doge',\n  'to',\n  'cro',\n  'but',\n  'i',\n  'cant',\n  'work',\n  'ok',\n  'yesterday',\n  'sell',\n  'doge',\n  'wont',\n  'give',\n  'me',\n  'cro',\n  'on',\n  'the',\n  'list'],\n ['try',\n  'to',\n  'convert',\n  'some',\n  'doge',\n  'to',\n  'cro',\n  'but',\n  'i',\n  'cant',\n  'work',\n  'ok',\n  'yesterday',\n  'sellong',\n  'doge',\n  'wont',\n  'give',\n  'me',\n  'cro',\n  'on',\n  'the',\n  'list'],\n ['whats', 'todays', 'deal', 'just', 'like', 'shiba'],\n ['why', 'i', 'cant', 'convert', 'doge', 'to', 'cro'],\n ['and', 'cro', 'to', 'doge'],\n ['i',\n  'can',\n  'do',\n  'cro',\n  'to',\n  'doge',\n  'but',\n  'not',\n  'the',\n  'other',\n  'way',\n  'around'],\n ['i', 'can', 'do', 'doge', 'to', 'cro', 'but', 'not', 'cro', 'to', 'doge'],\n ['lol', 'now', 'thats', 'funny', 'i', 'cant', 'convert', 'doge', 'to', 'cro'],\n ['cro', 'to', 'shiba', 'impossible', 'to'],\n ['hello',\n  'everyone',\n  'since',\n  'today',\n  'i',\n  'be',\n  'receive',\n  'email',\n  'permanently',\n  'about',\n  'buy',\n  'shiba',\n  'inu'],\n ['i', 'recieved', 'the', 'shib', 'coin', 'now'],\n ['anyone',\n  'get',\n  'shib',\n  'and',\n  'what',\n  'be',\n  'your',\n  'thought',\n  'for',\n  'the',\n  'future',\n  'of',\n  'doge'],\n ['hi',\n  'can',\n  'check',\n  'what',\n  'happen',\n  'to',\n  'shib',\n  'on',\n  'cryptocom',\n  'selling',\n  'be',\n  'suspend'],\n ['receive', 'my', 'shib', 'coin', 'thanks'],\n ['when', 'can', 'we', 'put', 'shib', 'in', 'crypto', 'earn'],\n ['do', 'cryptocom', 'sell', 'shib'],\n ['yes', 'its', 'actually', 'on', 'shib'],\n ['can', 'you', 'still', 'buy', 'shiba', 'with', 'cro'],\n ['i',\n  'use',\n  'it',\n  'time',\n  'to',\n  'buy',\n  'shiba',\n  'coin',\n  'but',\n  'the',\n  'fourth',\n  'time',\n  'it',\n  'say',\n  'insufficient',\n  'fund',\n  'in',\n  'crypto',\n  'wallet',\n  'although',\n  'i',\n  'have',\n  'money',\n  'in',\n  'cro'],\n ['i', 'cant', 'buy', 'anymore', 'shiba', 'thru', 'my', 'crypto', 'wallet'],\n ['be', 'you', 'vote', 'for', 'shib', 'in', 'crypto', 'earn'],\n ['where', 'can', 'i', 'buy', 'shiba'],\n ['what',\n  'about',\n  'shiba',\n  'inu',\n  'guy',\n  'i',\n  'have',\n  'hear',\n  'that',\n  'its',\n  'the',\n  'next',\n  'doge'],\n ['shib', 'be', 'go', 'to', 'be', 'hot'],\n ['people', 'say', 'the', 'same', 'about', 'doge'],\n ['i',\n  'can',\n  'not',\n  'exchange',\n  'to',\n  'tether',\n  'or',\n  'shiba',\n  'why',\n  'be',\n  'this',\n  'pls',\n  'help'],\n ['can', 'i', 'use', 'my', 'cro', 'to', 'buy', 'shib'],\n ['i',\n  'trade',\n  'it',\n  'time',\n  'croshiba',\n  'now',\n  'feel',\n  'like',\n  'im',\n  'block'],\n ['next',\n  'on',\n  'supercharger',\n  'shib',\n  'deposit',\n  'cro',\n  'farm',\n  'shib',\n  'with',\n  'click',\n  'usd',\n  'm',\n  'allocation',\n  'may',\n  'utc',\n  'sign',\n  'up',\n  'now',\n  'bitlyqcxari',\n  'detail'],\n ['next',\n  'on',\n  'supercharger',\n  'shib',\n  'deposit',\n  'cro',\n  'farm',\n  'shib',\n  'with',\n  'click',\n  'usd',\n  'm',\n  'allocation',\n  'may',\n  'utc',\n  'sign',\n  'up',\n  'now',\n  'bitlyqcxari',\n  'detail'],\n ['hi',\n  'chris',\n  'do',\n  'you',\n  'know',\n  'when',\n  'cripto',\n  'dogelon',\n  'mar',\n  'will',\n  'be',\n  'available',\n  'on',\n  'crypto',\n  'want',\n  'to',\n  'buy',\n  'some',\n  'thank',\n  'you'],\n ['what', 'happen', 'to', 'shib'],\n ['next',\n  'on',\n  'supercharger',\n  'shib',\n  'deposit',\n  'cro',\n  'farm',\n  'shib',\n  'with',\n  'click',\n  'usd',\n  'm',\n  'allocation',\n  'may',\n  'utc',\n  'sign',\n  'up',\n  'now',\n  'bitlyqcxari',\n  'detail'],\n ['imagine',\n  'someone',\n  'donate',\n  'shiba',\n  'aka',\n  'b',\n  'to',\n  'india',\n  'not',\n  'even',\n  'doge',\n  'have',\n  'do',\n  'that',\n  'before'],\n ['shib', 'hasnt', 'either', 'though', '—', 'the', 'holder', 'do'],\n ['no', 'need', 'to', 'panic', 'buy', 'more', 'shiba'],\n ['hows', 'about', 'shib', 'can', 'anyone', 'tell', 'me'],\n ['be',\n  'there',\n  'a',\n  'reason',\n  'why',\n  'my',\n  'shib',\n  'withdrawal',\n  'have',\n  'be',\n  'pending',\n  'for',\n  'hour',\n  'now',\n  'yesterday',\n  'it',\n  'take',\n  'less',\n  'than',\n  'min'],\n ['i',\n  'can',\n  'tell',\n  'you',\n  'i',\n  'buy',\n  'shiba',\n  'when',\n  'it',\n  'hit',\n  'cdc',\n  'i',\n  'sell',\n  'at',\n  'the',\n  'high',\n  'i',\n  'could',\n  'buy',\n  'kishu',\n  'inu',\n  'if',\n  'it',\n  'hit',\n  'cdc'],\n ['the',\n  'supercharger',\n  'with',\n  'shib',\n  'be',\n  'a',\n  'real',\n  'dissappointment',\n  'shib',\n  'be',\n  'another',\n  'useless',\n  'nonsense',\n  'meme',\n  'coin',\n  'and',\n  'worse',\n  'its',\n  'an',\n  'erc',\n  'i',\n  'would',\n  'much',\n  'prefer',\n  'to',\n  'see',\n  'coin',\n  'on',\n  'supercharger',\n  'with',\n  'real',\n  'potential',\n  'and',\n  'utility',\n  'enj',\n  'be',\n  'alright',\n  'but',\n  'what',\n  'about',\n  'coin',\n  'launch',\n  'on',\n  'supercharger',\n  'or',\n  'have',\n  'more',\n  'than',\n  'one',\n  'coin',\n  'at',\n  'a',\n  'time'],\n ['how',\n  'ahd',\n  'why',\n  'be',\n  'so',\n  'many',\n  'people',\n  'buy',\n  'shiba',\n  'its',\n  'the',\n  'dog',\n  'shit',\n  'of',\n  'doge'],\n ['do', 'it', 'cost', 'a', 'lot', 'to', 'buy', 'shiba', 'with', 'crypto'],\n ['asap', 'switch', 'youre', 'btc', 'to', 'doge'],\n ['switch', 'all', 'youre', 'coin', 'to', 'doge', 'to', 'the', 'moon'],\n ['just',\n  'joke',\n  'its',\n  'just',\n  'a',\n  'dip',\n  'buy',\n  'and',\n  'tomorrow',\n  'all',\n  'fine',\n  'again',\n  'but',\n  'elons',\n  'doge',\n  'will',\n  'rise',\n  'again',\n  'i',\n  'think'],\n ['sure',\n  'hi',\n  'abby',\n  'you',\n  'can',\n  'buy',\n  'and',\n  'sell',\n  'doge',\n  'through',\n  'the',\n  'cryptocom',\n  'app'],\n ['eta', 'on', 'shiba', 'withdrawls', 'thank', 'you', 'cryptocom', 'team'],\n ['shib',\n  'withdrawal',\n  'be',\n  'enable',\n  'already',\n  '—',\n  'transfer',\n  'may',\n  'take',\n  'up',\n  'to',\n  'hrs'],\n ['try',\n  'this',\n  'crypto',\n  'app',\n  'transfer',\n  'withdraw',\n  'external',\n  'wallet',\n  'add',\n  'address',\n  'sign',\n  'on',\n  'the',\n  'top',\n  'right',\n  'corner',\n  'shib'],\n ['so',\n  'be',\n  'my',\n  'only',\n  'way',\n  'out',\n  'of',\n  'shiba',\n  'a',\n  'sellfiat',\n  'withdrawl',\n  'via',\n  'ach'],\n ['shiba',\n  'have',\n  'no',\n  'future',\n  'but',\n  'might',\n  'as',\n  'well',\n  'hold',\n  'till',\n  'you',\n  'get',\n  'your',\n  'money',\n  'back',\n  'nfa'],\n ['help',\n  'please',\n  'on',\n  'app',\n  'i',\n  'can',\n  'buy',\n  'shiba',\n  'only',\n  'by',\n  'cardtransfer',\n  'i',\n  'want',\n  'to',\n  'pay',\n  'with',\n  'eth',\n  'and',\n  'it',\n  'wont',\n  'let',\n  'me'],\n ['help',\n  'please',\n  'on',\n  'app',\n  'i',\n  'can',\n  'buy',\n  'shiba',\n  'only',\n  'by',\n  'cardtransfer',\n  'i',\n  'want',\n  'to',\n  'pay',\n  'with',\n  'eth',\n  'and',\n  'it',\n  'wont',\n  'let',\n  'me'],\n ['help',\n  'please',\n  'on',\n  'app',\n  'i',\n  'can',\n  'buy',\n  'shiba',\n  'only',\n  'by',\n  'cardtransfer',\n  'i',\n  'want',\n  'to',\n  'pay',\n  'with',\n  'eth',\n  'and',\n  'it',\n  'wont',\n  'let',\n  'me'],\n ['i', 'sit', 'on', 'shiba', 'doge', 'and', 'deepass', 'eth'],\n ['admin',\n  'help',\n  'please',\n  'on',\n  'app',\n  'i',\n  'can',\n  'buy',\n  'shiba',\n  'only',\n  'by',\n  'cardtransfer',\n  'i',\n  'want',\n  'to',\n  'pay',\n  'with',\n  'eth',\n  'and',\n  'it',\n  'wont',\n  'let',\n  'me',\n  'what',\n  'cryptocurrency',\n  'i',\n  'can',\n  'use',\n  'to',\n  'pay',\n  'for',\n  'shiba'],\n ['unfortunately',\n  'im',\n  'all',\n  'tap',\n  'out',\n  'or',\n  'id',\n  'be',\n  'buy',\n  'the',\n  'fudge',\n  'outta',\n  'some',\n  'doge'],\n ['oh',\n  'so',\n  'now',\n  'when',\n  'the',\n  'enj',\n  'charge',\n  'period',\n  'end',\n  'my',\n  'cro',\n  'be',\n  'automatically',\n  'transfer',\n  'to',\n  'the',\n  'shib',\n  'supercharger'],\n ['i',\n  'think',\n  'soamerican',\n  'shiba',\n  'ushiba',\n  'be',\n  'the',\n  'place',\n  'to',\n  'be',\n  'now'],\n ['i',\n  'be',\n  'not',\n  'a',\n  'financial',\n  'adviser',\n  'lol',\n  'but',\n  'will',\n  'say',\n  'i',\n  'trade',\n  'all',\n  'mine',\n  'for',\n  'ushiba',\n  'and',\n  'have',\n  'double',\n  'since',\n  'yesterday'],\n ['even',\n  'if',\n  'shiba',\n  'have',\n  'the',\n  'entire',\n  'market',\n  'cap',\n  'of',\n  'doge',\n  'it',\n  'would',\n  'still',\n  'be',\n  'worth',\n  'less',\n  'than',\n  'penny'],\n ['doge',\n  'and',\n  'now',\n  'shib',\n  'i',\n  'wonder',\n  'if',\n  'this',\n  'be',\n  'the',\n  'end',\n  'of',\n  'the',\n  'shitcoin',\n  'trend',\n  'actually',\n  'many',\n  'people',\n  'have',\n  'lose',\n  'an',\n  'awful',\n  'lot',\n  'of',\n  'money'],\n ['the',\n  'enj',\n  'supercharger',\n  'event',\n  'have',\n  'end',\n  'next',\n  'up',\n  'shib',\n  'to',\n  'accept',\n  'your',\n  'enj',\n  'reward',\n  'allocation',\n  'login',\n  'at',\n  'utc',\n  'may',\n  'reward',\n  'distribution',\n  'begin',\n  'at',\n  'utc',\n  'may',\n  'detail'],\n ['can',\n  'i',\n  'use',\n  'my',\n  'cro',\n  'use',\n  'for',\n  'previous',\n  'supercharger',\n  'for',\n  'shib',\n  'event',\n  'or',\n  'i',\n  'must',\n  'leave',\n  'cro',\n  'until',\n  'acceptance',\n  'of',\n  'eijin',\n  'reward'],\n ['ada', 'be', 'just', 'as', 'shitty', 'as', 'shib'],\n ['ada', 'be', 'a', 'meme', 'coin', 'like', 'doge', 'and', 'shiba'],\n ['please',\n  'first',\n  'vitalik',\n  'dump',\n  'shib',\n  'on',\n  'me',\n  'down',\n  'then',\n  'i',\n  'buy',\n  'btc',\n  'immidietly',\n  'and',\n  'elon',\n  'dump',\n  'it',\n  'on',\n  'me',\n  'atleast',\n  'now',\n  'binance',\n  'dump',\n  'on',\n  'me',\n  'that',\n  'settle',\n  'it',\n  'im',\n  'do',\n  'its',\n  'over'],\n ['shib',\n  'supercharger',\n  'event',\n  'be',\n  'now',\n  'live',\n  'deposit',\n  'cro',\n  'and',\n  'farm',\n  'shib',\n  'with',\n  'click',\n  'no',\n  'gas',\n  'fee',\n  'withdraw',\n  'anytime',\n  'available',\n  'on',\n  'app',\n  'exchange',\n  'sign',\n  'up',\n  'bitlyqcxari'],\n ['we',\n  'support',\n  'doge',\n  'via',\n  'native',\n  'network',\n  'as',\n  'you',\n  'can',\n  'see',\n  'on'],\n ['shib',\n  'supercharger',\n  'event',\n  'be',\n  'now',\n  'live',\n  'deposit',\n  'cro',\n  'and',\n  'farm',\n  'shib',\n  'with',\n  'click',\n  'no',\n  'gas',\n  'fee',\n  'withdraw',\n  'anytime',\n  'available',\n  'on',\n  'app',\n  'exchange',\n  'sign',\n  'up',\n  'bitlyqcxari'],\n ['can',\n  'someone',\n  'explain',\n  'me',\n  'this',\n  'situation',\n  'the',\n  'price',\n  'for',\n  'shiba',\n  'be',\n  'now',\n  'euro',\n  'i',\n  'have',\n  'that',\n  'mean',\n  'euro',\n  'if',\n  'i',\n  'want',\n  'to',\n  'transfer',\n  'in',\n  'my',\n  'account',\n  'shibaeuro',\n  'same',\n  'mean',\n  'euro',\n  'why',\n  'be',\n  'that',\n  'difference'],\n ['all',\n  'the',\n  'news',\n  'will',\n  'just',\n  'make',\n  'shiba',\n  'more',\n  'popular',\n  'thank',\n  'you',\n  'vitalik'],\n ['it',\n  'might',\n  'make',\n  'you',\n  'x',\n  'max',\n  'from',\n  'now',\n  'good',\n  'go',\n  'with',\n  'shiba'],\n ['what', 'about', 'shib'],\n ['im',\n  'just',\n  'wait',\n  'for',\n  'the',\n  'indian',\n  'covid',\n  'relief',\n  'fund',\n  'to',\n  'dump',\n  'their',\n  'one',\n  'billion',\n  'dollar',\n  'worth',\n  'of',\n  'shib',\n  'any',\n  'time',\n  'now'],\n ['cant',\n  'say',\n  'really',\n  'cause',\n  'be',\n  'not',\n  'financial',\n  'advisor',\n  'here',\n  'but',\n  'id',\n  'say',\n  'doge'],\n ['🤣🤣', 'im', 'a', 'big', 'doge', 'enthusiast', 'ffs'],\n ['why',\n  'cant',\n  'i',\n  'convert',\n  'my',\n  'shib',\n  'to',\n  'eth',\n  'on',\n  'your',\n  'app'],\n ['cryptocom', 'app', 'be', 'allow', 'shib', 'deposit', 'now'],\n ['what',\n  'about',\n  'the',\n  'shib',\n  'movement',\n  'it',\n  'have',\n  'go',\n  'down',\n  'majorly'],\n ['there', 'be', 'a', 'supercharger', 'event', 'for', 'shib'],\n ['need',\n  'to',\n  'put',\n  'in',\n  'cro',\n  'and',\n  'in',\n  'day',\n  'you',\n  'get',\n  'some',\n  'shib'],\n ['doge',\n  'or',\n  'shib',\n  'on',\n  'earn',\n  'with',\n  'over',\n  'k',\n  'response',\n  'be',\n  'add',\n  'them',\n  'both',\n  'earn',\n  'up',\n  'to',\n  '⃣',\n  'pa',\n  'on',\n  'doge',\n  'and',\n  'shib',\n  'detail'],\n ['doge',\n  'or',\n  'shib',\n  'on',\n  'earn',\n  'with',\n  'over',\n  'k',\n  'response',\n  'be',\n  'add',\n  'them',\n  'both',\n  'earn',\n  'up',\n  'to',\n  '⃣',\n  'pa',\n  'on',\n  'doge',\n  'and',\n  'shib',\n  'detail'],\n ['hello',\n  'i',\n  'have',\n  'a',\n  'question',\n  'what',\n  'be',\n  'the',\n  'difference',\n  'between',\n  'shiba',\n  'inu',\n  'to',\n  'kishu',\n  'inu'],\n ['doge',\n  'or',\n  'shib',\n  'on',\n  'earn',\n  'with',\n  'over',\n  'k',\n  'response',\n  'be',\n  'add',\n  'them',\n  'both',\n  'earn',\n  'up',\n  'to',\n  '⃣',\n  'pa',\n  'on',\n  'doge',\n  'and',\n  'shib',\n  'detail'],\n ['hope',\n  'i',\n  'can',\n  'get',\n  'some',\n  'help',\n  'here',\n  'attempt',\n  'to',\n  'buy',\n  'million',\n  'shib',\n  'with',\n  'mastercard',\n  'ive',\n  'already',\n  'add',\n  'when',\n  'enter',\n  'the',\n  'amount',\n  'nothing',\n  'happens'],\n ['if',\n  'anyone',\n  'have',\n  'the',\n  'issue',\n  'i',\n  'be',\n  'have',\n  'not',\n  'be',\n  'able',\n  'to',\n  'purchase',\n  'shib',\n  'add',\n  'a',\n  'period',\n  'after',\n  'the',\n  'amount',\n  'youre',\n  'attempt',\n  'to',\n  'buy',\n  'for',\n  'me',\n  'buy',\n  'million',\n  'need',\n  'to',\n  'be',\n  'like',\n  'this',\n  'note',\n  'the',\n  'period'],\n ['crocom',\n  'charge',\n  'me',\n  'twice',\n  'when',\n  'i',\n  'buy',\n  'shiba',\n  'on',\n  'the',\n  'first',\n  'time',\n  'i',\n  'try',\n  'to',\n  'buy',\n  'it',\n  'didnt',\n  'go',\n  'through',\n  'and',\n  'crash',\n  'my',\n  'app',\n  'so',\n  'i',\n  'try',\n  'again',\n  'and',\n  'it',\n  'work',\n  'turn',\n  'out',\n  'it',\n  'charge',\n  'me',\n  'twice',\n  'on',\n  'my',\n  'card',\n  'who',\n  'do',\n  'i',\n  'contact',\n  'to',\n  'fix',\n  'that'],\n ['crocom',\n  'charge',\n  'me',\n  'twice',\n  'when',\n  'i',\n  'buy',\n  'shiba',\n  'on',\n  'the',\n  'first',\n  'time',\n  'i',\n  'try',\n  'to',\n  'buy',\n  'it',\n  'didnt',\n  'go',\n  'through',\n  'and',\n  'crash',\n  'my',\n  'app',\n  'so',\n  'i',\n  'try',\n  'again',\n  'and',\n  'it',\n  'work',\n  'turn',\n  'out',\n  'it',\n  'charge',\n  'me',\n  'twice',\n  'on',\n  'my',\n  'card',\n  'who',\n  'do',\n  'i',\n  'contact',\n  'to',\n  'fix',\n  'that'],\n ['hi',\n  'what',\n  'be',\n  'the',\n  'email',\n  'for',\n  'support',\n  'i',\n  'didnt',\n  'receive',\n  'doge',\n  'reward'],\n ['hello',\n  'and',\n  'welcome',\n  'to',\n  'cryptocom',\n  'the',\n  'best',\n  'place',\n  'to',\n  'buy',\n  'sell',\n  'and',\n  'earn',\n  'cryptocurrency',\n  'late',\n  'news',\n  '•',\n  'arweave',\n  'be',\n  'now',\n  'list',\n  'in',\n  'the',\n  'cryptocom',\n  'app',\n  '•',\n  'chia',\n  'be',\n  'now',\n  'list',\n  'in',\n  'the',\n  'cryptocom',\n  'app',\n  '•',\n  'buy',\n  'xch',\n  'at',\n  'true',\n  'cost',\n  'with',\n  'usd',\n  'eur',\n  'gbp',\n  'and',\n  '•',\n  'cryptocom',\n  'be',\n  'now',\n  'the',\n  'official',\n  'cryptocurrency',\n  'nft',\n  'sponsor',\n  'of',\n  'the',\n  'ice',\n  'hockey',\n  'world',\n  'championship',\n  '•',\n  'eth',\n  'gas',\n  'meter',\n  'price',\n  'alert',\n  'in',\n  'the',\n  'cryptocom',\n  'defi',\n  'wallet',\n  '•',\n  'shib',\n  'supercharger',\n  'event',\n  'be',\n  'now',\n  'live',\n  'buy',\n  'sell',\n  'and',\n  'exchange',\n  '•',\n  'app',\n  '•',\n  'nfts',\n  '•',\n  'spot',\n  '•',\n  'margin',\n  '•',\n  'derivatives',\n  '•',\n  'syndicate',\n  '•',\n  'trading',\n  'arena',\n  'spend',\n  '•',\n  'metal',\n  'visa',\n  'card',\n  '•',\n  'cryptocom',\n  'pay',\n  'earn',\n  '•',\n  'crypto',\n  'earn',\n  '•',\n  'crypto',\n  'credit',\n  'defi',\n  '•',\n  'defi',\n  'wallet',\n  '•',\n  'defi',\n  'earn',\n  '•',\n  'swap',\n  'ecosystem',\n  '•',\n  'cryptoorg',\n  'chain',\n  '•',\n  'pay',\n  'for',\n  'business',\n  'cryptocom',\n  'telegram',\n  'community',\n  'rule',\n  '⃣',\n  'please',\n  'speak',\n  'english',\n  'here',\n  '⃣',\n  'no',\n  'spam',\n  'scam',\n  'promotion',\n  'ref',\n  'link',\n  'beg',\n  'advertisement',\n  'porn',\n  'troll',\n  '⃣',\n  'keep',\n  'the',\n  'discussion',\n  'factbased',\n  'respectful',\n  'and',\n  'friendly',\n  '⃣',\n  'no',\n  'gifs',\n  'sticker',\n  'or',\n  'suspicious',\n  'file',\n  '⃣',\n  'no',\n  'harassment',\n  'and',\n  'fud',\n  '⃣',\n  'no',\n  'price',\n  'discussion',\n  'signal',\n  'or',\n  'any',\n  'other',\n  'commentary',\n  'that',\n  'might',\n  'be',\n  'consider',\n  'investment',\n  'advice',\n  '⃣',\n  'no',\n  'validator',\n  'node',\n  'promos',\n  'allow',\n  'join',\n  'the',\n  'cryptoorg',\n  'chain',\n  'discord',\n  'validatormarket',\n  'channel',\n  'look',\n  'for',\n  'support',\n  'please',\n  'email',\n  'us',\n  'at',\n  'contactcom',\n  'or',\n  'message',\n  'us',\n  'via',\n  'the',\n  'livechat',\n  'on',\n  'our',\n  'websiteapp',\n  'remember',\n  'the',\n  'cryptocom',\n  'team',\n  'support',\n  'and',\n  'ambassador',\n  'will',\n  'never',\n  'private',\n  'message',\n  'you',\n  'first',\n  'anyone',\n  'do',\n  'so',\n  'be',\n  'a',\n  'scammer',\n  'forward',\n  'their',\n  'message',\n  'to',\n  'and',\n  'block',\n  'the',\n  'scammerimpersonator',\n  'for',\n  'your',\n  'own',\n  'safety'],\n ['hello',\n  'and',\n  'welcome',\n  'to',\n  'cryptocom',\n  'the',\n  'best',\n  'place',\n  'to',\n  'buy',\n  'sell',\n  'and',\n  'earn',\n  'cryptocurrency',\n  'late',\n  'news',\n  '•',\n  'arweave',\n  'be',\n  'now',\n  'list',\n  'in',\n  'the',\n  'cryptocom',\n  'app',\n  '•',\n  'chia',\n  'be',\n  'now',\n  'list',\n  'in',\n  'the',\n  'cryptocom',\n  'app',\n  '•',\n  'buy',\n  'xch',\n  'at',\n  'true',\n  'cost',\n  'with',\n  'usd',\n  'eur',\n  'gbp',\n  'and',\n  '•',\n  'cryptocom',\n  'be',\n  'now',\n  'the',\n  'official',\n  'cryptocurrency',\n  'nft',\n  'sponsor',\n  'of',\n  'the',\n  'ice',\n  'hockey',\n  'world',\n  'championship',\n  '•',\n  'eth',\n  'gas',\n  'meter',\n  'price',\n  'alert',\n  'in',\n  'the',\n  'cryptocom',\n  'defi',\n  'wallet',\n  '•',\n  'shib',\n  'supercharger',\n  'event',\n  'be',\n  'now',\n  'live',\n  'buy',\n  'sell',\n  'and',\n  'exchange',\n  '•',\n  'app',\n  '•',\n  'nfts',\n  '•',\n  'spot',\n  '•',\n  'margin',\n  '•',\n  'derivatives',\n  '•',\n  'syndicate',\n  '•',\n  'trading',\n  'arena',\n  'spend',\n  '•',\n  'metal',\n  'visa',\n  'card',\n  '•',\n  'cryptocom',\n  'pay',\n  'earn',\n  '•',\n  'crypto',\n  'earn',\n  '•',\n  'crypto',\n  'credit',\n  'defi',\n  '•',\n  'defi',\n  'wallet',\n  '•',\n  'defi',\n  'earn',\n  '•',\n  'swap',\n  'ecosystem',\n  '•',\n  'cryptoorg',\n  'chain',\n  '•',\n  'pay',\n  'for',\n  'business',\n  'cryptocom',\n  'telegram',\n  'community',\n  'rule',\n  '⃣',\n  'please',\n  'speak',\n  'english',\n  'here',\n  '⃣',\n  'no',\n  'spam',\n  'scam',\n  'promotion',\n  'ref',\n  'link',\n  'beg',\n  'advertisement',\n  'porn',\n  'troll',\n  '⃣',\n  'keep',\n  'the',\n  'discussion',\n  'factbased',\n  'respectful',\n  'and',\n  'friendly',\n  '⃣',\n  'no',\n  'gifs',\n  'sticker',\n  'or',\n  'suspicious',\n  'file',\n  '⃣',\n  'no',\n  'harassment',\n  'and',\n  'fud',\n  '⃣',\n  'no',\n  'price',\n  'discussion',\n  'signal',\n  'or',\n  'any',\n  'other',\n  'commentary',\n  'that',\n  'might',\n  'be',\n  'consider',\n  'investment',\n  'advice',\n  '⃣',\n  'no',\n  'validator',\n  'node',\n  'promos',\n  'allow',\n  'join',\n  'the',\n  'cryptoorg',\n  'chain',\n  'discord',\n  'validatormarket',\n  'channel',\n  'look',\n  'for',\n  'support',\n  'please',\n  'email',\n  'us',\n  'at',\n  'contactcom',\n  'or',\n  'message',\n  'us',\n  'via',\n  'the',\n  'livechat',\n  'on',\n  'our',\n  'websiteapp',\n  'remember',\n  'the',\n  'cryptocom',\n  'team',\n  'support',\n  'and',\n  'ambassador',\n  'will',\n  'never',\n  'private',\n  'message',\n  'you',\n  'first',\n  'anyone',\n  'do',\n  'so',\n  'be',\n  'a',\n  'scammer',\n  'forward',\n  'their',\n  'message',\n  'to',\n  'and',\n  'block',\n  'the',\n  'scammerimpersonator',\n  'for',\n  'your',\n  'own',\n  'safety'],\n ['thats',\n  'mean',\n  'all',\n  'platform',\n  'that',\n  'accept',\n  'shib',\n  'as',\n  'crypto',\n  'currency',\n  'do',\n  'you',\n  'think',\n  'there',\n  'anyone',\n  'believe',\n  'that',\n  'use',\n  'your',\n  'mind',\n  'and',\n  'think',\n  'like',\n  'people',\n  'and',\n  'leave',\n  'your',\n  'racism',\n  'out',\n  'of',\n  'this',\n  'field'],\n ['new', 'coin', 'shib', 'be', 'good', 'or', 'not'],\n ['stardoge',\n  'on',\n  'pancake',\n  'swap',\n  'be',\n  'go',\n  'crazy',\n  'xdoge',\n  'xccabaaccbdcfdbbbcaa'],\n ['i', 'buy', 'shiba', 'and', 'now', 'it', 'be', 'almost', 'less'],\n ['hello',\n  'house',\n  'please',\n  'be',\n  'it',\n  'possible',\n  'to',\n  'transfer',\n  'shiba',\n  'inu',\n  'from',\n  'cryptocom',\n  'to',\n  'another',\n  'user',\n  'on',\n  'cryptocom',\n  'have',\n  'try',\n  'it',\n  'severally',\n  'but',\n  'it',\n  'isnt',\n  'successful'],\n ['please',\n  'note',\n  'it',\n  'shiba',\n  'inu',\n  'i',\n  'want',\n  'to',\n  'send',\n  'to',\n  'another',\n  'cryptocom',\n  'user',\n  'not',\n  'cro',\n  'would',\n  'it',\n  'go'],\n ['be',\n  'there',\n  'a',\n  'way',\n  'i',\n  'can',\n  'see',\n  'how',\n  'much',\n  'volume',\n  'of',\n  'shib',\n  'be',\n  'be',\n  'trade',\n  'on',\n  'the',\n  'cryptocom',\n  'exchange'],\n ['from',\n  'where',\n  'to',\n  'buy',\n  'shib',\n  'in',\n  'india',\n  'any',\n  'lead',\n  'please'],\n ['shib', 'be', 'list', 'through', 'the', 'cryptocom', 'app'],\n ['binance', 'list', 'shib', 'just', 'this', 'week'],\n ['whole',\n  'crypto',\n  'market',\n  'be',\n  'be',\n  'dominate',\n  'by',\n  'bear',\n  'from',\n  'past',\n  'few',\n  'day',\n  'so',\n  'dont',\n  'panic',\n  'sell',\n  'as',\n  'panic',\n  'sell',\n  'will',\n  'benefit',\n  'the',\n  'bear',\n  'only',\n  'and',\n  'the',\n  'rate',\n  'will',\n  'start',\n  'fell',\n  'more',\n  'just',\n  'hold',\n  'on',\n  'ada',\n  'eth',\n  'doge',\n  'altltc']]"
     },
     "execution_count": 34,
     "metadata": {},
     "output_type": "execute_result"
    }
   ],
   "source": [
    "tokens = []\n",
    "for tt in tokenized_text:\n",
    "    tokens.append(lemmatize_sentence(tt))\n",
    "\n",
    "tokens"
   ],
   "metadata": {
    "collapsed": false,
    "pycharm": {
     "name": "#%%\n"
    }
   }
  },
  {
   "cell_type": "code",
   "execution_count": 35,
   "outputs": [],
   "source": [
    "texts['tokenized_clean_text'] = tokens"
   ],
   "metadata": {
    "collapsed": false,
    "pycharm": {
     "name": "#%%\n"
    }
   }
  },
  {
   "cell_type": "code",
   "execution_count": 36,
   "outputs": [
    {
     "data": {
      "text/plain": "                                                  text                 date  \\\n0    If DOGE is more worth than CRO for now, who kn...  2021-05-01T16:40:46   \n1                                    HOW ABOUT DOGE???  2021-05-01T19:21:28   \n2    Congratulations rue*****@*****com!\\n🚀 You are ...  2021-05-02T21:16:47   \n3    Congratulations rue*****@*****com!\\n🚀 You are ...  2021-05-03T12:16:38   \n4                        DOGE coin is up by +16.39%🚀🚀🚀  2021-05-03T16:44:13   \n..                                                 ...                  ...   \n423  Is there a way I can see how much volume of SH...  2021-05-15T21:01:50   \n424  From where to buy SHIB in India, any leads ple...  2021-05-15T21:04:06   \n425         SHIB is listed through the Cryptocom App 🙏  2021-05-15T21:08:02   \n426                Binance listed SHIB just this week.  2021-05-15T21:13:01   \n427  Whole crypto market is being dominated by bear...  2021-05-15T23:38:34   \n\n                                            clean_text  \\\n0    if doge is more worth than cro for now who kno...   \n1                                       how about doge   \n2    congratulations ruecom you are the weekly luck...   \n3    congratulations ruecom you are the weekly luck...   \n4                                   doge coin is up by   \n..                                                 ...   \n423  is there a way i can see how much volume of sh...   \n424   from where to buy shib in india any leads please   \n425           shib is listed through the cryptocom app   \n426                 binance listed shib just this week   \n427  whole crypto market is being dominated by bear...   \n\n                                  tokenized_clean_text  \n0    [if, doge, be, more, worth, than, cro, for, no...  \n1                                   [how, about, doge]  \n2    [congratulation, ruecom, you, be, the, weekly,...  \n3    [congratulation, ruecom, you, be, the, weekly,...  \n4                             [doge, coin, be, up, by]  \n..                                                 ...  \n423  [be, there, a, way, i, can, see, how, much, vo...  \n424  [from, where, to, buy, shib, in, india, any, l...  \n425     [shib, be, list, through, the, cryptocom, app]  \n426            [binance, list, shib, just, this, week]  \n427  [whole, crypto, market, be, be, dominate, by, ...  \n\n[428 rows x 4 columns]",
      "text/html": "<div>\n<style scoped>\n    .dataframe tbody tr th:only-of-type {\n        vertical-align: middle;\n    }\n\n    .dataframe tbody tr th {\n        vertical-align: top;\n    }\n\n    .dataframe thead th {\n        text-align: right;\n    }\n</style>\n<table border=\"1\" class=\"dataframe\">\n  <thead>\n    <tr style=\"text-align: right;\">\n      <th></th>\n      <th>text</th>\n      <th>date</th>\n      <th>clean_text</th>\n      <th>tokenized_clean_text</th>\n    </tr>\n  </thead>\n  <tbody>\n    <tr>\n      <th>0</th>\n      <td>If DOGE is more worth than CRO for now, who kn...</td>\n      <td>2021-05-01T16:40:46</td>\n      <td>if doge is more worth than cro for now who kno...</td>\n      <td>[if, doge, be, more, worth, than, cro, for, no...</td>\n    </tr>\n    <tr>\n      <th>1</th>\n      <td>HOW ABOUT DOGE???</td>\n      <td>2021-05-01T19:21:28</td>\n      <td>how about doge</td>\n      <td>[how, about, doge]</td>\n    </tr>\n    <tr>\n      <th>2</th>\n      <td>Congratulations rue*****@*****com!\\n🚀 You are ...</td>\n      <td>2021-05-02T21:16:47</td>\n      <td>congratulations ruecom you are the weekly luck...</td>\n      <td>[congratulation, ruecom, you, be, the, weekly,...</td>\n    </tr>\n    <tr>\n      <th>3</th>\n      <td>Congratulations rue*****@*****com!\\n🚀 You are ...</td>\n      <td>2021-05-03T12:16:38</td>\n      <td>congratulations ruecom you are the weekly luck...</td>\n      <td>[congratulation, ruecom, you, be, the, weekly,...</td>\n    </tr>\n    <tr>\n      <th>4</th>\n      <td>DOGE coin is up by +16.39%🚀🚀🚀</td>\n      <td>2021-05-03T16:44:13</td>\n      <td>doge coin is up by</td>\n      <td>[doge, coin, be, up, by]</td>\n    </tr>\n    <tr>\n      <th>...</th>\n      <td>...</td>\n      <td>...</td>\n      <td>...</td>\n      <td>...</td>\n    </tr>\n    <tr>\n      <th>423</th>\n      <td>Is there a way I can see how much volume of SH...</td>\n      <td>2021-05-15T21:01:50</td>\n      <td>is there a way i can see how much volume of sh...</td>\n      <td>[be, there, a, way, i, can, see, how, much, vo...</td>\n    </tr>\n    <tr>\n      <th>424</th>\n      <td>From where to buy SHIB in India, any leads ple...</td>\n      <td>2021-05-15T21:04:06</td>\n      <td>from where to buy shib in india any leads please</td>\n      <td>[from, where, to, buy, shib, in, india, any, l...</td>\n    </tr>\n    <tr>\n      <th>425</th>\n      <td>SHIB is listed through the Cryptocom App 🙏</td>\n      <td>2021-05-15T21:08:02</td>\n      <td>shib is listed through the cryptocom app</td>\n      <td>[shib, be, list, through, the, cryptocom, app]</td>\n    </tr>\n    <tr>\n      <th>426</th>\n      <td>Binance listed SHIB just this week.</td>\n      <td>2021-05-15T21:13:01</td>\n      <td>binance listed shib just this week</td>\n      <td>[binance, list, shib, just, this, week]</td>\n    </tr>\n    <tr>\n      <th>427</th>\n      <td>Whole crypto market is being dominated by bear...</td>\n      <td>2021-05-15T23:38:34</td>\n      <td>whole crypto market is being dominated by bear...</td>\n      <td>[whole, crypto, market, be, be, dominate, by, ...</td>\n    </tr>\n  </tbody>\n</table>\n<p>428 rows × 4 columns</p>\n</div>"
     },
     "execution_count": 36,
     "metadata": {},
     "output_type": "execute_result"
    }
   ],
   "source": [
    "texts"
   ],
   "metadata": {
    "collapsed": false,
    "pycharm": {
     "name": "#%%\n"
    }
   }
  },
  {
   "cell_type": "code",
   "execution_count": 37,
   "outputs": [],
   "source": [
    "def get_all_words(cleaned_tokens_list):\n",
    "    for tokens in cleaned_tokens_list:\n",
    "        for token in tokens:\n",
    "            yield token"
   ],
   "metadata": {
    "collapsed": false,
    "pycharm": {
     "name": "#%%\n"
    }
   }
  },
  {
   "cell_type": "code",
   "execution_count": 38,
   "outputs": [],
   "source": [
    "all_text_words = get_all_words(texts['tokenized_clean_text'].tolist())"
   ],
   "metadata": {
    "collapsed": false,
    "pycharm": {
     "name": "#%%\n"
    }
   }
  },
  {
   "cell_type": "code",
   "execution_count": 39,
   "outputs": [
    {
     "name": "stdout",
     "output_type": "stream",
     "text": [
      "[('be', 292), ('the', 291), ('i', 280), ('to', 247), ('shib', 232), ('and', 170), ('buy', 157), ('shiba', 132), ('doge', 131), ('on', 130)]\n"
     ]
    }
   ],
   "source": [
    "from nltk import FreqDist\n",
    "\n",
    "freq_dist_pos = FreqDist(all_text_words)\n",
    "print(freq_dist_pos.most_common(10))"
   ],
   "metadata": {
    "collapsed": false,
    "pycharm": {
     "name": "#%%\n"
    }
   }
  },
  {
   "cell_type": "code",
   "execution_count": 40,
   "outputs": [],
   "source": [
    "texts['final_text'] = texts['tokenized_clean_text'].apply(lambda li: ' '.join(li))"
   ],
   "metadata": {
    "collapsed": false,
    "pycharm": {
     "name": "#%%\n"
    }
   }
  },
  {
   "cell_type": "code",
   "execution_count": 42,
   "outputs": [
    {
     "data": {
      "text/plain": "                                                  text                 date  \\\n0    If DOGE is more worth than CRO for now, who kn...  2021-05-01T16:40:46   \n1                                    HOW ABOUT DOGE???  2021-05-01T19:21:28   \n2    Congratulations rue*****@*****com!\\n🚀 You are ...  2021-05-02T21:16:47   \n3    Congratulations rue*****@*****com!\\n🚀 You are ...  2021-05-03T12:16:38   \n4                        DOGE coin is up by +16.39%🚀🚀🚀  2021-05-03T16:44:13   \n..                                                 ...                  ...   \n423  Is there a way I can see how much volume of SH...  2021-05-15T21:01:50   \n424  From where to buy SHIB in India, any leads ple...  2021-05-15T21:04:06   \n425         SHIB is listed through the Cryptocom App 🙏  2021-05-15T21:08:02   \n426                Binance listed SHIB just this week.  2021-05-15T21:13:01   \n427  Whole crypto market is being dominated by bear...  2021-05-15T23:38:34   \n\n                                            clean_text  \\\n0    if doge is more worth than cro for now who kno...   \n1                                       how about doge   \n2    congratulations ruecom you are the weekly luck...   \n3    congratulations ruecom you are the weekly luck...   \n4                                   doge coin is up by   \n..                                                 ...   \n423  is there a way i can see how much volume of sh...   \n424   from where to buy shib in india any leads please   \n425           shib is listed through the cryptocom app   \n426                 binance listed shib just this week   \n427  whole crypto market is being dominated by bear...   \n\n                                  tokenized_clean_text  \\\n0    [if, doge, be, more, worth, than, cro, for, no...   \n1                                   [how, about, doge]   \n2    [congratulation, ruecom, you, be, the, weekly,...   \n3    [congratulation, ruecom, you, be, the, weekly,...   \n4                             [doge, coin, be, up, by]   \n..                                                 ...   \n423  [be, there, a, way, i, can, see, how, much, vo...   \n424  [from, where, to, buy, shib, in, india, any, l...   \n425     [shib, be, list, through, the, cryptocom, app]   \n426            [binance, list, shib, just, this, week]   \n427  [whole, crypto, market, be, be, dominate, by, ...   \n\n                                            final_text  \n0    if doge be more worth than cro for now who kno...  \n1                                       how about doge  \n2    congratulation ruecom you be the weekly lucky ...  \n3    congratulation ruecom you be the weekly lucky ...  \n4                                   doge coin be up by  \n..                                                 ...  \n423  be there a way i can see how much volume of sh...  \n424    from where to buy shib in india any lead please  \n425             shib be list through the cryptocom app  \n426                   binance list shib just this week  \n427  whole crypto market be be dominate by bear fro...  \n\n[428 rows x 5 columns]",
      "text/html": "<div>\n<style scoped>\n    .dataframe tbody tr th:only-of-type {\n        vertical-align: middle;\n    }\n\n    .dataframe tbody tr th {\n        vertical-align: top;\n    }\n\n    .dataframe thead th {\n        text-align: right;\n    }\n</style>\n<table border=\"1\" class=\"dataframe\">\n  <thead>\n    <tr style=\"text-align: right;\">\n      <th></th>\n      <th>text</th>\n      <th>date</th>\n      <th>clean_text</th>\n      <th>tokenized_clean_text</th>\n      <th>final_text</th>\n    </tr>\n  </thead>\n  <tbody>\n    <tr>\n      <th>0</th>\n      <td>If DOGE is more worth than CRO for now, who kn...</td>\n      <td>2021-05-01T16:40:46</td>\n      <td>if doge is more worth than cro for now who kno...</td>\n      <td>[if, doge, be, more, worth, than, cro, for, no...</td>\n      <td>if doge be more worth than cro for now who kno...</td>\n    </tr>\n    <tr>\n      <th>1</th>\n      <td>HOW ABOUT DOGE???</td>\n      <td>2021-05-01T19:21:28</td>\n      <td>how about doge</td>\n      <td>[how, about, doge]</td>\n      <td>how about doge</td>\n    </tr>\n    <tr>\n      <th>2</th>\n      <td>Congratulations rue*****@*****com!\\n🚀 You are ...</td>\n      <td>2021-05-02T21:16:47</td>\n      <td>congratulations ruecom you are the weekly luck...</td>\n      <td>[congratulation, ruecom, you, be, the, weekly,...</td>\n      <td>congratulation ruecom you be the weekly lucky ...</td>\n    </tr>\n    <tr>\n      <th>3</th>\n      <td>Congratulations rue*****@*****com!\\n🚀 You are ...</td>\n      <td>2021-05-03T12:16:38</td>\n      <td>congratulations ruecom you are the weekly luck...</td>\n      <td>[congratulation, ruecom, you, be, the, weekly,...</td>\n      <td>congratulation ruecom you be the weekly lucky ...</td>\n    </tr>\n    <tr>\n      <th>4</th>\n      <td>DOGE coin is up by +16.39%🚀🚀🚀</td>\n      <td>2021-05-03T16:44:13</td>\n      <td>doge coin is up by</td>\n      <td>[doge, coin, be, up, by]</td>\n      <td>doge coin be up by</td>\n    </tr>\n    <tr>\n      <th>...</th>\n      <td>...</td>\n      <td>...</td>\n      <td>...</td>\n      <td>...</td>\n      <td>...</td>\n    </tr>\n    <tr>\n      <th>423</th>\n      <td>Is there a way I can see how much volume of SH...</td>\n      <td>2021-05-15T21:01:50</td>\n      <td>is there a way i can see how much volume of sh...</td>\n      <td>[be, there, a, way, i, can, see, how, much, vo...</td>\n      <td>be there a way i can see how much volume of sh...</td>\n    </tr>\n    <tr>\n      <th>424</th>\n      <td>From where to buy SHIB in India, any leads ple...</td>\n      <td>2021-05-15T21:04:06</td>\n      <td>from where to buy shib in india any leads please</td>\n      <td>[from, where, to, buy, shib, in, india, any, l...</td>\n      <td>from where to buy shib in india any lead please</td>\n    </tr>\n    <tr>\n      <th>425</th>\n      <td>SHIB is listed through the Cryptocom App 🙏</td>\n      <td>2021-05-15T21:08:02</td>\n      <td>shib is listed through the cryptocom app</td>\n      <td>[shib, be, list, through, the, cryptocom, app]</td>\n      <td>shib be list through the cryptocom app</td>\n    </tr>\n    <tr>\n      <th>426</th>\n      <td>Binance listed SHIB just this week.</td>\n      <td>2021-05-15T21:13:01</td>\n      <td>binance listed shib just this week</td>\n      <td>[binance, list, shib, just, this, week]</td>\n      <td>binance list shib just this week</td>\n    </tr>\n    <tr>\n      <th>427</th>\n      <td>Whole crypto market is being dominated by bear...</td>\n      <td>2021-05-15T23:38:34</td>\n      <td>whole crypto market is being dominated by bear...</td>\n      <td>[whole, crypto, market, be, be, dominate, by, ...</td>\n      <td>whole crypto market be be dominate by bear fro...</td>\n    </tr>\n  </tbody>\n</table>\n<p>428 rows × 5 columns</p>\n</div>"
     },
     "execution_count": 42,
     "metadata": {},
     "output_type": "execute_result"
    }
   ],
   "source": [
    "texts"
   ],
   "metadata": {
    "collapsed": false,
    "pycharm": {
     "name": "#%%\n"
    }
   }
  },
  {
   "cell_type": "code",
   "execution_count": 43,
   "outputs": [
    {
     "name": "stderr",
     "output_type": "stream",
     "text": [
      "[nltk_data] Downloading package vader_lexicon to\n",
      "[nltk_data]     C:\\Users\\parsa\\AppData\\Roaming\\nltk_data...\n",
      "[nltk_data]   Package vader_lexicon is already up-to-date!\n"
     ]
    }
   ],
   "source": [
    "nltk.download('vader_lexicon')\n",
    "from nltk.sentiment.vader import SentimentIntensityAnalyzer\n",
    "sid = SentimentIntensityAnalyzer()"
   ],
   "metadata": {
    "collapsed": false,
    "pycharm": {
     "name": "#%%\n"
    }
   }
  },
  {
   "cell_type": "code",
   "execution_count": 44,
   "outputs": [],
   "source": [
    "texts['sentiment'] = texts['final_text'].apply(lambda x: sid.polarity_scores(x))"
   ],
   "metadata": {
    "collapsed": false,
    "pycharm": {
     "name": "#%%\n"
    }
   }
  },
  {
   "cell_type": "code",
   "execution_count": 45,
   "outputs": [
    {
     "data": {
      "text/plain": "                                                  text                 date  \\\n0    If DOGE is more worth than CRO for now, who kn...  2021-05-01T16:40:46   \n1                                    HOW ABOUT DOGE???  2021-05-01T19:21:28   \n2    Congratulations rue*****@*****com!\\n🚀 You are ...  2021-05-02T21:16:47   \n3    Congratulations rue*****@*****com!\\n🚀 You are ...  2021-05-03T12:16:38   \n4                        DOGE coin is up by +16.39%🚀🚀🚀  2021-05-03T16:44:13   \n..                                                 ...                  ...   \n423  Is there a way I can see how much volume of SH...  2021-05-15T21:01:50   \n424  From where to buy SHIB in India, any leads ple...  2021-05-15T21:04:06   \n425         SHIB is listed through the Cryptocom App 🙏  2021-05-15T21:08:02   \n426                Binance listed SHIB just this week.  2021-05-15T21:13:01   \n427  Whole crypto market is being dominated by bear...  2021-05-15T23:38:34   \n\n                                            clean_text  \\\n0    if doge is more worth than cro for now who kno...   \n1                                       how about doge   \n2    congratulations ruecom you are the weekly luck...   \n3    congratulations ruecom you are the weekly luck...   \n4                                   doge coin is up by   \n..                                                 ...   \n423  is there a way i can see how much volume of sh...   \n424   from where to buy shib in india any leads please   \n425           shib is listed through the cryptocom app   \n426                 binance listed shib just this week   \n427  whole crypto market is being dominated by bear...   \n\n                                  tokenized_clean_text  \\\n0    [if, doge, be, more, worth, than, cro, for, no...   \n1                                   [how, about, doge]   \n2    [congratulation, ruecom, you, be, the, weekly,...   \n3    [congratulation, ruecom, you, be, the, weekly,...   \n4                             [doge, coin, be, up, by]   \n..                                                 ...   \n423  [be, there, a, way, i, can, see, how, much, vo...   \n424  [from, where, to, buy, shib, in, india, any, l...   \n425     [shib, be, list, through, the, cryptocom, app]   \n426            [binance, list, shib, just, this, week]   \n427  [whole, crypto, market, be, be, dominate, by, ...   \n\n                                            final_text  \\\n0    if doge be more worth than cro for now who kno...   \n1                                       how about doge   \n2    congratulation ruecom you be the weekly lucky ...   \n3    congratulation ruecom you be the weekly lucky ...   \n4                                   doge coin be up by   \n..                                                 ...   \n423  be there a way i can see how much volume of sh...   \n424    from where to buy shib in india any lead please   \n425             shib be list through the cryptocom app   \n426                   binance list shib just this week   \n427  whole crypto market be be dominate by bear fro...   \n\n                                             sentiment  \n0    {'neg': 0.0, 'neu': 0.886, 'pos': 0.114, 'comp...  \n1    {'neg': 0.0, 'neu': 1.0, 'pos': 0.0, 'compound...  \n2    {'neg': 0.0, 'neu': 0.506, 'pos': 0.494, 'comp...  \n3    {'neg': 0.0, 'neu': 0.506, 'pos': 0.494, 'comp...  \n4    {'neg': 0.0, 'neu': 1.0, 'pos': 0.0, 'compound...  \n..                                                 ...  \n423  {'neg': 0.0, 'neu': 1.0, 'pos': 0.0, 'compound...  \n424  {'neg': 0.0, 'neu': 0.796, 'pos': 0.204, 'comp...  \n425  {'neg': 0.0, 'neu': 1.0, 'pos': 0.0, 'compound...  \n426  {'neg': 0.0, 'neu': 1.0, 'pos': 0.0, 'compound...  \n427  {'neg': 0.034, 'neu': 0.765, 'pos': 0.202, 'co...  \n\n[428 rows x 6 columns]",
      "text/html": "<div>\n<style scoped>\n    .dataframe tbody tr th:only-of-type {\n        vertical-align: middle;\n    }\n\n    .dataframe tbody tr th {\n        vertical-align: top;\n    }\n\n    .dataframe thead th {\n        text-align: right;\n    }\n</style>\n<table border=\"1\" class=\"dataframe\">\n  <thead>\n    <tr style=\"text-align: right;\">\n      <th></th>\n      <th>text</th>\n      <th>date</th>\n      <th>clean_text</th>\n      <th>tokenized_clean_text</th>\n      <th>final_text</th>\n      <th>sentiment</th>\n    </tr>\n  </thead>\n  <tbody>\n    <tr>\n      <th>0</th>\n      <td>If DOGE is more worth than CRO for now, who kn...</td>\n      <td>2021-05-01T16:40:46</td>\n      <td>if doge is more worth than cro for now who kno...</td>\n      <td>[if, doge, be, more, worth, than, cro, for, no...</td>\n      <td>if doge be more worth than cro for now who kno...</td>\n      <td>{'neg': 0.0, 'neu': 0.886, 'pos': 0.114, 'comp...</td>\n    </tr>\n    <tr>\n      <th>1</th>\n      <td>HOW ABOUT DOGE???</td>\n      <td>2021-05-01T19:21:28</td>\n      <td>how about doge</td>\n      <td>[how, about, doge]</td>\n      <td>how about doge</td>\n      <td>{'neg': 0.0, 'neu': 1.0, 'pos': 0.0, 'compound...</td>\n    </tr>\n    <tr>\n      <th>2</th>\n      <td>Congratulations rue*****@*****com!\\n🚀 You are ...</td>\n      <td>2021-05-02T21:16:47</td>\n      <td>congratulations ruecom you are the weekly luck...</td>\n      <td>[congratulation, ruecom, you, be, the, weekly,...</td>\n      <td>congratulation ruecom you be the weekly lucky ...</td>\n      <td>{'neg': 0.0, 'neu': 0.506, 'pos': 0.494, 'comp...</td>\n    </tr>\n    <tr>\n      <th>3</th>\n      <td>Congratulations rue*****@*****com!\\n🚀 You are ...</td>\n      <td>2021-05-03T12:16:38</td>\n      <td>congratulations ruecom you are the weekly luck...</td>\n      <td>[congratulation, ruecom, you, be, the, weekly,...</td>\n      <td>congratulation ruecom you be the weekly lucky ...</td>\n      <td>{'neg': 0.0, 'neu': 0.506, 'pos': 0.494, 'comp...</td>\n    </tr>\n    <tr>\n      <th>4</th>\n      <td>DOGE coin is up by +16.39%🚀🚀🚀</td>\n      <td>2021-05-03T16:44:13</td>\n      <td>doge coin is up by</td>\n      <td>[doge, coin, be, up, by]</td>\n      <td>doge coin be up by</td>\n      <td>{'neg': 0.0, 'neu': 1.0, 'pos': 0.0, 'compound...</td>\n    </tr>\n    <tr>\n      <th>...</th>\n      <td>...</td>\n      <td>...</td>\n      <td>...</td>\n      <td>...</td>\n      <td>...</td>\n      <td>...</td>\n    </tr>\n    <tr>\n      <th>423</th>\n      <td>Is there a way I can see how much volume of SH...</td>\n      <td>2021-05-15T21:01:50</td>\n      <td>is there a way i can see how much volume of sh...</td>\n      <td>[be, there, a, way, i, can, see, how, much, vo...</td>\n      <td>be there a way i can see how much volume of sh...</td>\n      <td>{'neg': 0.0, 'neu': 1.0, 'pos': 0.0, 'compound...</td>\n    </tr>\n    <tr>\n      <th>424</th>\n      <td>From where to buy SHIB in India, any leads ple...</td>\n      <td>2021-05-15T21:04:06</td>\n      <td>from where to buy shib in india any leads please</td>\n      <td>[from, where, to, buy, shib, in, india, any, l...</td>\n      <td>from where to buy shib in india any lead please</td>\n      <td>{'neg': 0.0, 'neu': 0.796, 'pos': 0.204, 'comp...</td>\n    </tr>\n    <tr>\n      <th>425</th>\n      <td>SHIB is listed through the Cryptocom App 🙏</td>\n      <td>2021-05-15T21:08:02</td>\n      <td>shib is listed through the cryptocom app</td>\n      <td>[shib, be, list, through, the, cryptocom, app]</td>\n      <td>shib be list through the cryptocom app</td>\n      <td>{'neg': 0.0, 'neu': 1.0, 'pos': 0.0, 'compound...</td>\n    </tr>\n    <tr>\n      <th>426</th>\n      <td>Binance listed SHIB just this week.</td>\n      <td>2021-05-15T21:13:01</td>\n      <td>binance listed shib just this week</td>\n      <td>[binance, list, shib, just, this, week]</td>\n      <td>binance list shib just this week</td>\n      <td>{'neg': 0.0, 'neu': 1.0, 'pos': 0.0, 'compound...</td>\n    </tr>\n    <tr>\n      <th>427</th>\n      <td>Whole crypto market is being dominated by bear...</td>\n      <td>2021-05-15T23:38:34</td>\n      <td>whole crypto market is being dominated by bear...</td>\n      <td>[whole, crypto, market, be, be, dominate, by, ...</td>\n      <td>whole crypto market be be dominate by bear fro...</td>\n      <td>{'neg': 0.034, 'neu': 0.765, 'pos': 0.202, 'co...</td>\n    </tr>\n  </tbody>\n</table>\n<p>428 rows × 6 columns</p>\n</div>"
     },
     "execution_count": 45,
     "metadata": {},
     "output_type": "execute_result"
    }
   ],
   "source": [
    "texts"
   ],
   "metadata": {
    "collapsed": false,
    "pycharm": {
     "name": "#%%\n"
    }
   }
  },
  {
   "cell_type": "code",
   "execution_count": 46,
   "outputs": [],
   "source": [
    "texts['date'] = pd.to_datetime(texts['date']).dt.date"
   ],
   "metadata": {
    "collapsed": false,
    "pycharm": {
     "name": "#%%\n"
    }
   }
  },
  {
   "cell_type": "code",
   "execution_count": 47,
   "outputs": [
    {
     "data": {
      "text/plain": "                                                  text        date  \\\n0    If DOGE is more worth than CRO for now, who kn...  2021-05-01   \n1                                    HOW ABOUT DOGE???  2021-05-01   \n2    Congratulations rue*****@*****com!\\n🚀 You are ...  2021-05-02   \n3    Congratulations rue*****@*****com!\\n🚀 You are ...  2021-05-03   \n4                        DOGE coin is up by +16.39%🚀🚀🚀  2021-05-03   \n..                                                 ...         ...   \n423  Is there a way I can see how much volume of SH...  2021-05-15   \n424  From where to buy SHIB in India, any leads ple...  2021-05-15   \n425         SHIB is listed through the Cryptocom App 🙏  2021-05-15   \n426                Binance listed SHIB just this week.  2021-05-15   \n427  Whole crypto market is being dominated by bear...  2021-05-15   \n\n                                            clean_text  \\\n0    if doge is more worth than cro for now who kno...   \n1                                       how about doge   \n2    congratulations ruecom you are the weekly luck...   \n3    congratulations ruecom you are the weekly luck...   \n4                                   doge coin is up by   \n..                                                 ...   \n423  is there a way i can see how much volume of sh...   \n424   from where to buy shib in india any leads please   \n425           shib is listed through the cryptocom app   \n426                 binance listed shib just this week   \n427  whole crypto market is being dominated by bear...   \n\n                                  tokenized_clean_text  \\\n0    [if, doge, be, more, worth, than, cro, for, no...   \n1                                   [how, about, doge]   \n2    [congratulation, ruecom, you, be, the, weekly,...   \n3    [congratulation, ruecom, you, be, the, weekly,...   \n4                             [doge, coin, be, up, by]   \n..                                                 ...   \n423  [be, there, a, way, i, can, see, how, much, vo...   \n424  [from, where, to, buy, shib, in, india, any, l...   \n425     [shib, be, list, through, the, cryptocom, app]   \n426            [binance, list, shib, just, this, week]   \n427  [whole, crypto, market, be, be, dominate, by, ...   \n\n                                            final_text  \\\n0    if doge be more worth than cro for now who kno...   \n1                                       how about doge   \n2    congratulation ruecom you be the weekly lucky ...   \n3    congratulation ruecom you be the weekly lucky ...   \n4                                   doge coin be up by   \n..                                                 ...   \n423  be there a way i can see how much volume of sh...   \n424    from where to buy shib in india any lead please   \n425             shib be list through the cryptocom app   \n426                   binance list shib just this week   \n427  whole crypto market be be dominate by bear fro...   \n\n                                             sentiment  \n0    {'neg': 0.0, 'neu': 0.886, 'pos': 0.114, 'comp...  \n1    {'neg': 0.0, 'neu': 1.0, 'pos': 0.0, 'compound...  \n2    {'neg': 0.0, 'neu': 0.506, 'pos': 0.494, 'comp...  \n3    {'neg': 0.0, 'neu': 0.506, 'pos': 0.494, 'comp...  \n4    {'neg': 0.0, 'neu': 1.0, 'pos': 0.0, 'compound...  \n..                                                 ...  \n423  {'neg': 0.0, 'neu': 1.0, 'pos': 0.0, 'compound...  \n424  {'neg': 0.0, 'neu': 0.796, 'pos': 0.204, 'comp...  \n425  {'neg': 0.0, 'neu': 1.0, 'pos': 0.0, 'compound...  \n426  {'neg': 0.0, 'neu': 1.0, 'pos': 0.0, 'compound...  \n427  {'neg': 0.034, 'neu': 0.765, 'pos': 0.202, 'co...  \n\n[428 rows x 6 columns]",
      "text/html": "<div>\n<style scoped>\n    .dataframe tbody tr th:only-of-type {\n        vertical-align: middle;\n    }\n\n    .dataframe tbody tr th {\n        vertical-align: top;\n    }\n\n    .dataframe thead th {\n        text-align: right;\n    }\n</style>\n<table border=\"1\" class=\"dataframe\">\n  <thead>\n    <tr style=\"text-align: right;\">\n      <th></th>\n      <th>text</th>\n      <th>date</th>\n      <th>clean_text</th>\n      <th>tokenized_clean_text</th>\n      <th>final_text</th>\n      <th>sentiment</th>\n    </tr>\n  </thead>\n  <tbody>\n    <tr>\n      <th>0</th>\n      <td>If DOGE is more worth than CRO for now, who kn...</td>\n      <td>2021-05-01</td>\n      <td>if doge is more worth than cro for now who kno...</td>\n      <td>[if, doge, be, more, worth, than, cro, for, no...</td>\n      <td>if doge be more worth than cro for now who kno...</td>\n      <td>{'neg': 0.0, 'neu': 0.886, 'pos': 0.114, 'comp...</td>\n    </tr>\n    <tr>\n      <th>1</th>\n      <td>HOW ABOUT DOGE???</td>\n      <td>2021-05-01</td>\n      <td>how about doge</td>\n      <td>[how, about, doge]</td>\n      <td>how about doge</td>\n      <td>{'neg': 0.0, 'neu': 1.0, 'pos': 0.0, 'compound...</td>\n    </tr>\n    <tr>\n      <th>2</th>\n      <td>Congratulations rue*****@*****com!\\n🚀 You are ...</td>\n      <td>2021-05-02</td>\n      <td>congratulations ruecom you are the weekly luck...</td>\n      <td>[congratulation, ruecom, you, be, the, weekly,...</td>\n      <td>congratulation ruecom you be the weekly lucky ...</td>\n      <td>{'neg': 0.0, 'neu': 0.506, 'pos': 0.494, 'comp...</td>\n    </tr>\n    <tr>\n      <th>3</th>\n      <td>Congratulations rue*****@*****com!\\n🚀 You are ...</td>\n      <td>2021-05-03</td>\n      <td>congratulations ruecom you are the weekly luck...</td>\n      <td>[congratulation, ruecom, you, be, the, weekly,...</td>\n      <td>congratulation ruecom you be the weekly lucky ...</td>\n      <td>{'neg': 0.0, 'neu': 0.506, 'pos': 0.494, 'comp...</td>\n    </tr>\n    <tr>\n      <th>4</th>\n      <td>DOGE coin is up by +16.39%🚀🚀🚀</td>\n      <td>2021-05-03</td>\n      <td>doge coin is up by</td>\n      <td>[doge, coin, be, up, by]</td>\n      <td>doge coin be up by</td>\n      <td>{'neg': 0.0, 'neu': 1.0, 'pos': 0.0, 'compound...</td>\n    </tr>\n    <tr>\n      <th>...</th>\n      <td>...</td>\n      <td>...</td>\n      <td>...</td>\n      <td>...</td>\n      <td>...</td>\n      <td>...</td>\n    </tr>\n    <tr>\n      <th>423</th>\n      <td>Is there a way I can see how much volume of SH...</td>\n      <td>2021-05-15</td>\n      <td>is there a way i can see how much volume of sh...</td>\n      <td>[be, there, a, way, i, can, see, how, much, vo...</td>\n      <td>be there a way i can see how much volume of sh...</td>\n      <td>{'neg': 0.0, 'neu': 1.0, 'pos': 0.0, 'compound...</td>\n    </tr>\n    <tr>\n      <th>424</th>\n      <td>From where to buy SHIB in India, any leads ple...</td>\n      <td>2021-05-15</td>\n      <td>from where to buy shib in india any leads please</td>\n      <td>[from, where, to, buy, shib, in, india, any, l...</td>\n      <td>from where to buy shib in india any lead please</td>\n      <td>{'neg': 0.0, 'neu': 0.796, 'pos': 0.204, 'comp...</td>\n    </tr>\n    <tr>\n      <th>425</th>\n      <td>SHIB is listed through the Cryptocom App 🙏</td>\n      <td>2021-05-15</td>\n      <td>shib is listed through the cryptocom app</td>\n      <td>[shib, be, list, through, the, cryptocom, app]</td>\n      <td>shib be list through the cryptocom app</td>\n      <td>{'neg': 0.0, 'neu': 1.0, 'pos': 0.0, 'compound...</td>\n    </tr>\n    <tr>\n      <th>426</th>\n      <td>Binance listed SHIB just this week.</td>\n      <td>2021-05-15</td>\n      <td>binance listed shib just this week</td>\n      <td>[binance, list, shib, just, this, week]</td>\n      <td>binance list shib just this week</td>\n      <td>{'neg': 0.0, 'neu': 1.0, 'pos': 0.0, 'compound...</td>\n    </tr>\n    <tr>\n      <th>427</th>\n      <td>Whole crypto market is being dominated by bear...</td>\n      <td>2021-05-15</td>\n      <td>whole crypto market is being dominated by bear...</td>\n      <td>[whole, crypto, market, be, be, dominate, by, ...</td>\n      <td>whole crypto market be be dominate by bear fro...</td>\n      <td>{'neg': 0.034, 'neu': 0.765, 'pos': 0.202, 'co...</td>\n    </tr>\n  </tbody>\n</table>\n<p>428 rows × 6 columns</p>\n</div>"
     },
     "execution_count": 47,
     "metadata": {},
     "output_type": "execute_result"
    }
   ],
   "source": [
    "texts"
   ],
   "metadata": {
    "collapsed": false,
    "pycharm": {
     "name": "#%%\n"
    }
   }
  },
  {
   "cell_type": "code",
   "execution_count": 48,
   "outputs": [],
   "source": [
    "plot_df = texts.groupby('date').size().reset_index(name='count')"
   ],
   "metadata": {
    "collapsed": false,
    "pycharm": {
     "name": "#%%\n"
    }
   }
  },
  {
   "cell_type": "code",
   "execution_count": 49,
   "outputs": [],
   "source": [
    "import plotly.graph_objects as go"
   ],
   "metadata": {
    "collapsed": false,
    "pycharm": {
     "name": "#%%\n"
    }
   }
  },
  {
   "cell_type": "code",
   "execution_count": 62,
   "outputs": [
    {
     "data": {
      "application/vnd.plotly.v1+json": {
       "data": [
        {
         "x": [
          "2021-05-01",
          "2021-05-02",
          "2021-05-03",
          "2021-05-04",
          "2021-05-05",
          "2021-05-06",
          "2021-05-07",
          "2021-05-08",
          "2021-05-09",
          "2021-05-10",
          "2021-05-11",
          "2021-05-12",
          "2021-05-13",
          "2021-05-14",
          "2021-05-15"
         ],
         "y": [
          2,
          1,
          3,
          6,
          6,
          6,
          9,
          109,
          39,
          119,
          51,
          24,
          29,
          16,
          8
         ],
         "type": "scatter"
        }
       ],
       "layout": {
        "template": {
         "data": {
          "bar": [
           {
            "error_x": {
             "color": "#2a3f5f"
            },
            "error_y": {
             "color": "#2a3f5f"
            },
            "marker": {
             "line": {
              "color": "#E5ECF6",
              "width": 0.5
             },
             "pattern": {
              "fillmode": "overlay",
              "size": 10,
              "solidity": 0.2
             }
            },
            "type": "bar"
           }
          ],
          "barpolar": [
           {
            "marker": {
             "line": {
              "color": "#E5ECF6",
              "width": 0.5
             },
             "pattern": {
              "fillmode": "overlay",
              "size": 10,
              "solidity": 0.2
             }
            },
            "type": "barpolar"
           }
          ],
          "carpet": [
           {
            "aaxis": {
             "endlinecolor": "#2a3f5f",
             "gridcolor": "white",
             "linecolor": "white",
             "minorgridcolor": "white",
             "startlinecolor": "#2a3f5f"
            },
            "baxis": {
             "endlinecolor": "#2a3f5f",
             "gridcolor": "white",
             "linecolor": "white",
             "minorgridcolor": "white",
             "startlinecolor": "#2a3f5f"
            },
            "type": "carpet"
           }
          ],
          "choropleth": [
           {
            "colorbar": {
             "outlinewidth": 0,
             "ticks": ""
            },
            "type": "choropleth"
           }
          ],
          "contour": [
           {
            "colorbar": {
             "outlinewidth": 0,
             "ticks": ""
            },
            "colorscale": [
             [
              0.0,
              "#0d0887"
             ],
             [
              0.1111111111111111,
              "#46039f"
             ],
             [
              0.2222222222222222,
              "#7201a8"
             ],
             [
              0.3333333333333333,
              "#9c179e"
             ],
             [
              0.4444444444444444,
              "#bd3786"
             ],
             [
              0.5555555555555556,
              "#d8576b"
             ],
             [
              0.6666666666666666,
              "#ed7953"
             ],
             [
              0.7777777777777778,
              "#fb9f3a"
             ],
             [
              0.8888888888888888,
              "#fdca26"
             ],
             [
              1.0,
              "#f0f921"
             ]
            ],
            "type": "contour"
           }
          ],
          "contourcarpet": [
           {
            "colorbar": {
             "outlinewidth": 0,
             "ticks": ""
            },
            "type": "contourcarpet"
           }
          ],
          "heatmap": [
           {
            "colorbar": {
             "outlinewidth": 0,
             "ticks": ""
            },
            "colorscale": [
             [
              0.0,
              "#0d0887"
             ],
             [
              0.1111111111111111,
              "#46039f"
             ],
             [
              0.2222222222222222,
              "#7201a8"
             ],
             [
              0.3333333333333333,
              "#9c179e"
             ],
             [
              0.4444444444444444,
              "#bd3786"
             ],
             [
              0.5555555555555556,
              "#d8576b"
             ],
             [
              0.6666666666666666,
              "#ed7953"
             ],
             [
              0.7777777777777778,
              "#fb9f3a"
             ],
             [
              0.8888888888888888,
              "#fdca26"
             ],
             [
              1.0,
              "#f0f921"
             ]
            ],
            "type": "heatmap"
           }
          ],
          "heatmapgl": [
           {
            "colorbar": {
             "outlinewidth": 0,
             "ticks": ""
            },
            "colorscale": [
             [
              0.0,
              "#0d0887"
             ],
             [
              0.1111111111111111,
              "#46039f"
             ],
             [
              0.2222222222222222,
              "#7201a8"
             ],
             [
              0.3333333333333333,
              "#9c179e"
             ],
             [
              0.4444444444444444,
              "#bd3786"
             ],
             [
              0.5555555555555556,
              "#d8576b"
             ],
             [
              0.6666666666666666,
              "#ed7953"
             ],
             [
              0.7777777777777778,
              "#fb9f3a"
             ],
             [
              0.8888888888888888,
              "#fdca26"
             ],
             [
              1.0,
              "#f0f921"
             ]
            ],
            "type": "heatmapgl"
           }
          ],
          "histogram": [
           {
            "marker": {
             "pattern": {
              "fillmode": "overlay",
              "size": 10,
              "solidity": 0.2
             }
            },
            "type": "histogram"
           }
          ],
          "histogram2d": [
           {
            "colorbar": {
             "outlinewidth": 0,
             "ticks": ""
            },
            "colorscale": [
             [
              0.0,
              "#0d0887"
             ],
             [
              0.1111111111111111,
              "#46039f"
             ],
             [
              0.2222222222222222,
              "#7201a8"
             ],
             [
              0.3333333333333333,
              "#9c179e"
             ],
             [
              0.4444444444444444,
              "#bd3786"
             ],
             [
              0.5555555555555556,
              "#d8576b"
             ],
             [
              0.6666666666666666,
              "#ed7953"
             ],
             [
              0.7777777777777778,
              "#fb9f3a"
             ],
             [
              0.8888888888888888,
              "#fdca26"
             ],
             [
              1.0,
              "#f0f921"
             ]
            ],
            "type": "histogram2d"
           }
          ],
          "histogram2dcontour": [
           {
            "colorbar": {
             "outlinewidth": 0,
             "ticks": ""
            },
            "colorscale": [
             [
              0.0,
              "#0d0887"
             ],
             [
              0.1111111111111111,
              "#46039f"
             ],
             [
              0.2222222222222222,
              "#7201a8"
             ],
             [
              0.3333333333333333,
              "#9c179e"
             ],
             [
              0.4444444444444444,
              "#bd3786"
             ],
             [
              0.5555555555555556,
              "#d8576b"
             ],
             [
              0.6666666666666666,
              "#ed7953"
             ],
             [
              0.7777777777777778,
              "#fb9f3a"
             ],
             [
              0.8888888888888888,
              "#fdca26"
             ],
             [
              1.0,
              "#f0f921"
             ]
            ],
            "type": "histogram2dcontour"
           }
          ],
          "mesh3d": [
           {
            "colorbar": {
             "outlinewidth": 0,
             "ticks": ""
            },
            "type": "mesh3d"
           }
          ],
          "parcoords": [
           {
            "line": {
             "colorbar": {
              "outlinewidth": 0,
              "ticks": ""
             }
            },
            "type": "parcoords"
           }
          ],
          "pie": [
           {
            "automargin": true,
            "type": "pie"
           }
          ],
          "scatter": [
           {
            "marker": {
             "colorbar": {
              "outlinewidth": 0,
              "ticks": ""
             }
            },
            "type": "scatter"
           }
          ],
          "scatter3d": [
           {
            "line": {
             "colorbar": {
              "outlinewidth": 0,
              "ticks": ""
             }
            },
            "marker": {
             "colorbar": {
              "outlinewidth": 0,
              "ticks": ""
             }
            },
            "type": "scatter3d"
           }
          ],
          "scattercarpet": [
           {
            "marker": {
             "colorbar": {
              "outlinewidth": 0,
              "ticks": ""
             }
            },
            "type": "scattercarpet"
           }
          ],
          "scattergeo": [
           {
            "marker": {
             "colorbar": {
              "outlinewidth": 0,
              "ticks": ""
             }
            },
            "type": "scattergeo"
           }
          ],
          "scattergl": [
           {
            "marker": {
             "colorbar": {
              "outlinewidth": 0,
              "ticks": ""
             }
            },
            "type": "scattergl"
           }
          ],
          "scattermapbox": [
           {
            "marker": {
             "colorbar": {
              "outlinewidth": 0,
              "ticks": ""
             }
            },
            "type": "scattermapbox"
           }
          ],
          "scatterpolar": [
           {
            "marker": {
             "colorbar": {
              "outlinewidth": 0,
              "ticks": ""
             }
            },
            "type": "scatterpolar"
           }
          ],
          "scatterpolargl": [
           {
            "marker": {
             "colorbar": {
              "outlinewidth": 0,
              "ticks": ""
             }
            },
            "type": "scatterpolargl"
           }
          ],
          "scatterternary": [
           {
            "marker": {
             "colorbar": {
              "outlinewidth": 0,
              "ticks": ""
             }
            },
            "type": "scatterternary"
           }
          ],
          "surface": [
           {
            "colorbar": {
             "outlinewidth": 0,
             "ticks": ""
            },
            "colorscale": [
             [
              0.0,
              "#0d0887"
             ],
             [
              0.1111111111111111,
              "#46039f"
             ],
             [
              0.2222222222222222,
              "#7201a8"
             ],
             [
              0.3333333333333333,
              "#9c179e"
             ],
             [
              0.4444444444444444,
              "#bd3786"
             ],
             [
              0.5555555555555556,
              "#d8576b"
             ],
             [
              0.6666666666666666,
              "#ed7953"
             ],
             [
              0.7777777777777778,
              "#fb9f3a"
             ],
             [
              0.8888888888888888,
              "#fdca26"
             ],
             [
              1.0,
              "#f0f921"
             ]
            ],
            "type": "surface"
           }
          ],
          "table": [
           {
            "cells": {
             "fill": {
              "color": "#EBF0F8"
             },
             "line": {
              "color": "white"
             }
            },
            "header": {
             "fill": {
              "color": "#C8D4E3"
             },
             "line": {
              "color": "white"
             }
            },
            "type": "table"
           }
          ]
         },
         "layout": {
          "annotationdefaults": {
           "arrowcolor": "#2a3f5f",
           "arrowhead": 0,
           "arrowwidth": 1
          },
          "autotypenumbers": "strict",
          "coloraxis": {
           "colorbar": {
            "outlinewidth": 0,
            "ticks": ""
           }
          },
          "colorscale": {
           "diverging": [
            [
             0,
             "#8e0152"
            ],
            [
             0.1,
             "#c51b7d"
            ],
            [
             0.2,
             "#de77ae"
            ],
            [
             0.3,
             "#f1b6da"
            ],
            [
             0.4,
             "#fde0ef"
            ],
            [
             0.5,
             "#f7f7f7"
            ],
            [
             0.6,
             "#e6f5d0"
            ],
            [
             0.7,
             "#b8e186"
            ],
            [
             0.8,
             "#7fbc41"
            ],
            [
             0.9,
             "#4d9221"
            ],
            [
             1,
             "#276419"
            ]
           ],
           "sequential": [
            [
             0.0,
             "#0d0887"
            ],
            [
             0.1111111111111111,
             "#46039f"
            ],
            [
             0.2222222222222222,
             "#7201a8"
            ],
            [
             0.3333333333333333,
             "#9c179e"
            ],
            [
             0.4444444444444444,
             "#bd3786"
            ],
            [
             0.5555555555555556,
             "#d8576b"
            ],
            [
             0.6666666666666666,
             "#ed7953"
            ],
            [
             0.7777777777777778,
             "#fb9f3a"
            ],
            [
             0.8888888888888888,
             "#fdca26"
            ],
            [
             1.0,
             "#f0f921"
            ]
           ],
           "sequentialminus": [
            [
             0.0,
             "#0d0887"
            ],
            [
             0.1111111111111111,
             "#46039f"
            ],
            [
             0.2222222222222222,
             "#7201a8"
            ],
            [
             0.3333333333333333,
             "#9c179e"
            ],
            [
             0.4444444444444444,
             "#bd3786"
            ],
            [
             0.5555555555555556,
             "#d8576b"
            ],
            [
             0.6666666666666666,
             "#ed7953"
            ],
            [
             0.7777777777777778,
             "#fb9f3a"
            ],
            [
             0.8888888888888888,
             "#fdca26"
            ],
            [
             1.0,
             "#f0f921"
            ]
           ]
          },
          "colorway": [
           "#636efa",
           "#EF553B",
           "#00cc96",
           "#ab63fa",
           "#FFA15A",
           "#19d3f3",
           "#FF6692",
           "#B6E880",
           "#FF97FF",
           "#FECB52"
          ],
          "font": {
           "color": "#2a3f5f"
          },
          "geo": {
           "bgcolor": "white",
           "lakecolor": "white",
           "landcolor": "#E5ECF6",
           "showlakes": true,
           "showland": true,
           "subunitcolor": "white"
          },
          "hoverlabel": {
           "align": "left"
          },
          "hovermode": "closest",
          "mapbox": {
           "style": "light"
          },
          "paper_bgcolor": "white",
          "plot_bgcolor": "#E5ECF6",
          "polar": {
           "angularaxis": {
            "gridcolor": "white",
            "linecolor": "white",
            "ticks": ""
           },
           "bgcolor": "#E5ECF6",
           "radialaxis": {
            "gridcolor": "white",
            "linecolor": "white",
            "ticks": ""
           }
          },
          "scene": {
           "xaxis": {
            "backgroundcolor": "#E5ECF6",
            "gridcolor": "white",
            "gridwidth": 2,
            "linecolor": "white",
            "showbackground": true,
            "ticks": "",
            "zerolinecolor": "white"
           },
           "yaxis": {
            "backgroundcolor": "#E5ECF6",
            "gridcolor": "white",
            "gridwidth": 2,
            "linecolor": "white",
            "showbackground": true,
            "ticks": "",
            "zerolinecolor": "white"
           },
           "zaxis": {
            "backgroundcolor": "#E5ECF6",
            "gridcolor": "white",
            "gridwidth": 2,
            "linecolor": "white",
            "showbackground": true,
            "ticks": "",
            "zerolinecolor": "white"
           }
          },
          "shapedefaults": {
           "line": {
            "color": "#2a3f5f"
           }
          },
          "ternary": {
           "aaxis": {
            "gridcolor": "white",
            "linecolor": "white",
            "ticks": ""
           },
           "baxis": {
            "gridcolor": "white",
            "linecolor": "white",
            "ticks": ""
           },
           "bgcolor": "#E5ECF6",
           "caxis": {
            "gridcolor": "white",
            "linecolor": "white",
            "ticks": ""
           }
          },
          "title": {
           "x": 0.05
          },
          "xaxis": {
           "automargin": true,
           "gridcolor": "white",
           "linecolor": "white",
           "ticks": "",
           "title": {
            "standoff": 15
           },
           "zerolinecolor": "white",
           "zerolinewidth": 2
          },
          "yaxis": {
           "automargin": true,
           "gridcolor": "white",
           "linecolor": "white",
           "ticks": "",
           "title": {
            "standoff": 15
           },
           "zerolinecolor": "white",
           "zerolinewidth": 2
          }
         }
        }
       },
       "config": {
        "plotlyServerURL": "https://plot.ly"
       }
      },
      "text/html": "<div>                            <div id=\"5338afd3-eb3b-4e33-a13a-b6a57be35582\" class=\"plotly-graph-div\" style=\"height:525px; width:100%;\"></div>            <script type=\"text/javascript\">                require([\"plotly\"], function(Plotly) {                    window.PLOTLYENV=window.PLOTLYENV || {};                                    if (document.getElementById(\"5338afd3-eb3b-4e33-a13a-b6a57be35582\")) {                    Plotly.newPlot(                        \"5338afd3-eb3b-4e33-a13a-b6a57be35582\",                        [{\"x\":[\"2021-05-01\",\"2021-05-02\",\"2021-05-03\",\"2021-05-04\",\"2021-05-05\",\"2021-05-06\",\"2021-05-07\",\"2021-05-08\",\"2021-05-09\",\"2021-05-10\",\"2021-05-11\",\"2021-05-12\",\"2021-05-13\",\"2021-05-14\",\"2021-05-15\"],\"y\":[2,1,3,6,6,6,9,109,39,119,51,24,29,16,8],\"type\":\"scatter\"}],                        {\"template\":{\"data\":{\"bar\":[{\"error_x\":{\"color\":\"#2a3f5f\"},\"error_y\":{\"color\":\"#2a3f5f\"},\"marker\":{\"line\":{\"color\":\"#E5ECF6\",\"width\":0.5},\"pattern\":{\"fillmode\":\"overlay\",\"size\":10,\"solidity\":0.2}},\"type\":\"bar\"}],\"barpolar\":[{\"marker\":{\"line\":{\"color\":\"#E5ECF6\",\"width\":0.5},\"pattern\":{\"fillmode\":\"overlay\",\"size\":10,\"solidity\":0.2}},\"type\":\"barpolar\"}],\"carpet\":[{\"aaxis\":{\"endlinecolor\":\"#2a3f5f\",\"gridcolor\":\"white\",\"linecolor\":\"white\",\"minorgridcolor\":\"white\",\"startlinecolor\":\"#2a3f5f\"},\"baxis\":{\"endlinecolor\":\"#2a3f5f\",\"gridcolor\":\"white\",\"linecolor\":\"white\",\"minorgridcolor\":\"white\",\"startlinecolor\":\"#2a3f5f\"},\"type\":\"carpet\"}],\"choropleth\":[{\"colorbar\":{\"outlinewidth\":0,\"ticks\":\"\"},\"type\":\"choropleth\"}],\"contour\":[{\"colorbar\":{\"outlinewidth\":0,\"ticks\":\"\"},\"colorscale\":[[0.0,\"#0d0887\"],[0.1111111111111111,\"#46039f\"],[0.2222222222222222,\"#7201a8\"],[0.3333333333333333,\"#9c179e\"],[0.4444444444444444,\"#bd3786\"],[0.5555555555555556,\"#d8576b\"],[0.6666666666666666,\"#ed7953\"],[0.7777777777777778,\"#fb9f3a\"],[0.8888888888888888,\"#fdca26\"],[1.0,\"#f0f921\"]],\"type\":\"contour\"}],\"contourcarpet\":[{\"colorbar\":{\"outlinewidth\":0,\"ticks\":\"\"},\"type\":\"contourcarpet\"}],\"heatmap\":[{\"colorbar\":{\"outlinewidth\":0,\"ticks\":\"\"},\"colorscale\":[[0.0,\"#0d0887\"],[0.1111111111111111,\"#46039f\"],[0.2222222222222222,\"#7201a8\"],[0.3333333333333333,\"#9c179e\"],[0.4444444444444444,\"#bd3786\"],[0.5555555555555556,\"#d8576b\"],[0.6666666666666666,\"#ed7953\"],[0.7777777777777778,\"#fb9f3a\"],[0.8888888888888888,\"#fdca26\"],[1.0,\"#f0f921\"]],\"type\":\"heatmap\"}],\"heatmapgl\":[{\"colorbar\":{\"outlinewidth\":0,\"ticks\":\"\"},\"colorscale\":[[0.0,\"#0d0887\"],[0.1111111111111111,\"#46039f\"],[0.2222222222222222,\"#7201a8\"],[0.3333333333333333,\"#9c179e\"],[0.4444444444444444,\"#bd3786\"],[0.5555555555555556,\"#d8576b\"],[0.6666666666666666,\"#ed7953\"],[0.7777777777777778,\"#fb9f3a\"],[0.8888888888888888,\"#fdca26\"],[1.0,\"#f0f921\"]],\"type\":\"heatmapgl\"}],\"histogram\":[{\"marker\":{\"pattern\":{\"fillmode\":\"overlay\",\"size\":10,\"solidity\":0.2}},\"type\":\"histogram\"}],\"histogram2d\":[{\"colorbar\":{\"outlinewidth\":0,\"ticks\":\"\"},\"colorscale\":[[0.0,\"#0d0887\"],[0.1111111111111111,\"#46039f\"],[0.2222222222222222,\"#7201a8\"],[0.3333333333333333,\"#9c179e\"],[0.4444444444444444,\"#bd3786\"],[0.5555555555555556,\"#d8576b\"],[0.6666666666666666,\"#ed7953\"],[0.7777777777777778,\"#fb9f3a\"],[0.8888888888888888,\"#fdca26\"],[1.0,\"#f0f921\"]],\"type\":\"histogram2d\"}],\"histogram2dcontour\":[{\"colorbar\":{\"outlinewidth\":0,\"ticks\":\"\"},\"colorscale\":[[0.0,\"#0d0887\"],[0.1111111111111111,\"#46039f\"],[0.2222222222222222,\"#7201a8\"],[0.3333333333333333,\"#9c179e\"],[0.4444444444444444,\"#bd3786\"],[0.5555555555555556,\"#d8576b\"],[0.6666666666666666,\"#ed7953\"],[0.7777777777777778,\"#fb9f3a\"],[0.8888888888888888,\"#fdca26\"],[1.0,\"#f0f921\"]],\"type\":\"histogram2dcontour\"}],\"mesh3d\":[{\"colorbar\":{\"outlinewidth\":0,\"ticks\":\"\"},\"type\":\"mesh3d\"}],\"parcoords\":[{\"line\":{\"colorbar\":{\"outlinewidth\":0,\"ticks\":\"\"}},\"type\":\"parcoords\"}],\"pie\":[{\"automargin\":true,\"type\":\"pie\"}],\"scatter\":[{\"marker\":{\"colorbar\":{\"outlinewidth\":0,\"ticks\":\"\"}},\"type\":\"scatter\"}],\"scatter3d\":[{\"line\":{\"colorbar\":{\"outlinewidth\":0,\"ticks\":\"\"}},\"marker\":{\"colorbar\":{\"outlinewidth\":0,\"ticks\":\"\"}},\"type\":\"scatter3d\"}],\"scattercarpet\":[{\"marker\":{\"colorbar\":{\"outlinewidth\":0,\"ticks\":\"\"}},\"type\":\"scattercarpet\"}],\"scattergeo\":[{\"marker\":{\"colorbar\":{\"outlinewidth\":0,\"ticks\":\"\"}},\"type\":\"scattergeo\"}],\"scattergl\":[{\"marker\":{\"colorbar\":{\"outlinewidth\":0,\"ticks\":\"\"}},\"type\":\"scattergl\"}],\"scattermapbox\":[{\"marker\":{\"colorbar\":{\"outlinewidth\":0,\"ticks\":\"\"}},\"type\":\"scattermapbox\"}],\"scatterpolar\":[{\"marker\":{\"colorbar\":{\"outlinewidth\":0,\"ticks\":\"\"}},\"type\":\"scatterpolar\"}],\"scatterpolargl\":[{\"marker\":{\"colorbar\":{\"outlinewidth\":0,\"ticks\":\"\"}},\"type\":\"scatterpolargl\"}],\"scatterternary\":[{\"marker\":{\"colorbar\":{\"outlinewidth\":0,\"ticks\":\"\"}},\"type\":\"scatterternary\"}],\"surface\":[{\"colorbar\":{\"outlinewidth\":0,\"ticks\":\"\"},\"colorscale\":[[0.0,\"#0d0887\"],[0.1111111111111111,\"#46039f\"],[0.2222222222222222,\"#7201a8\"],[0.3333333333333333,\"#9c179e\"],[0.4444444444444444,\"#bd3786\"],[0.5555555555555556,\"#d8576b\"],[0.6666666666666666,\"#ed7953\"],[0.7777777777777778,\"#fb9f3a\"],[0.8888888888888888,\"#fdca26\"],[1.0,\"#f0f921\"]],\"type\":\"surface\"}],\"table\":[{\"cells\":{\"fill\":{\"color\":\"#EBF0F8\"},\"line\":{\"color\":\"white\"}},\"header\":{\"fill\":{\"color\":\"#C8D4E3\"},\"line\":{\"color\":\"white\"}},\"type\":\"table\"}]},\"layout\":{\"annotationdefaults\":{\"arrowcolor\":\"#2a3f5f\",\"arrowhead\":0,\"arrowwidth\":1},\"autotypenumbers\":\"strict\",\"coloraxis\":{\"colorbar\":{\"outlinewidth\":0,\"ticks\":\"\"}},\"colorscale\":{\"diverging\":[[0,\"#8e0152\"],[0.1,\"#c51b7d\"],[0.2,\"#de77ae\"],[0.3,\"#f1b6da\"],[0.4,\"#fde0ef\"],[0.5,\"#f7f7f7\"],[0.6,\"#e6f5d0\"],[0.7,\"#b8e186\"],[0.8,\"#7fbc41\"],[0.9,\"#4d9221\"],[1,\"#276419\"]],\"sequential\":[[0.0,\"#0d0887\"],[0.1111111111111111,\"#46039f\"],[0.2222222222222222,\"#7201a8\"],[0.3333333333333333,\"#9c179e\"],[0.4444444444444444,\"#bd3786\"],[0.5555555555555556,\"#d8576b\"],[0.6666666666666666,\"#ed7953\"],[0.7777777777777778,\"#fb9f3a\"],[0.8888888888888888,\"#fdca26\"],[1.0,\"#f0f921\"]],\"sequentialminus\":[[0.0,\"#0d0887\"],[0.1111111111111111,\"#46039f\"],[0.2222222222222222,\"#7201a8\"],[0.3333333333333333,\"#9c179e\"],[0.4444444444444444,\"#bd3786\"],[0.5555555555555556,\"#d8576b\"],[0.6666666666666666,\"#ed7953\"],[0.7777777777777778,\"#fb9f3a\"],[0.8888888888888888,\"#fdca26\"],[1.0,\"#f0f921\"]]},\"colorway\":[\"#636efa\",\"#EF553B\",\"#00cc96\",\"#ab63fa\",\"#FFA15A\",\"#19d3f3\",\"#FF6692\",\"#B6E880\",\"#FF97FF\",\"#FECB52\"],\"font\":{\"color\":\"#2a3f5f\"},\"geo\":{\"bgcolor\":\"white\",\"lakecolor\":\"white\",\"landcolor\":\"#E5ECF6\",\"showlakes\":true,\"showland\":true,\"subunitcolor\":\"white\"},\"hoverlabel\":{\"align\":\"left\"},\"hovermode\":\"closest\",\"mapbox\":{\"style\":\"light\"},\"paper_bgcolor\":\"white\",\"plot_bgcolor\":\"#E5ECF6\",\"polar\":{\"angularaxis\":{\"gridcolor\":\"white\",\"linecolor\":\"white\",\"ticks\":\"\"},\"bgcolor\":\"#E5ECF6\",\"radialaxis\":{\"gridcolor\":\"white\",\"linecolor\":\"white\",\"ticks\":\"\"}},\"scene\":{\"xaxis\":{\"backgroundcolor\":\"#E5ECF6\",\"gridcolor\":\"white\",\"gridwidth\":2,\"linecolor\":\"white\",\"showbackground\":true,\"ticks\":\"\",\"zerolinecolor\":\"white\"},\"yaxis\":{\"backgroundcolor\":\"#E5ECF6\",\"gridcolor\":\"white\",\"gridwidth\":2,\"linecolor\":\"white\",\"showbackground\":true,\"ticks\":\"\",\"zerolinecolor\":\"white\"},\"zaxis\":{\"backgroundcolor\":\"#E5ECF6\",\"gridcolor\":\"white\",\"gridwidth\":2,\"linecolor\":\"white\",\"showbackground\":true,\"ticks\":\"\",\"zerolinecolor\":\"white\"}},\"shapedefaults\":{\"line\":{\"color\":\"#2a3f5f\"}},\"ternary\":{\"aaxis\":{\"gridcolor\":\"white\",\"linecolor\":\"white\",\"ticks\":\"\"},\"baxis\":{\"gridcolor\":\"white\",\"linecolor\":\"white\",\"ticks\":\"\"},\"bgcolor\":\"#E5ECF6\",\"caxis\":{\"gridcolor\":\"white\",\"linecolor\":\"white\",\"ticks\":\"\"}},\"title\":{\"x\":0.05},\"xaxis\":{\"automargin\":true,\"gridcolor\":\"white\",\"linecolor\":\"white\",\"ticks\":\"\",\"title\":{\"standoff\":15},\"zerolinecolor\":\"white\",\"zerolinewidth\":2},\"yaxis\":{\"automargin\":true,\"gridcolor\":\"white\",\"linecolor\":\"white\",\"ticks\":\"\",\"title\":{\"standoff\":15},\"zerolinecolor\":\"white\",\"zerolinewidth\":2}}}},                        {\"responsive\": true}                    ).then(function(){\n                            \nvar gd = document.getElementById('5338afd3-eb3b-4e33-a13a-b6a57be35582');\nvar x = new MutationObserver(function (mutations, observer) {{\n        var display = window.getComputedStyle(gd).display;\n        if (!display || display === 'none') {{\n            console.log([gd, 'removed!']);\n            Plotly.purge(gd);\n            observer.disconnect();\n        }}\n}});\n\n// Listen for the removal of the full notebook cells\nvar notebookContainer = gd.closest('#notebook-container');\nif (notebookContainer) {{\n    x.observe(notebookContainer, {childList: true});\n}}\n\n// Listen for the clearing of the current output cell\nvar outputEl = gd.closest('.output');\nif (outputEl) {{\n    x.observe(outputEl, {childList: true});\n}}\n\n                        })                };                });            </script>        </div>"
     },
     "metadata": {},
     "output_type": "display_data"
    }
   ],
   "source": [
    "fig = go.Figure([go.Scatter(x=plot_df['date'], y=plot_df['count'])])\n",
    "fig.show()"
   ],
   "metadata": {
    "collapsed": false,
    "pycharm": {
     "name": "#%%\n"
    }
   }
  },
  {
   "cell_type": "code",
   "execution_count": 53,
   "outputs": [],
   "source": [
    "texts['sentiment_score'] = texts['sentiment'].apply(lambda obj: obj['pos'] - obj['neg'])"
   ],
   "metadata": {
    "collapsed": false,
    "pycharm": {
     "name": "#%%\n"
    }
   }
  },
  {
   "cell_type": "code",
   "execution_count": 54,
   "outputs": [
    {
     "data": {
      "text/plain": "                                                  text        date  \\\n0    If DOGE is more worth than CRO for now, who kn...  2021-05-01   \n1                                    HOW ABOUT DOGE???  2021-05-01   \n2    Congratulations rue*****@*****com!\\n🚀 You are ...  2021-05-02   \n3    Congratulations rue*****@*****com!\\n🚀 You are ...  2021-05-03   \n4                        DOGE coin is up by +16.39%🚀🚀🚀  2021-05-03   \n..                                                 ...         ...   \n423  Is there a way I can see how much volume of SH...  2021-05-15   \n424  From where to buy SHIB in India, any leads ple...  2021-05-15   \n425         SHIB is listed through the Cryptocom App 🙏  2021-05-15   \n426                Binance listed SHIB just this week.  2021-05-15   \n427  Whole crypto market is being dominated by bear...  2021-05-15   \n\n                                            clean_text  \\\n0    if doge is more worth than cro for now who kno...   \n1                                       how about doge   \n2    congratulations ruecom you are the weekly luck...   \n3    congratulations ruecom you are the weekly luck...   \n4                                   doge coin is up by   \n..                                                 ...   \n423  is there a way i can see how much volume of sh...   \n424   from where to buy shib in india any leads please   \n425           shib is listed through the cryptocom app   \n426                 binance listed shib just this week   \n427  whole crypto market is being dominated by bear...   \n\n                                  tokenized_clean_text  \\\n0    [if, doge, be, more, worth, than, cro, for, no...   \n1                                   [how, about, doge]   \n2    [congratulation, ruecom, you, be, the, weekly,...   \n3    [congratulation, ruecom, you, be, the, weekly,...   \n4                             [doge, coin, be, up, by]   \n..                                                 ...   \n423  [be, there, a, way, i, can, see, how, much, vo...   \n424  [from, where, to, buy, shib, in, india, any, l...   \n425     [shib, be, list, through, the, cryptocom, app]   \n426            [binance, list, shib, just, this, week]   \n427  [whole, crypto, market, be, be, dominate, by, ...   \n\n                                            final_text  \\\n0    if doge be more worth than cro for now who kno...   \n1                                       how about doge   \n2    congratulation ruecom you be the weekly lucky ...   \n3    congratulation ruecom you be the weekly lucky ...   \n4                                   doge coin be up by   \n..                                                 ...   \n423  be there a way i can see how much volume of sh...   \n424    from where to buy shib in india any lead please   \n425             shib be list through the cryptocom app   \n426                   binance list shib just this week   \n427  whole crypto market be be dominate by bear fro...   \n\n                                             sentiment  sentiment_score  \n0    {'neg': 0.0, 'neu': 0.886, 'pos': 0.114, 'comp...            0.114  \n1    {'neg': 0.0, 'neu': 1.0, 'pos': 0.0, 'compound...            0.000  \n2    {'neg': 0.0, 'neu': 0.506, 'pos': 0.494, 'comp...            0.494  \n3    {'neg': 0.0, 'neu': 0.506, 'pos': 0.494, 'comp...            0.494  \n4    {'neg': 0.0, 'neu': 1.0, 'pos': 0.0, 'compound...            0.000  \n..                                                 ...              ...  \n423  {'neg': 0.0, 'neu': 1.0, 'pos': 0.0, 'compound...            0.000  \n424  {'neg': 0.0, 'neu': 0.796, 'pos': 0.204, 'comp...            0.204  \n425  {'neg': 0.0, 'neu': 1.0, 'pos': 0.0, 'compound...            0.000  \n426  {'neg': 0.0, 'neu': 1.0, 'pos': 0.0, 'compound...            0.000  \n427  {'neg': 0.034, 'neu': 0.765, 'pos': 0.202, 'co...            0.168  \n\n[428 rows x 7 columns]",
      "text/html": "<div>\n<style scoped>\n    .dataframe tbody tr th:only-of-type {\n        vertical-align: middle;\n    }\n\n    .dataframe tbody tr th {\n        vertical-align: top;\n    }\n\n    .dataframe thead th {\n        text-align: right;\n    }\n</style>\n<table border=\"1\" class=\"dataframe\">\n  <thead>\n    <tr style=\"text-align: right;\">\n      <th></th>\n      <th>text</th>\n      <th>date</th>\n      <th>clean_text</th>\n      <th>tokenized_clean_text</th>\n      <th>final_text</th>\n      <th>sentiment</th>\n      <th>sentiment_score</th>\n    </tr>\n  </thead>\n  <tbody>\n    <tr>\n      <th>0</th>\n      <td>If DOGE is more worth than CRO for now, who kn...</td>\n      <td>2021-05-01</td>\n      <td>if doge is more worth than cro for now who kno...</td>\n      <td>[if, doge, be, more, worth, than, cro, for, no...</td>\n      <td>if doge be more worth than cro for now who kno...</td>\n      <td>{'neg': 0.0, 'neu': 0.886, 'pos': 0.114, 'comp...</td>\n      <td>0.114</td>\n    </tr>\n    <tr>\n      <th>1</th>\n      <td>HOW ABOUT DOGE???</td>\n      <td>2021-05-01</td>\n      <td>how about doge</td>\n      <td>[how, about, doge]</td>\n      <td>how about doge</td>\n      <td>{'neg': 0.0, 'neu': 1.0, 'pos': 0.0, 'compound...</td>\n      <td>0.000</td>\n    </tr>\n    <tr>\n      <th>2</th>\n      <td>Congratulations rue*****@*****com!\\n🚀 You are ...</td>\n      <td>2021-05-02</td>\n      <td>congratulations ruecom you are the weekly luck...</td>\n      <td>[congratulation, ruecom, you, be, the, weekly,...</td>\n      <td>congratulation ruecom you be the weekly lucky ...</td>\n      <td>{'neg': 0.0, 'neu': 0.506, 'pos': 0.494, 'comp...</td>\n      <td>0.494</td>\n    </tr>\n    <tr>\n      <th>3</th>\n      <td>Congratulations rue*****@*****com!\\n🚀 You are ...</td>\n      <td>2021-05-03</td>\n      <td>congratulations ruecom you are the weekly luck...</td>\n      <td>[congratulation, ruecom, you, be, the, weekly,...</td>\n      <td>congratulation ruecom you be the weekly lucky ...</td>\n      <td>{'neg': 0.0, 'neu': 0.506, 'pos': 0.494, 'comp...</td>\n      <td>0.494</td>\n    </tr>\n    <tr>\n      <th>4</th>\n      <td>DOGE coin is up by +16.39%🚀🚀🚀</td>\n      <td>2021-05-03</td>\n      <td>doge coin is up by</td>\n      <td>[doge, coin, be, up, by]</td>\n      <td>doge coin be up by</td>\n      <td>{'neg': 0.0, 'neu': 1.0, 'pos': 0.0, 'compound...</td>\n      <td>0.000</td>\n    </tr>\n    <tr>\n      <th>...</th>\n      <td>...</td>\n      <td>...</td>\n      <td>...</td>\n      <td>...</td>\n      <td>...</td>\n      <td>...</td>\n      <td>...</td>\n    </tr>\n    <tr>\n      <th>423</th>\n      <td>Is there a way I can see how much volume of SH...</td>\n      <td>2021-05-15</td>\n      <td>is there a way i can see how much volume of sh...</td>\n      <td>[be, there, a, way, i, can, see, how, much, vo...</td>\n      <td>be there a way i can see how much volume of sh...</td>\n      <td>{'neg': 0.0, 'neu': 1.0, 'pos': 0.0, 'compound...</td>\n      <td>0.000</td>\n    </tr>\n    <tr>\n      <th>424</th>\n      <td>From where to buy SHIB in India, any leads ple...</td>\n      <td>2021-05-15</td>\n      <td>from where to buy shib in india any leads please</td>\n      <td>[from, where, to, buy, shib, in, india, any, l...</td>\n      <td>from where to buy shib in india any lead please</td>\n      <td>{'neg': 0.0, 'neu': 0.796, 'pos': 0.204, 'comp...</td>\n      <td>0.204</td>\n    </tr>\n    <tr>\n      <th>425</th>\n      <td>SHIB is listed through the Cryptocom App 🙏</td>\n      <td>2021-05-15</td>\n      <td>shib is listed through the cryptocom app</td>\n      <td>[shib, be, list, through, the, cryptocom, app]</td>\n      <td>shib be list through the cryptocom app</td>\n      <td>{'neg': 0.0, 'neu': 1.0, 'pos': 0.0, 'compound...</td>\n      <td>0.000</td>\n    </tr>\n    <tr>\n      <th>426</th>\n      <td>Binance listed SHIB just this week.</td>\n      <td>2021-05-15</td>\n      <td>binance listed shib just this week</td>\n      <td>[binance, list, shib, just, this, week]</td>\n      <td>binance list shib just this week</td>\n      <td>{'neg': 0.0, 'neu': 1.0, 'pos': 0.0, 'compound...</td>\n      <td>0.000</td>\n    </tr>\n    <tr>\n      <th>427</th>\n      <td>Whole crypto market is being dominated by bear...</td>\n      <td>2021-05-15</td>\n      <td>whole crypto market is being dominated by bear...</td>\n      <td>[whole, crypto, market, be, be, dominate, by, ...</td>\n      <td>whole crypto market be be dominate by bear fro...</td>\n      <td>{'neg': 0.034, 'neu': 0.765, 'pos': 0.202, 'co...</td>\n      <td>0.168</td>\n    </tr>\n  </tbody>\n</table>\n<p>428 rows × 7 columns</p>\n</div>"
     },
     "execution_count": 54,
     "metadata": {},
     "output_type": "execute_result"
    }
   ],
   "source": [
    "texts"
   ],
   "metadata": {
    "collapsed": false,
    "pycharm": {
     "name": "#%%\n"
    }
   }
  },
  {
   "cell_type": "code",
   "execution_count": 60,
   "outputs": [
    {
     "data": {
      "text/plain": "          date  sentiment_score\n0   2021-05-01         0.057000\n1   2021-05-02         0.494000\n2   2021-05-03         0.164667\n3   2021-05-04        -0.087667\n4   2021-05-05         0.051500\n5   2021-05-06         0.092167\n6   2021-05-07         0.090444\n7   2021-05-08         0.039642\n8   2021-05-09         0.022077\n9   2021-05-10         0.007580\n10  2021-05-11         0.052314\n11  2021-05-12         0.009542\n12  2021-05-13         0.052690\n13  2021-05-14         0.018438\n14  2021-05-15         0.060000",
      "text/html": "<div>\n<style scoped>\n    .dataframe tbody tr th:only-of-type {\n        vertical-align: middle;\n    }\n\n    .dataframe tbody tr th {\n        vertical-align: top;\n    }\n\n    .dataframe thead th {\n        text-align: right;\n    }\n</style>\n<table border=\"1\" class=\"dataframe\">\n  <thead>\n    <tr style=\"text-align: right;\">\n      <th></th>\n      <th>date</th>\n      <th>sentiment_score</th>\n    </tr>\n  </thead>\n  <tbody>\n    <tr>\n      <th>0</th>\n      <td>2021-05-01</td>\n      <td>0.057000</td>\n    </tr>\n    <tr>\n      <th>1</th>\n      <td>2021-05-02</td>\n      <td>0.494000</td>\n    </tr>\n    <tr>\n      <th>2</th>\n      <td>2021-05-03</td>\n      <td>0.164667</td>\n    </tr>\n    <tr>\n      <th>3</th>\n      <td>2021-05-04</td>\n      <td>-0.087667</td>\n    </tr>\n    <tr>\n      <th>4</th>\n      <td>2021-05-05</td>\n      <td>0.051500</td>\n    </tr>\n    <tr>\n      <th>5</th>\n      <td>2021-05-06</td>\n      <td>0.092167</td>\n    </tr>\n    <tr>\n      <th>6</th>\n      <td>2021-05-07</td>\n      <td>0.090444</td>\n    </tr>\n    <tr>\n      <th>7</th>\n      <td>2021-05-08</td>\n      <td>0.039642</td>\n    </tr>\n    <tr>\n      <th>8</th>\n      <td>2021-05-09</td>\n      <td>0.022077</td>\n    </tr>\n    <tr>\n      <th>9</th>\n      <td>2021-05-10</td>\n      <td>0.007580</td>\n    </tr>\n    <tr>\n      <th>10</th>\n      <td>2021-05-11</td>\n      <td>0.052314</td>\n    </tr>\n    <tr>\n      <th>11</th>\n      <td>2021-05-12</td>\n      <td>0.009542</td>\n    </tr>\n    <tr>\n      <th>12</th>\n      <td>2021-05-13</td>\n      <td>0.052690</td>\n    </tr>\n    <tr>\n      <th>13</th>\n      <td>2021-05-14</td>\n      <td>0.018438</td>\n    </tr>\n    <tr>\n      <th>14</th>\n      <td>2021-05-15</td>\n      <td>0.060000</td>\n    </tr>\n  </tbody>\n</table>\n</div>"
     },
     "execution_count": 60,
     "metadata": {},
     "output_type": "execute_result"
    }
   ],
   "source": [
    "plot_df2 = texts.groupby('date').mean().reset_index()\n",
    "plot_df2"
   ],
   "metadata": {
    "collapsed": false,
    "pycharm": {
     "name": "#%%\n"
    }
   }
  },
  {
   "cell_type": "code",
   "execution_count": 61,
   "outputs": [
    {
     "data": {
      "application/vnd.plotly.v1+json": {
       "data": [
        {
         "x": [
          "2021-05-01",
          "2021-05-02",
          "2021-05-03",
          "2021-05-04",
          "2021-05-05",
          "2021-05-06",
          "2021-05-07",
          "2021-05-08",
          "2021-05-09",
          "2021-05-10",
          "2021-05-11",
          "2021-05-12",
          "2021-05-13",
          "2021-05-14",
          "2021-05-15"
         ],
         "y": [
          0.057,
          0.494,
          0.16466666666666666,
          -0.08766666666666667,
          0.0515,
          0.09216666666666666,
          0.09044444444444445,
          0.03964220183486238,
          0.022076923076923077,
          0.007579831932773109,
          0.052313725490196084,
          0.009541666666666669,
          0.052689655172413793,
          0.018437500000000002,
          0.06
         ],
         "type": "scatter"
        }
       ],
       "layout": {
        "template": {
         "data": {
          "bar": [
           {
            "error_x": {
             "color": "#2a3f5f"
            },
            "error_y": {
             "color": "#2a3f5f"
            },
            "marker": {
             "line": {
              "color": "#E5ECF6",
              "width": 0.5
             },
             "pattern": {
              "fillmode": "overlay",
              "size": 10,
              "solidity": 0.2
             }
            },
            "type": "bar"
           }
          ],
          "barpolar": [
           {
            "marker": {
             "line": {
              "color": "#E5ECF6",
              "width": 0.5
             },
             "pattern": {
              "fillmode": "overlay",
              "size": 10,
              "solidity": 0.2
             }
            },
            "type": "barpolar"
           }
          ],
          "carpet": [
           {
            "aaxis": {
             "endlinecolor": "#2a3f5f",
             "gridcolor": "white",
             "linecolor": "white",
             "minorgridcolor": "white",
             "startlinecolor": "#2a3f5f"
            },
            "baxis": {
             "endlinecolor": "#2a3f5f",
             "gridcolor": "white",
             "linecolor": "white",
             "minorgridcolor": "white",
             "startlinecolor": "#2a3f5f"
            },
            "type": "carpet"
           }
          ],
          "choropleth": [
           {
            "colorbar": {
             "outlinewidth": 0,
             "ticks": ""
            },
            "type": "choropleth"
           }
          ],
          "contour": [
           {
            "colorbar": {
             "outlinewidth": 0,
             "ticks": ""
            },
            "colorscale": [
             [
              0.0,
              "#0d0887"
             ],
             [
              0.1111111111111111,
              "#46039f"
             ],
             [
              0.2222222222222222,
              "#7201a8"
             ],
             [
              0.3333333333333333,
              "#9c179e"
             ],
             [
              0.4444444444444444,
              "#bd3786"
             ],
             [
              0.5555555555555556,
              "#d8576b"
             ],
             [
              0.6666666666666666,
              "#ed7953"
             ],
             [
              0.7777777777777778,
              "#fb9f3a"
             ],
             [
              0.8888888888888888,
              "#fdca26"
             ],
             [
              1.0,
              "#f0f921"
             ]
            ],
            "type": "contour"
           }
          ],
          "contourcarpet": [
           {
            "colorbar": {
             "outlinewidth": 0,
             "ticks": ""
            },
            "type": "contourcarpet"
           }
          ],
          "heatmap": [
           {
            "colorbar": {
             "outlinewidth": 0,
             "ticks": ""
            },
            "colorscale": [
             [
              0.0,
              "#0d0887"
             ],
             [
              0.1111111111111111,
              "#46039f"
             ],
             [
              0.2222222222222222,
              "#7201a8"
             ],
             [
              0.3333333333333333,
              "#9c179e"
             ],
             [
              0.4444444444444444,
              "#bd3786"
             ],
             [
              0.5555555555555556,
              "#d8576b"
             ],
             [
              0.6666666666666666,
              "#ed7953"
             ],
             [
              0.7777777777777778,
              "#fb9f3a"
             ],
             [
              0.8888888888888888,
              "#fdca26"
             ],
             [
              1.0,
              "#f0f921"
             ]
            ],
            "type": "heatmap"
           }
          ],
          "heatmapgl": [
           {
            "colorbar": {
             "outlinewidth": 0,
             "ticks": ""
            },
            "colorscale": [
             [
              0.0,
              "#0d0887"
             ],
             [
              0.1111111111111111,
              "#46039f"
             ],
             [
              0.2222222222222222,
              "#7201a8"
             ],
             [
              0.3333333333333333,
              "#9c179e"
             ],
             [
              0.4444444444444444,
              "#bd3786"
             ],
             [
              0.5555555555555556,
              "#d8576b"
             ],
             [
              0.6666666666666666,
              "#ed7953"
             ],
             [
              0.7777777777777778,
              "#fb9f3a"
             ],
             [
              0.8888888888888888,
              "#fdca26"
             ],
             [
              1.0,
              "#f0f921"
             ]
            ],
            "type": "heatmapgl"
           }
          ],
          "histogram": [
           {
            "marker": {
             "pattern": {
              "fillmode": "overlay",
              "size": 10,
              "solidity": 0.2
             }
            },
            "type": "histogram"
           }
          ],
          "histogram2d": [
           {
            "colorbar": {
             "outlinewidth": 0,
             "ticks": ""
            },
            "colorscale": [
             [
              0.0,
              "#0d0887"
             ],
             [
              0.1111111111111111,
              "#46039f"
             ],
             [
              0.2222222222222222,
              "#7201a8"
             ],
             [
              0.3333333333333333,
              "#9c179e"
             ],
             [
              0.4444444444444444,
              "#bd3786"
             ],
             [
              0.5555555555555556,
              "#d8576b"
             ],
             [
              0.6666666666666666,
              "#ed7953"
             ],
             [
              0.7777777777777778,
              "#fb9f3a"
             ],
             [
              0.8888888888888888,
              "#fdca26"
             ],
             [
              1.0,
              "#f0f921"
             ]
            ],
            "type": "histogram2d"
           }
          ],
          "histogram2dcontour": [
           {
            "colorbar": {
             "outlinewidth": 0,
             "ticks": ""
            },
            "colorscale": [
             [
              0.0,
              "#0d0887"
             ],
             [
              0.1111111111111111,
              "#46039f"
             ],
             [
              0.2222222222222222,
              "#7201a8"
             ],
             [
              0.3333333333333333,
              "#9c179e"
             ],
             [
              0.4444444444444444,
              "#bd3786"
             ],
             [
              0.5555555555555556,
              "#d8576b"
             ],
             [
              0.6666666666666666,
              "#ed7953"
             ],
             [
              0.7777777777777778,
              "#fb9f3a"
             ],
             [
              0.8888888888888888,
              "#fdca26"
             ],
             [
              1.0,
              "#f0f921"
             ]
            ],
            "type": "histogram2dcontour"
           }
          ],
          "mesh3d": [
           {
            "colorbar": {
             "outlinewidth": 0,
             "ticks": ""
            },
            "type": "mesh3d"
           }
          ],
          "parcoords": [
           {
            "line": {
             "colorbar": {
              "outlinewidth": 0,
              "ticks": ""
             }
            },
            "type": "parcoords"
           }
          ],
          "pie": [
           {
            "automargin": true,
            "type": "pie"
           }
          ],
          "scatter": [
           {
            "marker": {
             "colorbar": {
              "outlinewidth": 0,
              "ticks": ""
             }
            },
            "type": "scatter"
           }
          ],
          "scatter3d": [
           {
            "line": {
             "colorbar": {
              "outlinewidth": 0,
              "ticks": ""
             }
            },
            "marker": {
             "colorbar": {
              "outlinewidth": 0,
              "ticks": ""
             }
            },
            "type": "scatter3d"
           }
          ],
          "scattercarpet": [
           {
            "marker": {
             "colorbar": {
              "outlinewidth": 0,
              "ticks": ""
             }
            },
            "type": "scattercarpet"
           }
          ],
          "scattergeo": [
           {
            "marker": {
             "colorbar": {
              "outlinewidth": 0,
              "ticks": ""
             }
            },
            "type": "scattergeo"
           }
          ],
          "scattergl": [
           {
            "marker": {
             "colorbar": {
              "outlinewidth": 0,
              "ticks": ""
             }
            },
            "type": "scattergl"
           }
          ],
          "scattermapbox": [
           {
            "marker": {
             "colorbar": {
              "outlinewidth": 0,
              "ticks": ""
             }
            },
            "type": "scattermapbox"
           }
          ],
          "scatterpolar": [
           {
            "marker": {
             "colorbar": {
              "outlinewidth": 0,
              "ticks": ""
             }
            },
            "type": "scatterpolar"
           }
          ],
          "scatterpolargl": [
           {
            "marker": {
             "colorbar": {
              "outlinewidth": 0,
              "ticks": ""
             }
            },
            "type": "scatterpolargl"
           }
          ],
          "scatterternary": [
           {
            "marker": {
             "colorbar": {
              "outlinewidth": 0,
              "ticks": ""
             }
            },
            "type": "scatterternary"
           }
          ],
          "surface": [
           {
            "colorbar": {
             "outlinewidth": 0,
             "ticks": ""
            },
            "colorscale": [
             [
              0.0,
              "#0d0887"
             ],
             [
              0.1111111111111111,
              "#46039f"
             ],
             [
              0.2222222222222222,
              "#7201a8"
             ],
             [
              0.3333333333333333,
              "#9c179e"
             ],
             [
              0.4444444444444444,
              "#bd3786"
             ],
             [
              0.5555555555555556,
              "#d8576b"
             ],
             [
              0.6666666666666666,
              "#ed7953"
             ],
             [
              0.7777777777777778,
              "#fb9f3a"
             ],
             [
              0.8888888888888888,
              "#fdca26"
             ],
             [
              1.0,
              "#f0f921"
             ]
            ],
            "type": "surface"
           }
          ],
          "table": [
           {
            "cells": {
             "fill": {
              "color": "#EBF0F8"
             },
             "line": {
              "color": "white"
             }
            },
            "header": {
             "fill": {
              "color": "#C8D4E3"
             },
             "line": {
              "color": "white"
             }
            },
            "type": "table"
           }
          ]
         },
         "layout": {
          "annotationdefaults": {
           "arrowcolor": "#2a3f5f",
           "arrowhead": 0,
           "arrowwidth": 1
          },
          "autotypenumbers": "strict",
          "coloraxis": {
           "colorbar": {
            "outlinewidth": 0,
            "ticks": ""
           }
          },
          "colorscale": {
           "diverging": [
            [
             0,
             "#8e0152"
            ],
            [
             0.1,
             "#c51b7d"
            ],
            [
             0.2,
             "#de77ae"
            ],
            [
             0.3,
             "#f1b6da"
            ],
            [
             0.4,
             "#fde0ef"
            ],
            [
             0.5,
             "#f7f7f7"
            ],
            [
             0.6,
             "#e6f5d0"
            ],
            [
             0.7,
             "#b8e186"
            ],
            [
             0.8,
             "#7fbc41"
            ],
            [
             0.9,
             "#4d9221"
            ],
            [
             1,
             "#276419"
            ]
           ],
           "sequential": [
            [
             0.0,
             "#0d0887"
            ],
            [
             0.1111111111111111,
             "#46039f"
            ],
            [
             0.2222222222222222,
             "#7201a8"
            ],
            [
             0.3333333333333333,
             "#9c179e"
            ],
            [
             0.4444444444444444,
             "#bd3786"
            ],
            [
             0.5555555555555556,
             "#d8576b"
            ],
            [
             0.6666666666666666,
             "#ed7953"
            ],
            [
             0.7777777777777778,
             "#fb9f3a"
            ],
            [
             0.8888888888888888,
             "#fdca26"
            ],
            [
             1.0,
             "#f0f921"
            ]
           ],
           "sequentialminus": [
            [
             0.0,
             "#0d0887"
            ],
            [
             0.1111111111111111,
             "#46039f"
            ],
            [
             0.2222222222222222,
             "#7201a8"
            ],
            [
             0.3333333333333333,
             "#9c179e"
            ],
            [
             0.4444444444444444,
             "#bd3786"
            ],
            [
             0.5555555555555556,
             "#d8576b"
            ],
            [
             0.6666666666666666,
             "#ed7953"
            ],
            [
             0.7777777777777778,
             "#fb9f3a"
            ],
            [
             0.8888888888888888,
             "#fdca26"
            ],
            [
             1.0,
             "#f0f921"
            ]
           ]
          },
          "colorway": [
           "#636efa",
           "#EF553B",
           "#00cc96",
           "#ab63fa",
           "#FFA15A",
           "#19d3f3",
           "#FF6692",
           "#B6E880",
           "#FF97FF",
           "#FECB52"
          ],
          "font": {
           "color": "#2a3f5f"
          },
          "geo": {
           "bgcolor": "white",
           "lakecolor": "white",
           "landcolor": "#E5ECF6",
           "showlakes": true,
           "showland": true,
           "subunitcolor": "white"
          },
          "hoverlabel": {
           "align": "left"
          },
          "hovermode": "closest",
          "mapbox": {
           "style": "light"
          },
          "paper_bgcolor": "white",
          "plot_bgcolor": "#E5ECF6",
          "polar": {
           "angularaxis": {
            "gridcolor": "white",
            "linecolor": "white",
            "ticks": ""
           },
           "bgcolor": "#E5ECF6",
           "radialaxis": {
            "gridcolor": "white",
            "linecolor": "white",
            "ticks": ""
           }
          },
          "scene": {
           "xaxis": {
            "backgroundcolor": "#E5ECF6",
            "gridcolor": "white",
            "gridwidth": 2,
            "linecolor": "white",
            "showbackground": true,
            "ticks": "",
            "zerolinecolor": "white"
           },
           "yaxis": {
            "backgroundcolor": "#E5ECF6",
            "gridcolor": "white",
            "gridwidth": 2,
            "linecolor": "white",
            "showbackground": true,
            "ticks": "",
            "zerolinecolor": "white"
           },
           "zaxis": {
            "backgroundcolor": "#E5ECF6",
            "gridcolor": "white",
            "gridwidth": 2,
            "linecolor": "white",
            "showbackground": true,
            "ticks": "",
            "zerolinecolor": "white"
           }
          },
          "shapedefaults": {
           "line": {
            "color": "#2a3f5f"
           }
          },
          "ternary": {
           "aaxis": {
            "gridcolor": "white",
            "linecolor": "white",
            "ticks": ""
           },
           "baxis": {
            "gridcolor": "white",
            "linecolor": "white",
            "ticks": ""
           },
           "bgcolor": "#E5ECF6",
           "caxis": {
            "gridcolor": "white",
            "linecolor": "white",
            "ticks": ""
           }
          },
          "title": {
           "x": 0.05
          },
          "xaxis": {
           "automargin": true,
           "gridcolor": "white",
           "linecolor": "white",
           "ticks": "",
           "title": {
            "standoff": 15
           },
           "zerolinecolor": "white",
           "zerolinewidth": 2
          },
          "yaxis": {
           "automargin": true,
           "gridcolor": "white",
           "linecolor": "white",
           "ticks": "",
           "title": {
            "standoff": 15
           },
           "zerolinecolor": "white",
           "zerolinewidth": 2
          }
         }
        }
       },
       "config": {
        "plotlyServerURL": "https://plot.ly"
       }
      },
      "text/html": "<div>                            <div id=\"952f21fb-1c68-40b5-935b-04041aac5ba5\" class=\"plotly-graph-div\" style=\"height:525px; width:100%;\"></div>            <script type=\"text/javascript\">                require([\"plotly\"], function(Plotly) {                    window.PLOTLYENV=window.PLOTLYENV || {};                                    if (document.getElementById(\"952f21fb-1c68-40b5-935b-04041aac5ba5\")) {                    Plotly.newPlot(                        \"952f21fb-1c68-40b5-935b-04041aac5ba5\",                        [{\"x\":[\"2021-05-01\",\"2021-05-02\",\"2021-05-03\",\"2021-05-04\",\"2021-05-05\",\"2021-05-06\",\"2021-05-07\",\"2021-05-08\",\"2021-05-09\",\"2021-05-10\",\"2021-05-11\",\"2021-05-12\",\"2021-05-13\",\"2021-05-14\",\"2021-05-15\"],\"y\":[0.057,0.494,0.16466666666666666,-0.08766666666666667,0.0515,0.09216666666666666,0.09044444444444445,0.03964220183486238,0.022076923076923077,0.007579831932773109,0.052313725490196084,0.009541666666666669,0.052689655172413793,0.018437500000000002,0.06],\"type\":\"scatter\"}],                        {\"template\":{\"data\":{\"bar\":[{\"error_x\":{\"color\":\"#2a3f5f\"},\"error_y\":{\"color\":\"#2a3f5f\"},\"marker\":{\"line\":{\"color\":\"#E5ECF6\",\"width\":0.5},\"pattern\":{\"fillmode\":\"overlay\",\"size\":10,\"solidity\":0.2}},\"type\":\"bar\"}],\"barpolar\":[{\"marker\":{\"line\":{\"color\":\"#E5ECF6\",\"width\":0.5},\"pattern\":{\"fillmode\":\"overlay\",\"size\":10,\"solidity\":0.2}},\"type\":\"barpolar\"}],\"carpet\":[{\"aaxis\":{\"endlinecolor\":\"#2a3f5f\",\"gridcolor\":\"white\",\"linecolor\":\"white\",\"minorgridcolor\":\"white\",\"startlinecolor\":\"#2a3f5f\"},\"baxis\":{\"endlinecolor\":\"#2a3f5f\",\"gridcolor\":\"white\",\"linecolor\":\"white\",\"minorgridcolor\":\"white\",\"startlinecolor\":\"#2a3f5f\"},\"type\":\"carpet\"}],\"choropleth\":[{\"colorbar\":{\"outlinewidth\":0,\"ticks\":\"\"},\"type\":\"choropleth\"}],\"contour\":[{\"colorbar\":{\"outlinewidth\":0,\"ticks\":\"\"},\"colorscale\":[[0.0,\"#0d0887\"],[0.1111111111111111,\"#46039f\"],[0.2222222222222222,\"#7201a8\"],[0.3333333333333333,\"#9c179e\"],[0.4444444444444444,\"#bd3786\"],[0.5555555555555556,\"#d8576b\"],[0.6666666666666666,\"#ed7953\"],[0.7777777777777778,\"#fb9f3a\"],[0.8888888888888888,\"#fdca26\"],[1.0,\"#f0f921\"]],\"type\":\"contour\"}],\"contourcarpet\":[{\"colorbar\":{\"outlinewidth\":0,\"ticks\":\"\"},\"type\":\"contourcarpet\"}],\"heatmap\":[{\"colorbar\":{\"outlinewidth\":0,\"ticks\":\"\"},\"colorscale\":[[0.0,\"#0d0887\"],[0.1111111111111111,\"#46039f\"],[0.2222222222222222,\"#7201a8\"],[0.3333333333333333,\"#9c179e\"],[0.4444444444444444,\"#bd3786\"],[0.5555555555555556,\"#d8576b\"],[0.6666666666666666,\"#ed7953\"],[0.7777777777777778,\"#fb9f3a\"],[0.8888888888888888,\"#fdca26\"],[1.0,\"#f0f921\"]],\"type\":\"heatmap\"}],\"heatmapgl\":[{\"colorbar\":{\"outlinewidth\":0,\"ticks\":\"\"},\"colorscale\":[[0.0,\"#0d0887\"],[0.1111111111111111,\"#46039f\"],[0.2222222222222222,\"#7201a8\"],[0.3333333333333333,\"#9c179e\"],[0.4444444444444444,\"#bd3786\"],[0.5555555555555556,\"#d8576b\"],[0.6666666666666666,\"#ed7953\"],[0.7777777777777778,\"#fb9f3a\"],[0.8888888888888888,\"#fdca26\"],[1.0,\"#f0f921\"]],\"type\":\"heatmapgl\"}],\"histogram\":[{\"marker\":{\"pattern\":{\"fillmode\":\"overlay\",\"size\":10,\"solidity\":0.2}},\"type\":\"histogram\"}],\"histogram2d\":[{\"colorbar\":{\"outlinewidth\":0,\"ticks\":\"\"},\"colorscale\":[[0.0,\"#0d0887\"],[0.1111111111111111,\"#46039f\"],[0.2222222222222222,\"#7201a8\"],[0.3333333333333333,\"#9c179e\"],[0.4444444444444444,\"#bd3786\"],[0.5555555555555556,\"#d8576b\"],[0.6666666666666666,\"#ed7953\"],[0.7777777777777778,\"#fb9f3a\"],[0.8888888888888888,\"#fdca26\"],[1.0,\"#f0f921\"]],\"type\":\"histogram2d\"}],\"histogram2dcontour\":[{\"colorbar\":{\"outlinewidth\":0,\"ticks\":\"\"},\"colorscale\":[[0.0,\"#0d0887\"],[0.1111111111111111,\"#46039f\"],[0.2222222222222222,\"#7201a8\"],[0.3333333333333333,\"#9c179e\"],[0.4444444444444444,\"#bd3786\"],[0.5555555555555556,\"#d8576b\"],[0.6666666666666666,\"#ed7953\"],[0.7777777777777778,\"#fb9f3a\"],[0.8888888888888888,\"#fdca26\"],[1.0,\"#f0f921\"]],\"type\":\"histogram2dcontour\"}],\"mesh3d\":[{\"colorbar\":{\"outlinewidth\":0,\"ticks\":\"\"},\"type\":\"mesh3d\"}],\"parcoords\":[{\"line\":{\"colorbar\":{\"outlinewidth\":0,\"ticks\":\"\"}},\"type\":\"parcoords\"}],\"pie\":[{\"automargin\":true,\"type\":\"pie\"}],\"scatter\":[{\"marker\":{\"colorbar\":{\"outlinewidth\":0,\"ticks\":\"\"}},\"type\":\"scatter\"}],\"scatter3d\":[{\"line\":{\"colorbar\":{\"outlinewidth\":0,\"ticks\":\"\"}},\"marker\":{\"colorbar\":{\"outlinewidth\":0,\"ticks\":\"\"}},\"type\":\"scatter3d\"}],\"scattercarpet\":[{\"marker\":{\"colorbar\":{\"outlinewidth\":0,\"ticks\":\"\"}},\"type\":\"scattercarpet\"}],\"scattergeo\":[{\"marker\":{\"colorbar\":{\"outlinewidth\":0,\"ticks\":\"\"}},\"type\":\"scattergeo\"}],\"scattergl\":[{\"marker\":{\"colorbar\":{\"outlinewidth\":0,\"ticks\":\"\"}},\"type\":\"scattergl\"}],\"scattermapbox\":[{\"marker\":{\"colorbar\":{\"outlinewidth\":0,\"ticks\":\"\"}},\"type\":\"scattermapbox\"}],\"scatterpolar\":[{\"marker\":{\"colorbar\":{\"outlinewidth\":0,\"ticks\":\"\"}},\"type\":\"scatterpolar\"}],\"scatterpolargl\":[{\"marker\":{\"colorbar\":{\"outlinewidth\":0,\"ticks\":\"\"}},\"type\":\"scatterpolargl\"}],\"scatterternary\":[{\"marker\":{\"colorbar\":{\"outlinewidth\":0,\"ticks\":\"\"}},\"type\":\"scatterternary\"}],\"surface\":[{\"colorbar\":{\"outlinewidth\":0,\"ticks\":\"\"},\"colorscale\":[[0.0,\"#0d0887\"],[0.1111111111111111,\"#46039f\"],[0.2222222222222222,\"#7201a8\"],[0.3333333333333333,\"#9c179e\"],[0.4444444444444444,\"#bd3786\"],[0.5555555555555556,\"#d8576b\"],[0.6666666666666666,\"#ed7953\"],[0.7777777777777778,\"#fb9f3a\"],[0.8888888888888888,\"#fdca26\"],[1.0,\"#f0f921\"]],\"type\":\"surface\"}],\"table\":[{\"cells\":{\"fill\":{\"color\":\"#EBF0F8\"},\"line\":{\"color\":\"white\"}},\"header\":{\"fill\":{\"color\":\"#C8D4E3\"},\"line\":{\"color\":\"white\"}},\"type\":\"table\"}]},\"layout\":{\"annotationdefaults\":{\"arrowcolor\":\"#2a3f5f\",\"arrowhead\":0,\"arrowwidth\":1},\"autotypenumbers\":\"strict\",\"coloraxis\":{\"colorbar\":{\"outlinewidth\":0,\"ticks\":\"\"}},\"colorscale\":{\"diverging\":[[0,\"#8e0152\"],[0.1,\"#c51b7d\"],[0.2,\"#de77ae\"],[0.3,\"#f1b6da\"],[0.4,\"#fde0ef\"],[0.5,\"#f7f7f7\"],[0.6,\"#e6f5d0\"],[0.7,\"#b8e186\"],[0.8,\"#7fbc41\"],[0.9,\"#4d9221\"],[1,\"#276419\"]],\"sequential\":[[0.0,\"#0d0887\"],[0.1111111111111111,\"#46039f\"],[0.2222222222222222,\"#7201a8\"],[0.3333333333333333,\"#9c179e\"],[0.4444444444444444,\"#bd3786\"],[0.5555555555555556,\"#d8576b\"],[0.6666666666666666,\"#ed7953\"],[0.7777777777777778,\"#fb9f3a\"],[0.8888888888888888,\"#fdca26\"],[1.0,\"#f0f921\"]],\"sequentialminus\":[[0.0,\"#0d0887\"],[0.1111111111111111,\"#46039f\"],[0.2222222222222222,\"#7201a8\"],[0.3333333333333333,\"#9c179e\"],[0.4444444444444444,\"#bd3786\"],[0.5555555555555556,\"#d8576b\"],[0.6666666666666666,\"#ed7953\"],[0.7777777777777778,\"#fb9f3a\"],[0.8888888888888888,\"#fdca26\"],[1.0,\"#f0f921\"]]},\"colorway\":[\"#636efa\",\"#EF553B\",\"#00cc96\",\"#ab63fa\",\"#FFA15A\",\"#19d3f3\",\"#FF6692\",\"#B6E880\",\"#FF97FF\",\"#FECB52\"],\"font\":{\"color\":\"#2a3f5f\"},\"geo\":{\"bgcolor\":\"white\",\"lakecolor\":\"white\",\"landcolor\":\"#E5ECF6\",\"showlakes\":true,\"showland\":true,\"subunitcolor\":\"white\"},\"hoverlabel\":{\"align\":\"left\"},\"hovermode\":\"closest\",\"mapbox\":{\"style\":\"light\"},\"paper_bgcolor\":\"white\",\"plot_bgcolor\":\"#E5ECF6\",\"polar\":{\"angularaxis\":{\"gridcolor\":\"white\",\"linecolor\":\"white\",\"ticks\":\"\"},\"bgcolor\":\"#E5ECF6\",\"radialaxis\":{\"gridcolor\":\"white\",\"linecolor\":\"white\",\"ticks\":\"\"}},\"scene\":{\"xaxis\":{\"backgroundcolor\":\"#E5ECF6\",\"gridcolor\":\"white\",\"gridwidth\":2,\"linecolor\":\"white\",\"showbackground\":true,\"ticks\":\"\",\"zerolinecolor\":\"white\"},\"yaxis\":{\"backgroundcolor\":\"#E5ECF6\",\"gridcolor\":\"white\",\"gridwidth\":2,\"linecolor\":\"white\",\"showbackground\":true,\"ticks\":\"\",\"zerolinecolor\":\"white\"},\"zaxis\":{\"backgroundcolor\":\"#E5ECF6\",\"gridcolor\":\"white\",\"gridwidth\":2,\"linecolor\":\"white\",\"showbackground\":true,\"ticks\":\"\",\"zerolinecolor\":\"white\"}},\"shapedefaults\":{\"line\":{\"color\":\"#2a3f5f\"}},\"ternary\":{\"aaxis\":{\"gridcolor\":\"white\",\"linecolor\":\"white\",\"ticks\":\"\"},\"baxis\":{\"gridcolor\":\"white\",\"linecolor\":\"white\",\"ticks\":\"\"},\"bgcolor\":\"#E5ECF6\",\"caxis\":{\"gridcolor\":\"white\",\"linecolor\":\"white\",\"ticks\":\"\"}},\"title\":{\"x\":0.05},\"xaxis\":{\"automargin\":true,\"gridcolor\":\"white\",\"linecolor\":\"white\",\"ticks\":\"\",\"title\":{\"standoff\":15},\"zerolinecolor\":\"white\",\"zerolinewidth\":2},\"yaxis\":{\"automargin\":true,\"gridcolor\":\"white\",\"linecolor\":\"white\",\"ticks\":\"\",\"title\":{\"standoff\":15},\"zerolinecolor\":\"white\",\"zerolinewidth\":2}}}},                        {\"responsive\": true}                    ).then(function(){\n                            \nvar gd = document.getElementById('952f21fb-1c68-40b5-935b-04041aac5ba5');\nvar x = new MutationObserver(function (mutations, observer) {{\n        var display = window.getComputedStyle(gd).display;\n        if (!display || display === 'none') {{\n            console.log([gd, 'removed!']);\n            Plotly.purge(gd);\n            observer.disconnect();\n        }}\n}});\n\n// Listen for the removal of the full notebook cells\nvar notebookContainer = gd.closest('#notebook-container');\nif (notebookContainer) {{\n    x.observe(notebookContainer, {childList: true});\n}}\n\n// Listen for the clearing of the current output cell\nvar outputEl = gd.closest('.output');\nif (outputEl) {{\n    x.observe(outputEl, {childList: true});\n}}\n\n                        })                };                });            </script>        </div>"
     },
     "metadata": {},
     "output_type": "display_data"
    }
   ],
   "source": [
    "fig = go.Figure([go.Scatter(x=plot_df2['date'], y=plot_df2['sentiment_score'])])\n",
    "fig.show()"
   ],
   "metadata": {
    "collapsed": false,
    "pycharm": {
     "name": "#%%\n"
    }
   }
  }
 ],
 "metadata": {
  "kernelspec": {
   "display_name": "Python 3",
   "language": "python",
   "name": "python3"
  },
  "language_info": {
   "codemirror_mode": {
    "name": "ipython",
    "version": 2
   },
   "file_extension": ".py",
   "mimetype": "text/x-python",
   "name": "python",
   "nbconvert_exporter": "python",
   "pygments_lexer": "ipython2",
   "version": "2.7.6"
  }
 },
 "nbformat": 4,
 "nbformat_minor": 0
}