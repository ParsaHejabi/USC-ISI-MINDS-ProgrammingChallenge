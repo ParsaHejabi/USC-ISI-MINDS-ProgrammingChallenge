{
 "nbformat": 4,
 "nbformat_minor": 0,
 "metadata": {
  "colab": {
   "name": "MINDS_Programming_Challenge.ipynb",
   "provenance": []
  },
  "kernelspec": {
   "name": "python3",
   "display_name": "Python 3"
  },
  "language_info": {
   "name": "python"
  },
  "widgets": {
   "application/vnd.jupyter.widget-state+json": {
    "0b25a42b7e7b402ba72c96e65cca2e56": {
     "model_module": "@jupyter-widgets/controls",
     "model_name": "HBoxModel",
     "model_module_version": "1.5.0",
     "state": {
      "_view_name": "HBoxView",
      "_dom_classes": [],
      "_model_name": "HBoxModel",
      "_view_module": "@jupyter-widgets/controls",
      "_model_module_version": "1.5.0",
      "_view_count": null,
      "_view_module_version": "1.5.0",
      "box_style": "",
      "layout": "IPY_MODEL_e065eb93f9194c09a5074d500e6e3cc1",
      "_model_module": "@jupyter-widgets/controls",
      "children": [
       "IPY_MODEL_e60ab671902b4f37984ce851ff6b626c",
       "IPY_MODEL_b71eb3e416ac40e4b39eacd263fa65cd",
       "IPY_MODEL_749e453199e149ddbbf45eb0938c36ab"
      ]
     }
    },
    "e065eb93f9194c09a5074d500e6e3cc1": {
     "model_module": "@jupyter-widgets/base",
     "model_name": "LayoutModel",
     "model_module_version": "1.2.0",
     "state": {
      "_view_name": "LayoutView",
      "grid_template_rows": null,
      "right": null,
      "justify_content": null,
      "_view_module": "@jupyter-widgets/base",
      "overflow": null,
      "_model_module_version": "1.2.0",
      "_view_count": null,
      "flex_flow": null,
      "width": null,
      "min_width": null,
      "border": null,
      "align_items": null,
      "bottom": null,
      "_model_module": "@jupyter-widgets/base",
      "top": null,
      "grid_column": null,
      "overflow_y": null,
      "overflow_x": null,
      "grid_auto_flow": null,
      "grid_area": null,
      "grid_template_columns": null,
      "flex": null,
      "_model_name": "LayoutModel",
      "justify_items": null,
      "grid_row": null,
      "max_height": null,
      "align_content": null,
      "visibility": null,
      "align_self": null,
      "height": null,
      "min_height": null,
      "padding": null,
      "grid_auto_rows": null,
      "grid_gap": null,
      "max_width": null,
      "order": null,
      "_view_module_version": "1.2.0",
      "grid_template_areas": null,
      "object_position": null,
      "object_fit": null,
      "grid_auto_columns": null,
      "margin": null,
      "display": null,
      "left": null
     }
    },
    "e60ab671902b4f37984ce851ff6b626c": {
     "model_module": "@jupyter-widgets/controls",
     "model_name": "HTMLModel",
     "model_module_version": "1.5.0",
     "state": {
      "_view_name": "HTMLView",
      "style": "IPY_MODEL_956bdd84db7a4133b29861f0c8dbf9ca",
      "_dom_classes": [],
      "description": "",
      "_model_name": "HTMLModel",
      "placeholder": "​",
      "_view_module": "@jupyter-widgets/controls",
      "_model_module_version": "1.5.0",
      "value": "",
      "_view_count": null,
      "_view_module_version": "1.5.0",
      "description_tooltip": null,
      "_model_module": "@jupyter-widgets/controls",
      "layout": "IPY_MODEL_e13734a4baff485f8bab4cda142c33ba"
     }
    },
    "b71eb3e416ac40e4b39eacd263fa65cd": {
     "model_module": "@jupyter-widgets/controls",
     "model_name": "FloatProgressModel",
     "model_module_version": "1.5.0",
     "state": {
      "_view_name": "ProgressView",
      "style": "IPY_MODEL_71da99532c6348fd9ae4e56d78d47230",
      "_dom_classes": [],
      "description": "",
      "_model_name": "FloatProgressModel",
      "bar_style": "danger",
      "max": 1,
      "_view_module": "@jupyter-widgets/controls",
      "_model_module_version": "1.5.0",
      "value": 1,
      "_view_count": null,
      "_view_module_version": "1.5.0",
      "orientation": "horizontal",
      "min": 0,
      "description_tooltip": null,
      "_model_module": "@jupyter-widgets/controls",
      "layout": "IPY_MODEL_5a27eb6c2713480094c6282e00254956"
     }
    },
    "749e453199e149ddbbf45eb0938c36ab": {
     "model_module": "@jupyter-widgets/controls",
     "model_name": "HTMLModel",
     "model_module_version": "1.5.0",
     "state": {
      "_view_name": "HTMLView",
      "style": "IPY_MODEL_dd71b329c0414f3787e68d48f8aec4de",
      "_dom_classes": [],
      "description": "",
      "_model_name": "HTMLModel",
      "placeholder": "​",
      "_view_module": "@jupyter-widgets/controls",
      "_model_module_version": "1.5.0",
      "value": " 571/? [01:26&lt;00:00,  6.56it/s]",
      "_view_count": null,
      "_view_module_version": "1.5.0",
      "description_tooltip": null,
      "_model_module": "@jupyter-widgets/controls",
      "layout": "IPY_MODEL_702d3afa50e74c73b33e9b332ab0106e"
     }
    },
    "956bdd84db7a4133b29861f0c8dbf9ca": {
     "model_module": "@jupyter-widgets/controls",
     "model_name": "DescriptionStyleModel",
     "model_module_version": "1.5.0",
     "state": {
      "_view_name": "StyleView",
      "_model_name": "DescriptionStyleModel",
      "description_width": "",
      "_view_module": "@jupyter-widgets/base",
      "_model_module_version": "1.5.0",
      "_view_count": null,
      "_view_module_version": "1.2.0",
      "_model_module": "@jupyter-widgets/controls"
     }
    },
    "e13734a4baff485f8bab4cda142c33ba": {
     "model_module": "@jupyter-widgets/base",
     "model_name": "LayoutModel",
     "model_module_version": "1.2.0",
     "state": {
      "_view_name": "LayoutView",
      "grid_template_rows": null,
      "right": null,
      "justify_content": null,
      "_view_module": "@jupyter-widgets/base",
      "overflow": null,
      "_model_module_version": "1.2.0",
      "_view_count": null,
      "flex_flow": null,
      "width": null,
      "min_width": null,
      "border": null,
      "align_items": null,
      "bottom": null,
      "_model_module": "@jupyter-widgets/base",
      "top": null,
      "grid_column": null,
      "overflow_y": null,
      "overflow_x": null,
      "grid_auto_flow": null,
      "grid_area": null,
      "grid_template_columns": null,
      "flex": null,
      "_model_name": "LayoutModel",
      "justify_items": null,
      "grid_row": null,
      "max_height": null,
      "align_content": null,
      "visibility": null,
      "align_self": null,
      "height": null,
      "min_height": null,
      "padding": null,
      "grid_auto_rows": null,
      "grid_gap": null,
      "max_width": null,
      "order": null,
      "_view_module_version": "1.2.0",
      "grid_template_areas": null,
      "object_position": null,
      "object_fit": null,
      "grid_auto_columns": null,
      "margin": null,
      "display": null,
      "left": null
     }
    },
    "71da99532c6348fd9ae4e56d78d47230": {
     "model_module": "@jupyter-widgets/controls",
     "model_name": "ProgressStyleModel",
     "model_module_version": "1.5.0",
     "state": {
      "_view_name": "StyleView",
      "_model_name": "ProgressStyleModel",
      "description_width": "",
      "_view_module": "@jupyter-widgets/base",
      "_model_module_version": "1.5.0",
      "_view_count": null,
      "_view_module_version": "1.2.0",
      "bar_color": null,
      "_model_module": "@jupyter-widgets/controls"
     }
    },
    "5a27eb6c2713480094c6282e00254956": {
     "model_module": "@jupyter-widgets/base",
     "model_name": "LayoutModel",
     "model_module_version": "1.2.0",
     "state": {
      "_view_name": "LayoutView",
      "grid_template_rows": null,
      "right": null,
      "justify_content": null,
      "_view_module": "@jupyter-widgets/base",
      "overflow": null,
      "_model_module_version": "1.2.0",
      "_view_count": null,
      "flex_flow": null,
      "width": "20px",
      "min_width": null,
      "border": null,
      "align_items": null,
      "bottom": null,
      "_model_module": "@jupyter-widgets/base",
      "top": null,
      "grid_column": null,
      "overflow_y": null,
      "overflow_x": null,
      "grid_auto_flow": null,
      "grid_area": null,
      "grid_template_columns": null,
      "flex": null,
      "_model_name": "LayoutModel",
      "justify_items": null,
      "grid_row": null,
      "max_height": null,
      "align_content": null,
      "visibility": null,
      "align_self": null,
      "height": null,
      "min_height": null,
      "padding": null,
      "grid_auto_rows": null,
      "grid_gap": null,
      "max_width": null,
      "order": null,
      "_view_module_version": "1.2.0",
      "grid_template_areas": null,
      "object_position": null,
      "object_fit": null,
      "grid_auto_columns": null,
      "margin": null,
      "display": null,
      "left": null
     }
    },
    "dd71b329c0414f3787e68d48f8aec4de": {
     "model_module": "@jupyter-widgets/controls",
     "model_name": "DescriptionStyleModel",
     "model_module_version": "1.5.0",
     "state": {
      "_view_name": "StyleView",
      "_model_name": "DescriptionStyleModel",
      "description_width": "",
      "_view_module": "@jupyter-widgets/base",
      "_model_module_version": "1.5.0",
      "_view_count": null,
      "_view_module_version": "1.2.0",
      "_model_module": "@jupyter-widgets/controls"
     }
    },
    "702d3afa50e74c73b33e9b332ab0106e": {
     "model_module": "@jupyter-widgets/base",
     "model_name": "LayoutModel",
     "model_module_version": "1.2.0",
     "state": {
      "_view_name": "LayoutView",
      "grid_template_rows": null,
      "right": null,
      "justify_content": null,
      "_view_module": "@jupyter-widgets/base",
      "overflow": null,
      "_model_module_version": "1.2.0",
      "_view_count": null,
      "flex_flow": null,
      "width": null,
      "min_width": null,
      "border": null,
      "align_items": null,
      "bottom": null,
      "_model_module": "@jupyter-widgets/base",
      "top": null,
      "grid_column": null,
      "overflow_y": null,
      "overflow_x": null,
      "grid_auto_flow": null,
      "grid_area": null,
      "grid_template_columns": null,
      "flex": null,
      "_model_name": "LayoutModel",
      "justify_items": null,
      "grid_row": null,
      "max_height": null,
      "align_content": null,
      "visibility": null,
      "align_self": null,
      "height": null,
      "min_height": null,
      "padding": null,
      "grid_auto_rows": null,
      "grid_gap": null,
      "max_width": null,
      "order": null,
      "_view_module_version": "1.2.0",
      "grid_template_areas": null,
      "object_position": null,
      "object_fit": null,
      "grid_auto_columns": null,
      "margin": null,
      "display": null,
      "left": null
     }
    }
   }
  }
 },
 "cells": [
  {
   "cell_type": "code",
   "execution_count": 2,
   "outputs": [],
   "source": [
    "import numpy as np\n",
    "from tqdm.notebook import tqdm"
   ],
   "metadata": {
    "collapsed": false,
    "pycharm": {
     "name": "#%%\n"
    }
   }
  },
  {
   "cell_type": "code",
   "execution_count": 3,
   "outputs": [],
   "source": [
    "messages_texts = np.load('./extracted_messages.npy', allow_pickle=True)"
   ],
   "metadata": {
    "collapsed": false,
    "pycharm": {
     "name": "#%%\n"
    }
   }
  },
  {
   "cell_type": "markdown",
   "source": [
    "# Pre-processing"
   ],
   "metadata": {
    "collapsed": false
   }
  },
  {
   "cell_type": "markdown",
   "source": [
    "## Language Detection"
   ],
   "metadata": {
    "id": "-IAbVXEsI_p9"
   }
  },
  {
   "cell_type": "code",
   "source": [
    "import spacy\n",
    "from spacy_langdetect import LanguageDetector\n",
    "from spacy.language import Language\n",
    "\n",
    "def create_lang_detector(nlp, name):\n",
    "    return LanguageDetector()\n",
    "\n",
    "Language.factory(\"language_detector\", func=create_lang_detector)\n",
    "nlp = spacy.load('en_core_web_sm')\n",
    "nlp.add_pipe('language_detector', last=True)"
   ],
   "metadata": {
    "id": "F-icOrE3XAzY"
   },
   "execution_count": 4,
   "outputs": [
    {
     "data": {
      "text/plain": "<spacy_langdetect.spacy_langdetect.LanguageDetector at 0x276b6c16d70>"
     },
     "execution_count": 4,
     "metadata": {},
     "output_type": "execute_result"
    }
   ]
  },
  {
   "cell_type": "code",
   "source": [
    "doc = [nlp(str(messages_text['text']))._.language for messages_text in tqdm(messages_texts)]"
   ],
   "metadata": {
    "colab": {
     "base_uri": "https://localhost:8080/",
     "height": 327
    },
    "id": "8BDXJDyRXBn-",
    "outputId": "28f880b8-87e2-4e0f-d438-abd4659cde6a"
   },
   "execution_count": 5,
   "outputs": [
    {
     "data": {
      "text/plain": "  0%|          | 0/49369 [00:00<?, ?it/s]",
      "application/vnd.jupyter.widget-view+json": {
       "version_major": 2,
       "version_minor": 0,
       "model_id": "9eabffcf2c5a405cb347f9b7cb70c8d5"
      }
     },
     "metadata": {},
     "output_type": "display_data"
    }
   ]
  },
  {
   "cell_type": "code",
   "execution_count": 8,
   "outputs": [
    {
     "data": {
      "text/plain": "49369"
     },
     "execution_count": 8,
     "metadata": {},
     "output_type": "execute_result"
    }
   ],
   "source": [
    "len(doc)"
   ],
   "metadata": {
    "collapsed": false,
    "pycharm": {
     "name": "#%%\n"
    }
   }
  },
  {
   "cell_type": "code",
   "source": [
    "import pandas as pd"
   ],
   "metadata": {
    "id": "O8nkiPaCXUVp"
   },
   "execution_count": 6,
   "outputs": []
  },
  {
   "cell_type": "code",
   "execution_count": 9,
   "outputs": [
    {
     "data": {
      "text/plain": "      language     score\n0           sw  0.999996\n1           en  0.999997\n2           en  0.999996\n3           en  0.999995\n4           en  0.999998\n...        ...       ...\n49364       pt  0.857141\n49365       en  0.714282\n49366       en  0.999998\n49367       en  0.999996\n49368       en  0.714285\n\n[49369 rows x 2 columns]",
      "text/html": "<div>\n<style scoped>\n    .dataframe tbody tr th:only-of-type {\n        vertical-align: middle;\n    }\n\n    .dataframe tbody tr th {\n        vertical-align: top;\n    }\n\n    .dataframe thead th {\n        text-align: right;\n    }\n</style>\n<table border=\"1\" class=\"dataframe\">\n  <thead>\n    <tr style=\"text-align: right;\">\n      <th></th>\n      <th>language</th>\n      <th>score</th>\n    </tr>\n  </thead>\n  <tbody>\n    <tr>\n      <th>0</th>\n      <td>sw</td>\n      <td>0.999996</td>\n    </tr>\n    <tr>\n      <th>1</th>\n      <td>en</td>\n      <td>0.999997</td>\n    </tr>\n    <tr>\n      <th>2</th>\n      <td>en</td>\n      <td>0.999996</td>\n    </tr>\n    <tr>\n      <th>3</th>\n      <td>en</td>\n      <td>0.999995</td>\n    </tr>\n    <tr>\n      <th>4</th>\n      <td>en</td>\n      <td>0.999998</td>\n    </tr>\n    <tr>\n      <th>...</th>\n      <td>...</td>\n      <td>...</td>\n    </tr>\n    <tr>\n      <th>49364</th>\n      <td>pt</td>\n      <td>0.857141</td>\n    </tr>\n    <tr>\n      <th>49365</th>\n      <td>en</td>\n      <td>0.714282</td>\n    </tr>\n    <tr>\n      <th>49366</th>\n      <td>en</td>\n      <td>0.999998</td>\n    </tr>\n    <tr>\n      <th>49367</th>\n      <td>en</td>\n      <td>0.999996</td>\n    </tr>\n    <tr>\n      <th>49368</th>\n      <td>en</td>\n      <td>0.714285</td>\n    </tr>\n  </tbody>\n</table>\n<p>49369 rows × 2 columns</p>\n</div>"
     },
     "execution_count": 9,
     "metadata": {},
     "output_type": "execute_result"
    }
   ],
   "source": [
    "messages_language = pd.DataFrame(doc)\n",
    "messages_language"
   ],
   "metadata": {
    "collapsed": false,
    "pycharm": {
     "name": "#%%\n"
    }
   }
  },
  {
   "cell_type": "code",
   "execution_count": 12,
   "outputs": [],
   "source": [
    "messages_language['text'] = [messages_text['text'] for messages_text in messages_texts.tolist()]"
   ],
   "metadata": {
    "collapsed": false,
    "pycharm": {
     "name": "#%%\n"
    }
   }
  },
  {
   "cell_type": "code",
   "execution_count": 14,
   "outputs": [],
   "source": [
    "messages_language['date'] = [messages_text['date'] for messages_text in messages_texts.tolist()]\n"
   ],
   "metadata": {
    "collapsed": false,
    "pycharm": {
     "name": "#%%\n"
    }
   }
  },
  {
   "cell_type": "code",
   "execution_count": 15,
   "outputs": [
    {
     "data": {
      "text/plain": "      language     score                                               text  \\\n0           sw  0.999996                                                 hi   \n1           en  0.999997                                do indicators work?   \n2           en  0.999996  If you trade true gbp for gbp Fiat or vice Ver...   \n3           en  0.999995                          And how much is that fee?   \n4           en  0.999998                     If you’re a silver card holder   \n...        ...       ...                                                ...   \n49364       pt  0.857141                                           Yea I do   \n49365       en  0.714282                            I beleive it will tank.   \n49366       en  0.999998  Are you worry that too many see that URL is a ...   \n49367       en  0.999996  Dammit i want some fake giveaways too. Where i...   \n49368       en  0.714285                                      Too much fake   \n\n                      date  \n0      2021-05-01T00:00:12  \n1      2021-05-01T00:01:13  \n2      2021-05-01T00:01:50  \n3      2021-05-01T00:02:05  \n4      2021-05-01T00:02:12  \n...                    ...  \n49364  2021-05-15T23:56:33  \n49365  2021-05-15T23:57:02  \n49366  2021-05-15T23:57:16  \n49367  2021-05-15T23:58:56  \n49368  2021-05-15T23:59:40  \n\n[49369 rows x 4 columns]",
      "text/html": "<div>\n<style scoped>\n    .dataframe tbody tr th:only-of-type {\n        vertical-align: middle;\n    }\n\n    .dataframe tbody tr th {\n        vertical-align: top;\n    }\n\n    .dataframe thead th {\n        text-align: right;\n    }\n</style>\n<table border=\"1\" class=\"dataframe\">\n  <thead>\n    <tr style=\"text-align: right;\">\n      <th></th>\n      <th>language</th>\n      <th>score</th>\n      <th>text</th>\n      <th>date</th>\n    </tr>\n  </thead>\n  <tbody>\n    <tr>\n      <th>0</th>\n      <td>sw</td>\n      <td>0.999996</td>\n      <td>hi</td>\n      <td>2021-05-01T00:00:12</td>\n    </tr>\n    <tr>\n      <th>1</th>\n      <td>en</td>\n      <td>0.999997</td>\n      <td>do indicators work?</td>\n      <td>2021-05-01T00:01:13</td>\n    </tr>\n    <tr>\n      <th>2</th>\n      <td>en</td>\n      <td>0.999996</td>\n      <td>If you trade true gbp for gbp Fiat or vice Ver...</td>\n      <td>2021-05-01T00:01:50</td>\n    </tr>\n    <tr>\n      <th>3</th>\n      <td>en</td>\n      <td>0.999995</td>\n      <td>And how much is that fee?</td>\n      <td>2021-05-01T00:02:05</td>\n    </tr>\n    <tr>\n      <th>4</th>\n      <td>en</td>\n      <td>0.999998</td>\n      <td>If you’re a silver card holder</td>\n      <td>2021-05-01T00:02:12</td>\n    </tr>\n    <tr>\n      <th>...</th>\n      <td>...</td>\n      <td>...</td>\n      <td>...</td>\n      <td>...</td>\n    </tr>\n    <tr>\n      <th>49364</th>\n      <td>pt</td>\n      <td>0.857141</td>\n      <td>Yea I do</td>\n      <td>2021-05-15T23:56:33</td>\n    </tr>\n    <tr>\n      <th>49365</th>\n      <td>en</td>\n      <td>0.714282</td>\n      <td>I beleive it will tank.</td>\n      <td>2021-05-15T23:57:02</td>\n    </tr>\n    <tr>\n      <th>49366</th>\n      <td>en</td>\n      <td>0.999998</td>\n      <td>Are you worry that too many see that URL is a ...</td>\n      <td>2021-05-15T23:57:16</td>\n    </tr>\n    <tr>\n      <th>49367</th>\n      <td>en</td>\n      <td>0.999996</td>\n      <td>Dammit i want some fake giveaways too. Where i...</td>\n      <td>2021-05-15T23:58:56</td>\n    </tr>\n    <tr>\n      <th>49368</th>\n      <td>en</td>\n      <td>0.714285</td>\n      <td>Too much fake</td>\n      <td>2021-05-15T23:59:40</td>\n    </tr>\n  </tbody>\n</table>\n<p>49369 rows × 4 columns</p>\n</div>"
     },
     "execution_count": 15,
     "metadata": {},
     "output_type": "execute_result"
    }
   ],
   "source": [
    "messages_language"
   ],
   "metadata": {
    "collapsed": false,
    "pycharm": {
     "name": "#%%\n"
    }
   }
  },
  {
   "cell_type": "code",
   "execution_count": 16,
   "outputs": [],
   "source": [
    "messages_language.to_csv('messages_languages.csv')"
   ],
   "metadata": {
    "collapsed": false,
    "pycharm": {
     "name": "#%%\n"
    }
   }
  },
  {
   "cell_type": "code",
   "execution_count": null,
   "outputs": [],
   "source": [],
   "metadata": {
    "collapsed": false,
    "pycharm": {
     "name": "#%%\n"
    }
   }
  }
 ]
}