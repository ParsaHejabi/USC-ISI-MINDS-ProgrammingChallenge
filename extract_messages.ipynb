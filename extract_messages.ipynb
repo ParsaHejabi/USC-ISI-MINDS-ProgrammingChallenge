{
 "nbformat": 4,
 "nbformat_minor": 0,
 "metadata": {
  "colab": {
   "name": "MINDS_Programming_Challenge.ipynb",
   "provenance": []
  },
  "kernelspec": {
   "name": "python3",
   "display_name": "Python 3"
  },
  "language_info": {
   "name": "python"
  },
  "widgets": {
   "application/vnd.jupyter.widget-state+json": {
    "0b25a42b7e7b402ba72c96e65cca2e56": {
     "model_module": "@jupyter-widgets/controls",
     "model_name": "HBoxModel",
     "model_module_version": "1.5.0",
     "state": {
      "_view_name": "HBoxView",
      "_dom_classes": [],
      "_model_name": "HBoxModel",
      "_view_module": "@jupyter-widgets/controls",
      "_model_module_version": "1.5.0",
      "_view_count": null,
      "_view_module_version": "1.5.0",
      "box_style": "",
      "layout": "IPY_MODEL_e065eb93f9194c09a5074d500e6e3cc1",
      "_model_module": "@jupyter-widgets/controls",
      "children": [
       "IPY_MODEL_e60ab671902b4f37984ce851ff6b626c",
       "IPY_MODEL_b71eb3e416ac40e4b39eacd263fa65cd",
       "IPY_MODEL_749e453199e149ddbbf45eb0938c36ab"
      ]
     }
    },
    "e065eb93f9194c09a5074d500e6e3cc1": {
     "model_module": "@jupyter-widgets/base",
     "model_name": "LayoutModel",
     "model_module_version": "1.2.0",
     "state": {
      "_view_name": "LayoutView",
      "grid_template_rows": null,
      "right": null,
      "justify_content": null,
      "_view_module": "@jupyter-widgets/base",
      "overflow": null,
      "_model_module_version": "1.2.0",
      "_view_count": null,
      "flex_flow": null,
      "width": null,
      "min_width": null,
      "border": null,
      "align_items": null,
      "bottom": null,
      "_model_module": "@jupyter-widgets/base",
      "top": null,
      "grid_column": null,
      "overflow_y": null,
      "overflow_x": null,
      "grid_auto_flow": null,
      "grid_area": null,
      "grid_template_columns": null,
      "flex": null,
      "_model_name": "LayoutModel",
      "justify_items": null,
      "grid_row": null,
      "max_height": null,
      "align_content": null,
      "visibility": null,
      "align_self": null,
      "height": null,
      "min_height": null,
      "padding": null,
      "grid_auto_rows": null,
      "grid_gap": null,
      "max_width": null,
      "order": null,
      "_view_module_version": "1.2.0",
      "grid_template_areas": null,
      "object_position": null,
      "object_fit": null,
      "grid_auto_columns": null,
      "margin": null,
      "display": null,
      "left": null
     }
    },
    "e60ab671902b4f37984ce851ff6b626c": {
     "model_module": "@jupyter-widgets/controls",
     "model_name": "HTMLModel",
     "model_module_version": "1.5.0",
     "state": {
      "_view_name": "HTMLView",
      "style": "IPY_MODEL_956bdd84db7a4133b29861f0c8dbf9ca",
      "_dom_classes": [],
      "description": "",
      "_model_name": "HTMLModel",
      "placeholder": "​",
      "_view_module": "@jupyter-widgets/controls",
      "_model_module_version": "1.5.0",
      "value": "",
      "_view_count": null,
      "_view_module_version": "1.5.0",
      "description_tooltip": null,
      "_model_module": "@jupyter-widgets/controls",
      "layout": "IPY_MODEL_e13734a4baff485f8bab4cda142c33ba"
     }
    },
    "b71eb3e416ac40e4b39eacd263fa65cd": {
     "model_module": "@jupyter-widgets/controls",
     "model_name": "FloatProgressModel",
     "model_module_version": "1.5.0",
     "state": {
      "_view_name": "ProgressView",
      "style": "IPY_MODEL_71da99532c6348fd9ae4e56d78d47230",
      "_dom_classes": [],
      "description": "",
      "_model_name": "FloatProgressModel",
      "bar_style": "danger",
      "max": 1,
      "_view_module": "@jupyter-widgets/controls",
      "_model_module_version": "1.5.0",
      "value": 1,
      "_view_count": null,
      "_view_module_version": "1.5.0",
      "orientation": "horizontal",
      "min": 0,
      "description_tooltip": null,
      "_model_module": "@jupyter-widgets/controls",
      "layout": "IPY_MODEL_5a27eb6c2713480094c6282e00254956"
     }
    },
    "749e453199e149ddbbf45eb0938c36ab": {
     "model_module": "@jupyter-widgets/controls",
     "model_name": "HTMLModel",
     "model_module_version": "1.5.0",
     "state": {
      "_view_name": "HTMLView",
      "style": "IPY_MODEL_dd71b329c0414f3787e68d48f8aec4de",
      "_dom_classes": [],
      "description": "",
      "_model_name": "HTMLModel",
      "placeholder": "​",
      "_view_module": "@jupyter-widgets/controls",
      "_model_module_version": "1.5.0",
      "value": " 571/? [01:26&lt;00:00,  6.56it/s]",
      "_view_count": null,
      "_view_module_version": "1.5.0",
      "description_tooltip": null,
      "_model_module": "@jupyter-widgets/controls",
      "layout": "IPY_MODEL_702d3afa50e74c73b33e9b332ab0106e"
     }
    },
    "956bdd84db7a4133b29861f0c8dbf9ca": {
     "model_module": "@jupyter-widgets/controls",
     "model_name": "DescriptionStyleModel",
     "model_module_version": "1.5.0",
     "state": {
      "_view_name": "StyleView",
      "_model_name": "DescriptionStyleModel",
      "description_width": "",
      "_view_module": "@jupyter-widgets/base",
      "_model_module_version": "1.5.0",
      "_view_count": null,
      "_view_module_version": "1.2.0",
      "_model_module": "@jupyter-widgets/controls"
     }
    },
    "e13734a4baff485f8bab4cda142c33ba": {
     "model_module": "@jupyter-widgets/base",
     "model_name": "LayoutModel",
     "model_module_version": "1.2.0",
     "state": {
      "_view_name": "LayoutView",
      "grid_template_rows": null,
      "right": null,
      "justify_content": null,
      "_view_module": "@jupyter-widgets/base",
      "overflow": null,
      "_model_module_version": "1.2.0",
      "_view_count": null,
      "flex_flow": null,
      "width": null,
      "min_width": null,
      "border": null,
      "align_items": null,
      "bottom": null,
      "_model_module": "@jupyter-widgets/base",
      "top": null,
      "grid_column": null,
      "overflow_y": null,
      "overflow_x": null,
      "grid_auto_flow": null,
      "grid_area": null,
      "grid_template_columns": null,
      "flex": null,
      "_model_name": "LayoutModel",
      "justify_items": null,
      "grid_row": null,
      "max_height": null,
      "align_content": null,
      "visibility": null,
      "align_self": null,
      "height": null,
      "min_height": null,
      "padding": null,
      "grid_auto_rows": null,
      "grid_gap": null,
      "max_width": null,
      "order": null,
      "_view_module_version": "1.2.0",
      "grid_template_areas": null,
      "object_position": null,
      "object_fit": null,
      "grid_auto_columns": null,
      "margin": null,
      "display": null,
      "left": null
     }
    },
    "71da99532c6348fd9ae4e56d78d47230": {
     "model_module": "@jupyter-widgets/controls",
     "model_name": "ProgressStyleModel",
     "model_module_version": "1.5.0",
     "state": {
      "_view_name": "StyleView",
      "_model_name": "ProgressStyleModel",
      "description_width": "",
      "_view_module": "@jupyter-widgets/base",
      "_model_module_version": "1.5.0",
      "_view_count": null,
      "_view_module_version": "1.2.0",
      "bar_color": null,
      "_model_module": "@jupyter-widgets/controls"
     }
    },
    "5a27eb6c2713480094c6282e00254956": {
     "model_module": "@jupyter-widgets/base",
     "model_name": "LayoutModel",
     "model_module_version": "1.2.0",
     "state": {
      "_view_name": "LayoutView",
      "grid_template_rows": null,
      "right": null,
      "justify_content": null,
      "_view_module": "@jupyter-widgets/base",
      "overflow": null,
      "_model_module_version": "1.2.0",
      "_view_count": null,
      "flex_flow": null,
      "width": "20px",
      "min_width": null,
      "border": null,
      "align_items": null,
      "bottom": null,
      "_model_module": "@jupyter-widgets/base",
      "top": null,
      "grid_column": null,
      "overflow_y": null,
      "overflow_x": null,
      "grid_auto_flow": null,
      "grid_area": null,
      "grid_template_columns": null,
      "flex": null,
      "_model_name": "LayoutModel",
      "justify_items": null,
      "grid_row": null,
      "max_height": null,
      "align_content": null,
      "visibility": null,
      "align_self": null,
      "height": null,
      "min_height": null,
      "padding": null,
      "grid_auto_rows": null,
      "grid_gap": null,
      "max_width": null,
      "order": null,
      "_view_module_version": "1.2.0",
      "grid_template_areas": null,
      "object_position": null,
      "object_fit": null,
      "grid_auto_columns": null,
      "margin": null,
      "display": null,
      "left": null
     }
    },
    "dd71b329c0414f3787e68d48f8aec4de": {
     "model_module": "@jupyter-widgets/controls",
     "model_name": "DescriptionStyleModel",
     "model_module_version": "1.5.0",
     "state": {
      "_view_name": "StyleView",
      "_model_name": "DescriptionStyleModel",
      "description_width": "",
      "_view_module": "@jupyter-widgets/base",
      "_model_module_version": "1.5.0",
      "_view_count": null,
      "_view_module_version": "1.2.0",
      "_model_module": "@jupyter-widgets/controls"
     }
    },
    "702d3afa50e74c73b33e9b332ab0106e": {
     "model_module": "@jupyter-widgets/base",
     "model_name": "LayoutModel",
     "model_module_version": "1.2.0",
     "state": {
      "_view_name": "LayoutView",
      "grid_template_rows": null,
      "right": null,
      "justify_content": null,
      "_view_module": "@jupyter-widgets/base",
      "overflow": null,
      "_model_module_version": "1.2.0",
      "_view_count": null,
      "flex_flow": null,
      "width": null,
      "min_width": null,
      "border": null,
      "align_items": null,
      "bottom": null,
      "_model_module": "@jupyter-widgets/base",
      "top": null,
      "grid_column": null,
      "overflow_y": null,
      "overflow_x": null,
      "grid_auto_flow": null,
      "grid_area": null,
      "grid_template_columns": null,
      "flex": null,
      "_model_name": "LayoutModel",
      "justify_items": null,
      "grid_row": null,
      "max_height": null,
      "align_content": null,
      "visibility": null,
      "align_self": null,
      "height": null,
      "min_height": null,
      "padding": null,
      "grid_auto_rows": null,
      "grid_gap": null,
      "max_width": null,
      "order": null,
      "_view_module_version": "1.2.0",
      "grid_template_areas": null,
      "object_position": null,
      "object_fit": null,
      "grid_auto_columns": null,
      "margin": null,
      "display": null,
      "left": null
     }
    }
   }
  }
 },
 "cells": [
  {
   "cell_type": "markdown",
   "source": [
    "# Read JSON File"
   ],
   "metadata": {
    "id": "Fm37hsStI4go"
   }
  },
  {
   "cell_type": "code",
   "execution_count": 6,
   "metadata": {
    "id": "KC5NnhfUHgO_"
   },
   "outputs": [],
   "source": [
    "import pandas as pd\n",
    "import numpy as np\n",
    "from tqdm.notebook import tqdm"
   ]
  },
  {
   "cell_type": "code",
   "source": [
    "data = pd.read_json('TelegramChatExport/result.json')\n",
    "data"
   ],
   "metadata": {
    "colab": {
     "base_uri": "https://localhost:8080/",
     "height": 424
    },
    "id": "_U4IeQ_xIVe1",
    "outputId": "fb3d3a0e-2c29-4988-ea49-8300b7762f4c"
   },
   "execution_count": 7,
   "outputs": [
    {
     "data": {
      "text/plain": "             name               type          id  \\\n0      Crypto.com  public_supergroup  1290986109   \n1      Crypto.com  public_supergroup  1290986109   \n2      Crypto.com  public_supergroup  1290986109   \n3      Crypto.com  public_supergroup  1290986109   \n4      Crypto.com  public_supergroup  1290986109   \n...           ...                ...         ...   \n49431  Crypto.com  public_supergroup  1290986109   \n49432  Crypto.com  public_supergroup  1290986109   \n49433  Crypto.com  public_supergroup  1290986109   \n49434  Crypto.com  public_supergroup  1290986109   \n49435  Crypto.com  public_supergroup  1290986109   \n\n                                                messages  \n0      {'id': 1903819, 'type': 'message', 'date': '20...  \n1      {'id': 1903842, 'type': 'message', 'date': '20...  \n2      {'id': 1903855, 'type': 'message', 'date': '20...  \n3      {'id': 1903856, 'type': 'message', 'date': '20...  \n4      {'id': 1903857, 'type': 'message', 'date': '20...  \n...                                                  ...  \n49431  {'id': 2042305, 'type': 'message', 'date': '20...  \n49432  {'id': 2042308, 'type': 'message', 'date': '20...  \n49433  {'id': 2042312, 'type': 'message', 'date': '20...  \n49434  {'id': 2042318, 'type': 'message', 'date': '20...  \n49435  {'id': 2042321, 'type': 'message', 'date': '20...  \n\n[49436 rows x 4 columns]",
      "text/html": "<div>\n<style scoped>\n    .dataframe tbody tr th:only-of-type {\n        vertical-align: middle;\n    }\n\n    .dataframe tbody tr th {\n        vertical-align: top;\n    }\n\n    .dataframe thead th {\n        text-align: right;\n    }\n</style>\n<table border=\"1\" class=\"dataframe\">\n  <thead>\n    <tr style=\"text-align: right;\">\n      <th></th>\n      <th>name</th>\n      <th>type</th>\n      <th>id</th>\n      <th>messages</th>\n    </tr>\n  </thead>\n  <tbody>\n    <tr>\n      <th>0</th>\n      <td>Crypto.com</td>\n      <td>public_supergroup</td>\n      <td>1290986109</td>\n      <td>{'id': 1903819, 'type': 'message', 'date': '20...</td>\n    </tr>\n    <tr>\n      <th>1</th>\n      <td>Crypto.com</td>\n      <td>public_supergroup</td>\n      <td>1290986109</td>\n      <td>{'id': 1903842, 'type': 'message', 'date': '20...</td>\n    </tr>\n    <tr>\n      <th>2</th>\n      <td>Crypto.com</td>\n      <td>public_supergroup</td>\n      <td>1290986109</td>\n      <td>{'id': 1903855, 'type': 'message', 'date': '20...</td>\n    </tr>\n    <tr>\n      <th>3</th>\n      <td>Crypto.com</td>\n      <td>public_supergroup</td>\n      <td>1290986109</td>\n      <td>{'id': 1903856, 'type': 'message', 'date': '20...</td>\n    </tr>\n    <tr>\n      <th>4</th>\n      <td>Crypto.com</td>\n      <td>public_supergroup</td>\n      <td>1290986109</td>\n      <td>{'id': 1903857, 'type': 'message', 'date': '20...</td>\n    </tr>\n    <tr>\n      <th>...</th>\n      <td>...</td>\n      <td>...</td>\n      <td>...</td>\n      <td>...</td>\n    </tr>\n    <tr>\n      <th>49431</th>\n      <td>Crypto.com</td>\n      <td>public_supergroup</td>\n      <td>1290986109</td>\n      <td>{'id': 2042305, 'type': 'message', 'date': '20...</td>\n    </tr>\n    <tr>\n      <th>49432</th>\n      <td>Crypto.com</td>\n      <td>public_supergroup</td>\n      <td>1290986109</td>\n      <td>{'id': 2042308, 'type': 'message', 'date': '20...</td>\n    </tr>\n    <tr>\n      <th>49433</th>\n      <td>Crypto.com</td>\n      <td>public_supergroup</td>\n      <td>1290986109</td>\n      <td>{'id': 2042312, 'type': 'message', 'date': '20...</td>\n    </tr>\n    <tr>\n      <th>49434</th>\n      <td>Crypto.com</td>\n      <td>public_supergroup</td>\n      <td>1290986109</td>\n      <td>{'id': 2042318, 'type': 'message', 'date': '20...</td>\n    </tr>\n    <tr>\n      <th>49435</th>\n      <td>Crypto.com</td>\n      <td>public_supergroup</td>\n      <td>1290986109</td>\n      <td>{'id': 2042321, 'type': 'message', 'date': '20...</td>\n    </tr>\n  </tbody>\n</table>\n<p>49436 rows × 4 columns</p>\n</div>"
     },
     "execution_count": 7,
     "metadata": {},
     "output_type": "execute_result"
    }
   ]
  },
  {
   "cell_type": "code",
   "source": [
    "messages_texts = []"
   ],
   "metadata": {
    "id": "Kfy0ESjMe1Vk"
   },
   "execution_count": 8,
   "outputs": []
  },
  {
   "cell_type": "code",
   "source": [
    "for index, message in tqdm(data.messages.iteritems(), total=data.shape[0]):\n",
    "  if message['type'] == 'service':\n",
    "    continue\n",
    "  else:\n",
    "    if type(message['text']) is str:\n",
    "      messages_texts.append({'date': message['date'], 'text': message['text']})\n",
    "    else:\n",
    "      text = ''\n",
    "      for section in message['text']:\n",
    "        if type(section) is str:\n",
    "          text = f'{text}{section}'\n",
    "        else:\n",
    "          text = f\"{text}{section['text']}\"\n",
    "\n",
    "      messages_texts.append({'date': message['date'], 'text': text})"
   ],
   "metadata": {
    "colab": {
     "base_uri": "https://localhost:8080/",
     "height": 1000,
     "referenced_widgets": [
      "0b25a42b7e7b402ba72c96e65cca2e56",
      "e065eb93f9194c09a5074d500e6e3cc1",
      "e60ab671902b4f37984ce851ff6b626c",
      "b71eb3e416ac40e4b39eacd263fa65cd",
      "749e453199e149ddbbf45eb0938c36ab",
      "956bdd84db7a4133b29861f0c8dbf9ca",
      "e13734a4baff485f8bab4cda142c33ba",
      "71da99532c6348fd9ae4e56d78d47230",
      "5a27eb6c2713480094c6282e00254956",
      "dd71b329c0414f3787e68d48f8aec4de",
      "702d3afa50e74c73b33e9b332ab0106e"
     ]
    },
    "id": "ah39D_QCaCHP",
    "outputId": "3fcacf63-7a48-4dc5-cc0f-119f2a25723f"
   },
   "execution_count": 9,
   "outputs": [
    {
     "data": {
      "text/plain": "  0%|          | 0/49436 [00:00<?, ?it/s]",
      "application/vnd.jupyter.widget-view+json": {
       "version_major": 2,
       "version_minor": 0,
       "model_id": "8e85deb2891d422baaf3da5d3f0c2101"
      }
     },
     "metadata": {},
     "output_type": "display_data"
    }
   ]
  },
  {
   "cell_type": "code",
   "execution_count": 12,
   "outputs": [],
   "source": [
    "np.save(\"extracted_messages.npy\", np.array(messages_texts))"
   ],
   "metadata": {
    "collapsed": false,
    "pycharm": {
     "name": "#%%\n"
    }
   }
  },
  {
   "cell_type": "code",
   "execution_count": null,
   "outputs": [],
   "source": [],
   "metadata": {
    "collapsed": false,
    "pycharm": {
     "name": "#%%\n"
    }
   }
  }
 ]
}